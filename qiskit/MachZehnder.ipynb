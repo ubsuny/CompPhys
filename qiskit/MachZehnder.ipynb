{
 "cells": [
  {
   "cell_type": "markdown",
   "id": "still-restaurant",
   "metadata": {},
   "source": [
    "# Mach-Zehnder Interferometer as Hadamard gate\n",
    "This notebook uses qiskit to describe the outcome of the Single Photon Mach-Zehnder experiment as a Hadamard gate and a measurement.\n",
    "It serves as a simple example how to describe Quantum Mechanical experiments as a circuit of quantum gates."
   ]
  },
  {
   "cell_type": "markdown",
   "id": "toxic-baking",
   "metadata": {},
   "source": [
    "### Libraries\n",
    "For the first simulation we use the QasmSimulator:\n",
    "\n",
    "> \"The QasmSimulator backend is designed to mimic an actual device. It executes a Qiskit QuantumCircuit and returns a count dictionary containing the final values of any classical registers in the circuit. \n",
    "The circuit may contain gates measure, reset, conditionals, and other advanced simulator options.\" (https://sooluthomas.github.io/testTranslation/aer/simulate_experiments.html)"
   ]
  },
  {
   "cell_type": "code",
   "execution_count": null,
   "id": "fabulous-broadcasting",
   "metadata": {},
   "outputs": [],
   "source": [
    "import numpy as np\n",
    "import qiskit\n",
    "from qiskit import QuantumCircuit, transpile, QuantumRegister, ClassicalRegister, qasm3\n",
    "from qiskit_aer import QasmSimulator, AerSimulator, StatevectorSimulator\n",
    "from qiskit.visualization import plot_histogram"
   ]
  },
  {
   "cell_type": "markdown",
   "id": "better-influence",
   "metadata": {
    "jp-MarkdownHeadingCollapsed": true
   },
   "source": [
    "### Mach-Zehnder interferometer\n",
    "(https://en.wikipedia.org/wiki/Mach–Zehnder_interferometer)\n",
    "![MZ](https://upload.wikimedia.org/wikipedia/commons/thumb/c/c9/Mach-Zehnder_interferometer.svg/640px-Mach-Zehnder_interferometer.svg.png)\n",
    "\n",
    "We can model a photon going through the interferometer by assigning a probability amplitude to each of the two possible paths: \"lower\" and \"upper\" (actually, the way we've drawn the interferometer, you should think of this as \"lower right\" and \"upper left\", with a dashed line going through the diagonal separating the two states). \n",
    "\n",
    "The quantum state describing the photon is a vector $\\psi \\in \\mathbb{C}^2$ that is a superposition (linear combination) of the \"lower\" path basis vector\n",
    "$$\n",
    "\\psi_l = \\begin{pmatrix} \n",
    "0 \\\\\n",
    "1 \n",
    "\\end{pmatrix}\n",
    "$$\n",
    "\n",
    "and the \"upper\" path \n",
    "\n",
    "$$\n",
    "\\psi_u = \\begin{pmatrix} 1 \\\\\n",
    "0 \n",
    "\\end{pmatrix}\n",
    "$$\n",
    "\n",
    "that is, $\\psi = \\alpha \\psi_l + \\beta \\psi_u$ for complex $\\alpha,\\beta$ such that $|\\alpha|^2+|\\beta|^2 = 1$.\n",
    "\n",
    "Both beam splitters are modelled as the unitary matrix \n",
    "\n",
    "$$\n",
    "B = \\frac1{\\sqrt2}\n",
    "\\begin{pmatrix} \n",
    "    1 & i \\\\ \n",
    "    i & 1 \n",
    "\\end{pmatrix}\n",
    "$$\n",
    "\n",
    "which means that when a photon meets the beam splitter it will either stay on the same path with a probability amplitude of $1/\\sqrt{2}$, or be reflected to the other path with a probability amplitude of $i/\\sqrt{2}$. Note that besides splitting the beam, there is a phase shift induced for the reflected beam (the $i/\\sqrt{2}$). \n",
    "\n",
    "The phase shifter on the upper arm is modelled as the unitary matrix \n",
    "\n",
    "$$\n",
    "P = \n",
    "\\begin{pmatrix} \n",
    "    e^{i\\Delta\\Phi}  & 0 \\\\\n",
    "    0 & 1\n",
    "\\end{pmatrix}\n",
    "$$\n",
    "\n",
    "which means that if the photon is on the \"upper\" path it will gain a relative phase of $\\Delta\\Phi$, and it will stay unchanged if it is on the lower path.\n",
    "\n",
    "Let's go through each operator. A photon that enters the interferometer from the left starts in the \"upper\" state, $\\psi_u$. After the first beam splitter, the state becomes:\n",
    "\n",
    "$$\n",
    "\\begin{aligned}\n",
    "B \\psi_u &=\\begin{pmatrix} 1/\\sqrt{2} & i/\\sqrt{2} \\\\ i/\\sqrt{2} & 1/\\sqrt{2}\\end{pmatrix} \\begin{pmatrix} 1 \\\\ 0 \\end{pmatrix}\\\\\n",
    "&= \\begin{pmatrix} 1/\\sqrt{2} \\\\ i/\\sqrt{2} \\end{pmatrix}\n",
    "\\end{aligned}\n",
    "$$\n",
    "\n",
    "After the phase shifter:\n",
    "$$\n",
    "\\begin{aligned}\n",
    "P B \\psi_u &= \\begin{pmatrix} e^{i\\Delta\\Phi} & 0 \\\\ 0 & 1 \\end{pmatrix} \\begin{pmatrix} 1/\\sqrt{2} \\\\ i/\\sqrt{2} \\end{pmatrix} \\\\\n",
    "&= \\begin{pmatrix} e^{i\\Delta\\Phi}/\\sqrt{2} \\\\ i/\\sqrt{2} \\end{pmatrix}\n",
    "\\end{aligned}\n",
    "$$\n",
    "\n",
    "And finally, after the second beam splitter:\n",
    "\n",
    "$$\n",
    "\\begin{aligned}\n",
    "BPB \\psi_u &= \\begin{pmatrix} 1/\\sqrt{2} & i/\\sqrt{2} \\\\ i/\\sqrt{2} & 1/\\sqrt{2}\\end{pmatrix} \\begin{pmatrix} e^{i\\Delta\\Phi}/\\sqrt{2} \\\\ i/\\sqrt{2} \\end{pmatrix} \\\\\n",
    "&= \\frac{1}{2}\\begin{pmatrix} e^{i\\Delta\\Phi}-1 \\\\ i e^{i\\Delta\\Phi} + i \\end{pmatrix} \\\\\n",
    "&= \\frac{i}{2} e^{i\\Delta\\Phi/2} \\begin{pmatrix} \\sin{\\frac{\\Delta\\Phi}{2}} \\\\ \\cos{\\frac{\\Delta\\Phi}{2}} \\end{pmatrix}\n",
    "\\end{aligned}\n",
    "$$\n",
    "\n",
    "\n",
    "The probabilities that it will be detected at the right or at the top are given respectively by:\n",
    "\n",
    "$$ \n",
    "\\begin{aligned}\n",
    "p(u) &= |\\langle \\psi_u| BPB|\\psi_u \\rangle|^2 = \\sin^2 \\frac{\\Delta \\Phi}{2}\\\\\n",
    "p(l) &= |\\langle \\psi_l| BPB|\\psi_l \\rangle|^2 = \\cos^2 \\frac{\\Delta \\Phi}{2}\n",
    "\\end{aligned}\n",
    "$$\n",
    "\n",
    "One can therefore use the Mach–Zehnder interferometer to estimate the Phase by estimating these probabilities.\n",
    "\n",
    "As an exercise, consider another case where we block one path, say the lower path, by placing a concrete block in front of the lower mirror. This \"zeros\" out the lower component of the state vector in between the two beam splitters. If you calculate these operations, you should find that $p(u)=p(l)=1/2$. This makes sense intuitively: by blocking one path, there is no longer any interference, so we have restored a \"classical\" sort of behavior with equal probabilities. \n"
   ]
  },
  {
   "cell_type": "markdown",
   "id": "gothic-drive",
   "metadata": {},
   "source": [
    "## Hadamard Gate - Model\n",
    "For our model circuit we can now assume that the photon is in a superposition of the top and bottom path.\n",
    "The quamtum logical gate that constructs a superposition is called the Hadamard gate: (https://en.wikipedia.org/wiki/Quantum_logic_gate#Hadamard_(H)_gate)\n",
    "\n",
    "![Hadamard matrix](https://upload.wikimedia.org/wikipedia/commons/thumb/1/1a/Hadamard_gate.svg/320px-Hadamard_gate.svg.png)\n",
    "\n",
    "which can act on a single qubit (in our case the Mach-Zehnder Interferometer).\n",
    "\n",
    "It maps the basis state $|0\\rangle$ to $\\frac{|0\\rangle + |1\\rangle}{\\sqrt{2}}$ and  $|1\\rangle$ to $\\frac{|0\\rangle - |1\\rangle}{\\sqrt{2}}$, which means that a measurement will have equal probabilities to result in 1 or 0 (i.e. creates a superposition).\n",
    "It represents a rotation of $\\pi$ about the axis $(\\hat{x}+\\hat{z})/\\sqrt{2}$ at the Bloch sphere (see plotting the state vector below). \n",
    "Equivalently, it is the combination of two rotations,  $\\pi$ about the Z-axis, then by $\\pi/2$ about the Y-axis: \n",
    "\n",
    "$$ \n",
    "R_y(\\pi/2)R_z(\\pi) = iH\n",
    "$$\n",
    "\n",
    "It is represented by the Hadamard matrix:\n",
    "\n",
    "$$H = \\frac{1}{\\sqrt{2}} \n",
    "\\begin{bmatrix} \n",
    "1 & 1 \\\\\n",
    "1 & -1 \n",
    "\\end{bmatrix}\n",
    "$$\n",
    "\n",
    "Since $HH^\\dagger=H^{\\dagger}H=I$ where $I$ is the identity matrix, $H$ is a unitary matrix (like all other quantum logical gates)."
   ]
  },
  {
   "cell_type": "markdown",
   "id": "necessary-showcase",
   "metadata": {},
   "source": [
    "### Create Quantum circuit"
   ]
  },
  {
   "cell_type": "code",
   "execution_count": null,
   "id": "certain-gibson",
   "metadata": {},
   "outputs": [],
   "source": [
    "# Create a Quantum Circuit acting on the q register\n",
    "circuit = QuantumCircuit(QuantumRegister(1), ClassicalRegister(1))\n",
    "\n",
    "# Add a H gate on qubit 0\n",
    "circuit.h(0)\n",
    "#circuit.z(0)\n",
    "#circuit.h(0)\n",
    "\n",
    "# Map the quantum measurement to the classical bits\n",
    "circuit.measure([0], [0])\n",
    "\n",
    "# Draw the circuit\n",
    "circuit.draw()"
   ]
  },
  {
   "cell_type": "markdown",
   "id": "higher-companion",
   "metadata": {},
   "source": [
    "### Simulate the quantum circuit"
   ]
  },
  {
   "cell_type": "code",
   "execution_count": null,
   "id": "genuine-garden",
   "metadata": {},
   "outputs": [],
   "source": [
    "# Use Aer's qasm_simulator\n",
    "qasm_simulator = QasmSimulator()\n",
    "\n",
    "# transpile the circuit down to low-level QASM instructions\n",
    "# supported by the backend (not needed for simple circuits)\n",
    "# https://en.wikipedia.org/wiki/Source-to-source_compiler\n",
    "compiled_circuit = transpile(circuit, qasm_simulator)"
   ]
  },
  {
   "cell_type": "code",
   "execution_count": null,
   "id": "spanish-feature",
   "metadata": {},
   "outputs": [],
   "source": [
    "# print low level code: open Quantum Assembler\n",
    "print(qasm3.dumps(compiled_circuit))\n",
    "#print(compiled_circuit.qasm())"
   ]
  },
  {
   "cell_type": "code",
   "execution_count": null,
   "id": "alien-trash",
   "metadata": {},
   "outputs": [],
   "source": [
    "# Execute the circuit on the qasm simulator\n",
    "job = qasm_simulator.run(compiled_circuit, shots=1000)\n",
    "\n",
    "# Grab results from the job\n",
    "result = job.result()\n",
    "\n",
    "# Returns counts\n",
    "counts = result.get_counts(circuit)\n",
    "print(\"\\nTotal count for 00 and 11 are:\",counts)"
   ]
  },
  {
   "cell_type": "code",
   "execution_count": null,
   "id": "sonic-issue",
   "metadata": {},
   "outputs": [],
   "source": [
    "# Plot a histogram\n",
    "plot_histogram(counts)"
   ]
  },
  {
   "cell_type": "markdown",
   "id": "declared-circus",
   "metadata": {},
   "source": [
    "## Plot the state vector\n",
    "To plot the state vector we do not need to (should not) do a measurement.\n",
    "You can use the QasmSimulator backend and the `SaveStateVector` function, or use another simulator made for this purpose:\n",
    "\n",
    "'statevector_simulator'"
   ]
  },
  {
   "cell_type": "code",
   "execution_count": null,
   "id": "short-match",
   "metadata": {},
   "outputs": [],
   "source": [
    "#from qiskit import BasicAer, execute\n",
    "from qiskit.visualization import plot_state_city, plot_bloch_multivector\n",
    "from qiskit.visualization import plot_state_paulivec, plot_state_hinton\n",
    "from qiskit.visualization import plot_state_qsphere"
   ]
  },
  {
   "cell_type": "code",
   "execution_count": null,
   "id": "stone-consent",
   "metadata": {},
   "outputs": [],
   "source": [
    "circuit.draw()"
   ]
  },
  {
   "cell_type": "markdown",
   "id": "particular-affiliate",
   "metadata": {},
   "source": [
    "Let's redo our circuit, splitting the circuit and the measurement"
   ]
  },
  {
   "cell_type": "code",
   "execution_count": null,
   "id": "altered-street",
   "metadata": {},
   "outputs": [],
   "source": [
    "# Create a Quantum Circuit acting on the q register\n",
    "qr = QuantumRegister(1)\n",
    "qc = QuantumCircuit(qr)\n",
    "\n",
    "# Add a H gate on qubit 0\n",
    "qc.h(0)\n",
    "qc.draw()"
   ]
  },
  {
   "cell_type": "code",
   "execution_count": null,
   "id": "veterinary-dimension",
   "metadata": {},
   "outputs": [],
   "source": [
    "# execute the quantum circuit\n",
    "#backend = StateVectorSimulator AerSimulator.get_backend('statevector_simulator') # the device to run on\n",
    "sv_simulator = StatevectorSimulator()\n",
    "qc = transpile(qc, sv_simulator)\n",
    "job = sv_simulator.run(qc)\n",
    "result = job.result()\n",
    "psi  = result.get_statevector(qc)"
   ]
  },
  {
   "cell_type": "code",
   "execution_count": null,
   "id": "frank-archive",
   "metadata": {},
   "outputs": [],
   "source": [
    "plot_state_city(psi)"
   ]
  },
  {
   "cell_type": "code",
   "execution_count": null,
   "id": "opposed-chemistry",
   "metadata": {},
   "outputs": [],
   "source": [
    "plot_bloch_multivector(psi)"
   ]
  },
  {
   "cell_type": "markdown",
   "id": "surrounded-vintage",
   "metadata": {},
   "source": [
    "## Combining Quantum Circuits"
   ]
  },
  {
   "cell_type": "code",
   "execution_count": null,
   "id": "voluntary-front",
   "metadata": {},
   "outputs": [],
   "source": [
    "# measurement circuit\n",
    "meas = QuantumCircuit(qr, ClassicalRegister(1))\n",
    "meas.measure(qr,[0])\n",
    "# Draw the circuit\n",
    "meas.draw()"
   ]
  },
  {
   "cell_type": "code",
   "execution_count": null,
   "id": "portuguese-nicaragua",
   "metadata": {},
   "outputs": [],
   "source": [
    "qc_cc = qc.compose(meas)\n",
    "#circ = qcirc+meas\n",
    "qc_cc.draw()"
   ]
  },
  {
   "cell_type": "code",
   "execution_count": null,
   "id": "careful-broadcasting",
   "metadata": {},
   "outputs": [],
   "source": [
    "qc_cc = transpile(qc_cc, qasm_simulator)\n",
    "job = qasm_simulator.run(qc_cc, shots=1000)\n",
    "result = job.result()\n",
    "#result = execute(circ, backend, shots=1000).result()\n",
    "counts  = result.get_counts(qc_cc)\n",
    "print(counts)"
   ]
  },
  {
   "cell_type": "code",
   "execution_count": null,
   "id": "ordinary-meditation",
   "metadata": {},
   "outputs": [],
   "source": [
    "plot_histogram(counts)"
   ]
  }
 ],
 "metadata": {
  "kernelspec": {
   "display_name": "Python 3 (ipykernel)",
   "language": "python",
   "name": "python3"
  },
  "language_info": {
   "codemirror_mode": {
    "name": "ipython",
    "version": 3
   },
   "file_extension": ".py",
   "mimetype": "text/x-python",
   "name": "python",
   "nbconvert_exporter": "python",
   "pygments_lexer": "ipython3",
   "version": "3.12.3"
  }
 },
 "nbformat": 4,
 "nbformat_minor": 5
}
