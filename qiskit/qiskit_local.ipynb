{
 "cells": [
  {
   "cell_type": "code",
   "execution_count": 3,
   "id": "7721c5f9-e855-453d-a410-ee71ea2e027e",
   "metadata": {},
   "outputs": [],
   "source": [
    "import numpy as np\n",
    "import qiskit\n",
    "from qiskit.quantum_info import Statevector\n"
   ]
  },
  {
   "cell_type": "code",
   "execution_count": 5,
   "id": "6e14a457-eb48-4c35-93fd-84d287a7f058",
   "metadata": {},
   "outputs": [],
   "source": [
    "u = Statevector([1 / np.sqrt(2), 1 / np.sqrt(2)])\n",
    "v = Statevector([(1 + 2.0j) / 3, -2 / 3])\n",
    "w = Statevector([1 / 3, 2 / 3])\n"
   ]
  },
  {
   "cell_type": "code",
   "execution_count": 14,
   "id": "6ae9b6d1-0425-4eba-b599-b2127c489f18",
   "metadata": {},
   "outputs": [
    {
     "name": "stdout",
     "output_type": "stream",
     "text": [
      "0\n",
      "Statevector([0.4472136+0.89442719j, 0.       +0.j        ],\n",
      "            dims=(2,))\n"
     ]
    }
   ],
   "source": [
    "measurement, outcome = v.measure()\n",
    "print(measurement)\n",
    "print(outcome)"
   ]
  },
  {
   "cell_type": "code",
   "execution_count": 7,
   "id": "7cc25861-2c43-40c1-9388-7c8319d3c6c4",
   "metadata": {},
   "outputs": [
    {
     "name": "stdout",
     "output_type": "stream",
     "text": [
      "Statevector([ 0.33333333+0.66666667j, -0.66666667+0.j        ],\n",
      "            dims=(2,))\n"
     ]
    }
   ],
   "source": [
    "print(v)"
   ]
  },
  {
   "cell_type": "code",
   "execution_count": 21,
   "id": "5dec1b20-b856-402c-83b5-4afd40f02bf8",
   "metadata": {},
   "outputs": [
    {
     "data": {
      "text/latex": [
       "$$\\frac{\\sqrt{2}}{2} |0\\rangle+\\frac{\\sqrt{2}}{2} |1\\rangle$$"
      ],
      "text/plain": [
       "<IPython.core.display.Latex object>"
      ]
     },
     "metadata": {},
     "output_type": "display_data"
    },
    {
     "data": {
      "text/latex": [
       "$$\\frac{\\sqrt{2}}{2} |0\\rangle- \\frac{\\sqrt{2}}{2} |1\\rangle$$"
      ],
      "text/plain": [
       "<IPython.core.display.Latex object>"
      ]
     },
     "metadata": {},
     "output_type": "display_data"
    },
    {
     "data": {
      "text/latex": [
       "$$\\frac{\\sqrt{2}}{2} |0\\rangle+\\frac{\\sqrt{2} i}{2} |1\\rangle$$"
      ],
      "text/plain": [
       "<IPython.core.display.Latex object>"
      ]
     },
     "metadata": {},
     "output_type": "display_data"
    },
    {
     "data": {
      "text/latex": [
       "$$\\frac{\\sqrt{2}}{2} |0\\rangle- \\frac{\\sqrt{2} i}{2} |1\\rangle$$"
      ],
      "text/plain": [
       "<IPython.core.display.Latex object>"
      ]
     },
     "metadata": {},
     "output_type": "display_data"
    }
   ],
   "source": [
    "plus = Statevector.from_label(\"+\")\n",
    "display(plus.draw(\"latex\"))\n",
    "minus = Statevector.from_label(\"-\")\n",
    "display(minus.draw(\"latex\"))\n",
    "r = Statevector.from_label(\"r\")\n",
    "display(r.draw(\"latex\"))\n",
    "l = Statevector.from_label(\"l\")\n",
    "display(l.draw(\"latex\"))"
   ]
  },
  {
   "cell_type": "code",
   "execution_count": 24,
   "id": "9ea29f1f-f91f-4257-b1d5-c4f6b8a05830",
   "metadata": {},
   "outputs": [
    {
     "data": {
      "text/latex": [
       "$$\\frac{1}{2} |00\\rangle- \\frac{1}{2} |01\\rangle+\\frac{1}{2} |10\\rangle- \\frac{1}{2} |11\\rangle$$"
      ],
      "text/plain": [
       "<IPython.core.display.Latex object>"
      ]
     },
     "metadata": {},
     "output_type": "display_data"
    }
   ],
   "source": [
    "display((plus ^ minus).draw(\"latex\"))"
   ]
  },
  {
   "cell_type": "code",
   "execution_count": null,
   "id": "ed254344-8c38-4f9d-a3fc-996f006c2f8d",
   "metadata": {},
   "outputs": [],
   "source": []
  }
 ],
 "metadata": {
  "kernelspec": {
   "display_name": "Python 3 (ipykernel)",
   "language": "python",
   "name": "python3"
  },
  "language_info": {
   "codemirror_mode": {
    "name": "ipython",
    "version": 3
   },
   "file_extension": ".py",
   "mimetype": "text/x-python",
   "name": "python",
   "nbconvert_exporter": "python",
   "pygments_lexer": "ipython3",
   "version": "3.13.2"
  }
 },
 "nbformat": 4,
 "nbformat_minor": 5
}
