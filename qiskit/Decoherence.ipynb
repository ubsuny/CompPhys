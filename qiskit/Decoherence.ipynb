{
 "cells": [
  {
   "cell_type": "markdown",
   "metadata": {},
   "source": [
    "# *Relaxation and Decoherence* \n",
    "from (\n",
    "\n",
    "This notebook gives examples for how to use the ``ignis.characterization.coherence`` module for measuring $T_1$ and $T_2$."
   ]
  },
  {
   "cell_type": "code",
   "execution_count": null,
   "metadata": {},
   "outputs": [],
   "source": [
    "import numpy as np\n",
    "import matplotlib.pyplot as plt\n",
    "\n",
    "import qiskit\n",
    "from qiskit.providers.aer.noise.errors.standard_errors import thermal_relaxation_error\n",
    "from qiskit.providers.aer.noise import NoiseModel\n",
    "\n",
    "from qiskit.ignis.characterization.coherence import T1Fitter, T2StarFitter, T2Fitter\n",
    "from qiskit.ignis.characterization.coherence import t1_circuits, t2_circuits, t2star_circuits"
   ]
  },
  {
   "cell_type": "markdown",
   "metadata": {},
   "source": [
    "## Generation of coherence circuits"
   ]
  },
  {
   "cell_type": "markdown",
   "metadata": {},
   "source": [
    "This shows how to generate the circuits. The list of qubits specifies for which qubits to generate characterization circuits; these circuits will run in parallel. The discrete unit of time is the identity gate (``iden``) and so the user must specify the time of each identity gate if they would like the characterization parameters returned in units of time. This should be available from the backend."
   ]
  },
  {
   "cell_type": "code",
   "execution_count": null,
   "metadata": {
    "ExecuteTime": {
     "end_time": "2018-12-18T15:34:52.275440Z",
     "start_time": "2018-12-18T15:32:05.667514Z"
    }
   },
   "outputs": [],
   "source": [
    "num_of_gates = (np.linspace(10, 300, 50)).astype(int)\n",
    "gate_time = 0.1\n",
    "\n",
    "# Note that it is possible to measure several qubits in parallel\n",
    "qubits = [0, 2]\n",
    "\n",
    "t1_circs, t1_xdata = t1_circuits(num_of_gates, gate_time, qubits)\n",
    "t2star_circs, t2star_xdata, osc_freq = t2star_circuits(num_of_gates, gate_time, qubits, nosc=5)\n",
    "t2echo_circs, t2echo_xdata = t2_circuits(np.floor(num_of_gates/2).astype(int), \n",
    "                                         gate_time, qubits)\n",
    "t2cpmg_circs, t2cpmg_xdata = t2_circuits(np.floor(num_of_gates/6).astype(int), \n",
    "                                         gate_time, qubits, \n",
    "                                         n_echos=5, phase_alt_echo=True)"
   ]
  },
  {
   "cell_type": "markdown",
   "metadata": {},
   "source": [
    "## Backend execution"
   ]
  },
  {
   "cell_type": "code",
   "execution_count": null,
   "metadata": {},
   "outputs": [],
   "source": [
    "backend = qiskit.Aer.get_backend('qasm_simulator')\n",
    "shots = 400\n",
    "\n",
    "# Let the simulator simulate the following times for qubits 0 and 2:\n",
    "t_q0 = 25.0\n",
    "t_q2 = 15.0\n",
    "\n",
    "# Define T1 and T2 noise:\n",
    "t1_noise_model = NoiseModel()\n",
    "t1_noise_model.add_quantum_error(\n",
    "    thermal_relaxation_error(t_q0, 2*t_q0, gate_time), \n",
    "    'id', [0])\n",
    "t1_noise_model.add_quantum_error(\n",
    "    thermal_relaxation_error(t_q2, 2*t_q2, gate_time), \n",
    "    'id', [2])\n",
    "\n",
    "t2_noise_model = NoiseModel()\n",
    "t2_noise_model.add_quantum_error(\n",
    "    thermal_relaxation_error(np.inf, t_q0, gate_time, 0.5), \n",
    "    'id', [0])\n",
    "t2_noise_model.add_quantum_error(\n",
    "    thermal_relaxation_error(np.inf, t_q2, gate_time, 0.5), \n",
    "    'id', [2])\n",
    "\n",
    "# Run the simulator\n",
    "t1_backend_result = qiskit.execute(t1_circs, backend, shots=shots,\n",
    "                                   noise_model=t1_noise_model, optimization_level=0).result()\n",
    "t2star_backend_result = qiskit.execute(t2star_circs, backend, shots=shots,\n",
    "                                       noise_model=t2_noise_model, optimization_level=0).result()\n",
    "t2echo_backend_result = qiskit.execute(t2echo_circs, backend, shots=shots,\n",
    "                                       noise_model=t2_noise_model, optimization_level=0).result()\n",
    "\n",
    "# It is possible to split the circuits into multiple jobs and then give the results to the fitter as a list:\n",
    "t2cpmg_backend_result1 = qiskit.execute(t2cpmg_circs[0:5], backend,\n",
    "                                        shots=shots, noise_model=t2_noise_model,\n",
    "                                        optimization_level=0).result()\n",
    "t2cpmg_backend_result2 = qiskit.execute(t2cpmg_circs[5:], backend,\n",
    "                                        shots=shots, noise_model=t2_noise_model,\n",
    "                                        optimization_level=0).result()"
   ]
  },
  {
   "cell_type": "markdown",
   "metadata": {},
   "source": [
    "## Analysis of results"
   ]
  },
  {
   "cell_type": "code",
   "execution_count": null,
   "metadata": {},
   "outputs": [],
   "source": [
    "# Fitting T1\n",
    "\n",
    "%matplotlib inline\n",
    "\n",
    "plt.figure(figsize=(15, 6))\n",
    "\n",
    "t1_fit = T1Fitter(t1_backend_result, t1_xdata, qubits,\n",
    "                  fit_p0=[1, t_q0, 0],\n",
    "                  fit_bounds=([0, 0, -1], [2, 40, 1]))\n",
    "print(t1_fit.time())\n",
    "print(t1_fit.time_err())\n",
    "print(t1_fit.params)\n",
    "print(t1_fit.params_err)\n",
    "\n",
    "for i in range(2):\n",
    "    ax = plt.subplot(1, 2, i+1)\n",
    "    t1_fit.plot(i, ax=ax)\n",
    "plt.show()"
   ]
  },
  {
   "cell_type": "markdown",
   "metadata": {},
   "source": [
    "Execute the backend again to get more statistics, and add the results to the previous ones:"
   ]
  },
  {
   "cell_type": "code",
   "execution_count": null,
   "metadata": {},
   "outputs": [],
   "source": [
    "t1_backend_result_new = qiskit.execute(t1_circs, backend,\n",
    "                                       shots=shots, noise_model=t1_noise_model,\n",
    "                                       optimization_level=0).result()\n",
    "t1_fit.add_data(t1_backend_result_new)\n",
    "\n",
    "plt.figure(figsize=(15, 6))\n",
    "for i in range(2):\n",
    "    ax = plt.subplot(1, 2, i+1)\n",
    "    t1_fit.plot(i, ax=ax)    \n",
    "plt.show()"
   ]
  },
  {
   "cell_type": "code",
   "execution_count": null,
   "metadata": {
    "tags": [
     "nbsphinx-thumbnail"
    ]
   },
   "outputs": [],
   "source": [
    "# Fitting T2*\n",
    "\n",
    "%matplotlib inline\n",
    "\n",
    "t2star_fit = T2StarFitter(t2star_backend_result, t2star_xdata, qubits,\n",
    "                          fit_p0=[0.5, t_q0, osc_freq, 0, 0.5],\n",
    "                          fit_bounds=([-0.5, 0, 0, -np.pi, -0.5],\n",
    "                                      [1.5, 40, 2*osc_freq, np.pi, 1.5]))\n",
    "\n",
    "plt.figure(figsize=(15, 6))\n",
    "for i in range(2):\n",
    "    ax = plt.subplot(1, 2, i+1)\n",
    "    t2star_fit.plot(i, ax=ax)    \n",
    "plt.show()"
   ]
  },
  {
   "cell_type": "code",
   "execution_count": null,
   "metadata": {},
   "outputs": [],
   "source": [
    "# Fitting T2 single echo\n",
    "\n",
    "%matplotlib inline\n",
    "\n",
    "t2echo_fit = T2Fitter(t2echo_backend_result, t2echo_xdata, qubits,\n",
    "                      fit_p0=[0.5, t_q0, 0.5],\n",
    "                      fit_bounds=([-0.5, 0, -0.5],\n",
    "                                  [1.5, 40, 1.5]))\n",
    "\n",
    "print(t2echo_fit.params)\n",
    "\n",
    "plt.figure(figsize=(15, 6))\n",
    "for i in range(2):\n",
    "    ax = plt.subplot(1, 2, i+1)\n",
    "    t2echo_fit.plot(i, ax=ax)    \n",
    "plt.show()"
   ]
  },
  {
   "cell_type": "code",
   "execution_count": null,
   "metadata": {},
   "outputs": [],
   "source": [
    "# Fitting T2 CPMG\n",
    "\n",
    "%matplotlib inline\n",
    "\n",
    "t2cpmg_fit = T2Fitter([t2cpmg_backend_result1, t2cpmg_backend_result2],\n",
    "                      t2cpmg_xdata, qubits,\n",
    "                      fit_p0=[0.5, t_q0, 0.5],\n",
    "                      fit_bounds=([-0.5, 0, -0.5],\n",
    "                                  [1.5, 40, 1.5]))\n",
    "\n",
    "plt.figure(figsize=(15, 6))\n",
    "for i in range(2):\n",
    "    ax = plt.subplot(1, 2, i+1)\n",
    "    t2cpmg_fit.plot(i, ax=ax)\n",
    "plt.show()"
   ]
  },
  {
   "cell_type": "code",
   "execution_count": null,
   "metadata": {
    "ExecuteTime": {
     "end_time": "2019-08-22T01:30:54.922391Z",
     "start_time": "2019-08-22T01:30:54.914268Z"
    }
   },
   "outputs": [],
   "source": [
    "import qiskit.tools.jupyter\n",
    "%qiskit_version_table\n",
    "%qiskit_copyright"
   ]
  },
  {
   "cell_type": "code",
   "execution_count": null,
   "metadata": {},
   "outputs": [],
   "source": []
  }
 ],
 "metadata": {
  "anaconda-cloud": {},
  "hide_input": false,
  "kernelspec": {
   "display_name": "Python 3 (ipykernel)",
   "language": "python",
   "name": "python3"
  },
  "language_info": {
   "codemirror_mode": {
    "name": "ipython",
    "version": 3
   },
   "file_extension": ".py",
   "mimetype": "text/x-python",
   "name": "python",
   "nbconvert_exporter": "python",
   "pygments_lexer": "ipython3",
   "version": "3.12.3"
  },
  "nteract": {
   "version": "0.22.0"
  },
  "varInspector": {
   "cols": {
    "lenName": 16,
    "lenType": 16,
    "lenVar": 40
   },
   "kernels_config": {
    "python": {
     "delete_cmd_postfix": "",
     "delete_cmd_prefix": "del ",
     "library": "var_list.py",
     "varRefreshCmd": "print(var_dic_list())"
    },
    "r": {
     "delete_cmd_postfix": ") ",
     "delete_cmd_prefix": "rm(",
     "library": "var_list.r",
     "varRefreshCmd": "cat(var_dic_list()) "
    }
   },
   "types_to_exclude": [
    "module",
    "function",
    "builtin_function_or_method",
    "instance",
    "_Feature"
   ],
   "window_display": false
  }
 },
 "nbformat": 4,
 "nbformat_minor": 4
}
