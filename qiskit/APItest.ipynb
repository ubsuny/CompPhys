{
 "cells": [
  {
   "cell_type": "markdown",
   "metadata": {},
   "source": [
    "# IBM quantum API access test\n",
    "please refer to READ.ME for instruction how to use github secrets to run this test successfully \n",
    "\n",
    "adapted from [qiskit runtime documentation](https://github.com/Qiskit/qiskit-ibm-runtime#account-setup)"
   ]
  },
  {
   "cell_type": "code",
   "execution_count": 1,
   "metadata": {},
   "outputs": [],
   "source": [
    "from qiskit_ibm_runtime import QiskitRuntimeService"
   ]
  },
  {
   "cell_type": "code",
   "execution_count": 7,
   "metadata": {},
   "outputs": [
    {
     "name": "stderr",
     "output_type": "stream",
     "text": [
      "qiskit_runtime_service._discover_account:WARNING:2025-10-05 14:54:11,078: Loading account with the given token. A saved account will not be used.\n"
     ]
    },
    {
     "name": "stdout",
     "output_type": "stream",
     "text": [
      "IBMid-69600161RH\n"
     ]
    },
    {
     "ename": "InvalidAccountError",
     "evalue": "'Unable to retrieve instances. Please check that you are using a valid API token.'",
     "output_type": "error",
     "traceback": [
      "\u001b[31m---------------------------------------------------------------------------\u001b[39m",
      "\u001b[31mApiException\u001b[39m                              Traceback (most recent call last)",
      "\u001b[36mFile \u001b[39m\u001b[32m~/Documents/Buffalo/PHY410/Prep/venv/lib/python3.13/site-packages/qiskit_ibm_runtime/accounts/account.py:327\u001b[39m, in \u001b[36mCloudAccount.list_instances\u001b[39m\u001b[34m(self)\u001b[39m\n\u001b[32m    326\u001b[39m \u001b[38;5;28;01mtry\u001b[39;00m:\n\u001b[32m--> \u001b[39m\u001b[32m327\u001b[39m     result = \u001b[43mclient\u001b[49m\u001b[43m.\u001b[49m\u001b[43msearch\u001b[49m\u001b[43m(\u001b[49m\n\u001b[32m    328\u001b[39m \u001b[43m        \u001b[49m\u001b[43mquery\u001b[49m\u001b[43m=\u001b[49m\u001b[33;43m\"\u001b[39;49m\u001b[33;43mservice_name:quantum-computing\u001b[39;49m\u001b[33;43m\"\u001b[39;49m\u001b[43m,\u001b[49m\n\u001b[32m    329\u001b[39m \u001b[43m        \u001b[49m\u001b[43mfields\u001b[49m\u001b[43m=\u001b[49m\u001b[43m[\u001b[49m\n\u001b[32m    330\u001b[39m \u001b[43m            \u001b[49m\u001b[33;43m\"\u001b[39;49m\u001b[33;43mcrn\u001b[39;49m\u001b[33;43m\"\u001b[39;49m\u001b[43m,\u001b[49m\n\u001b[32m    331\u001b[39m \u001b[43m            \u001b[49m\u001b[33;43m\"\u001b[39;49m\u001b[33;43mservice_plan_unique_id\u001b[39;49m\u001b[33;43m\"\u001b[39;49m\u001b[43m,\u001b[49m\n\u001b[32m    332\u001b[39m \u001b[43m            \u001b[49m\u001b[33;43m\"\u001b[39;49m\u001b[33;43mname\u001b[39;49m\u001b[33;43m\"\u001b[39;49m\u001b[43m,\u001b[49m\n\u001b[32m    333\u001b[39m \u001b[43m            \u001b[49m\u001b[33;43m\"\u001b[39;49m\u001b[33;43mdoc\u001b[39;49m\u001b[33;43m\"\u001b[39;49m\u001b[43m,\u001b[49m\n\u001b[32m    334\u001b[39m \u001b[43m            \u001b[49m\u001b[33;43m\"\u001b[39;49m\u001b[33;43mtags\u001b[39;49m\u001b[33;43m\"\u001b[39;49m\u001b[43m,\u001b[49m\n\u001b[32m    335\u001b[39m \u001b[43m        \u001b[49m\u001b[43m]\u001b[49m\u001b[43m,\u001b[49m\n\u001b[32m    336\u001b[39m \u001b[43m        \u001b[49m\u001b[43msearch_cursor\u001b[49m\u001b[43m=\u001b[49m\u001b[43msearch_cursor\u001b[49m\u001b[43m,\u001b[49m\n\u001b[32m    337\u001b[39m \u001b[43m        \u001b[49m\u001b[43mlimit\u001b[49m\u001b[43m=\u001b[49m\u001b[32;43m100\u001b[39;49m\u001b[43m,\u001b[49m\n\u001b[32m    338\u001b[39m \u001b[43m    \u001b[49m\u001b[43m)\u001b[49m.get_result()\n\u001b[32m    339\u001b[39m \u001b[38;5;28;01mexcept\u001b[39;00m:\n",
      "\u001b[36mFile \u001b[39m\u001b[32m~/Documents/Buffalo/PHY410/Prep/venv/lib/python3.13/site-packages/ibm_platform_services/global_search_v2.py:228\u001b[39m, in \u001b[36mGlobalSearchV2.search\u001b[39m\u001b[34m(self, query, fields, search_cursor, x_request_id, x_correlation_id, account_id, limit, timeout, sort, is_deleted, is_reclaimed, impersonate_user, can_tag, is_project_resource, **kwargs)\u001b[39m\n\u001b[32m    227\u001b[39m url = \u001b[33m'\u001b[39m\u001b[33m/v3/resources/search\u001b[39m\u001b[33m'\u001b[39m\n\u001b[32m--> \u001b[39m\u001b[32m228\u001b[39m request = \u001b[38;5;28;43mself\u001b[39;49m\u001b[43m.\u001b[49m\u001b[43mprepare_request\u001b[49m\u001b[43m(\u001b[49m\n\u001b[32m    229\u001b[39m \u001b[43m    \u001b[49m\u001b[43mmethod\u001b[49m\u001b[43m=\u001b[49m\u001b[33;43m'\u001b[39;49m\u001b[33;43mPOST\u001b[39;49m\u001b[33;43m'\u001b[39;49m\u001b[43m,\u001b[49m\n\u001b[32m    230\u001b[39m \u001b[43m    \u001b[49m\u001b[43murl\u001b[49m\u001b[43m=\u001b[49m\u001b[43murl\u001b[49m\u001b[43m,\u001b[49m\n\u001b[32m    231\u001b[39m \u001b[43m    \u001b[49m\u001b[43mheaders\u001b[49m\u001b[43m=\u001b[49m\u001b[43mheaders\u001b[49m\u001b[43m,\u001b[49m\n\u001b[32m    232\u001b[39m \u001b[43m    \u001b[49m\u001b[43mparams\u001b[49m\u001b[43m=\u001b[49m\u001b[43mparams\u001b[49m\u001b[43m,\u001b[49m\n\u001b[32m    233\u001b[39m \u001b[43m    \u001b[49m\u001b[43mdata\u001b[49m\u001b[43m=\u001b[49m\u001b[43mdata\u001b[49m\u001b[43m,\u001b[49m\n\u001b[32m    234\u001b[39m \u001b[43m\u001b[49m\u001b[43m)\u001b[49m\n\u001b[32m    236\u001b[39m response = \u001b[38;5;28mself\u001b[39m.send(request, **kwargs)\n",
      "\u001b[36mFile \u001b[39m\u001b[32m~/Documents/Buffalo/PHY410/Prep/venv/lib/python3.13/site-packages/ibm_cloud_sdk_core/base_service.py:441\u001b[39m, in \u001b[36mBaseService.prepare_request\u001b[39m\u001b[34m(self, method, url, headers, params, data, files, **kwargs)\u001b[39m\n\u001b[32m    439\u001b[39m request[\u001b[33m'\u001b[39m\u001b[33mdata\u001b[39m\u001b[33m'\u001b[39m] = data\n\u001b[32m--> \u001b[39m\u001b[32m441\u001b[39m \u001b[38;5;28;43mself\u001b[39;49m\u001b[43m.\u001b[49m\u001b[43mauthenticator\u001b[49m\u001b[43m.\u001b[49m\u001b[43mauthenticate\u001b[49m\u001b[43m(\u001b[49m\u001b[43mrequest\u001b[49m\u001b[43m)\u001b[49m\n\u001b[32m    443\u001b[39m \u001b[38;5;66;03m# Compress the request body if applicable\u001b[39;00m\n",
      "\u001b[36mFile \u001b[39m\u001b[32m~/Documents/Buffalo/PHY410/Prep/venv/lib/python3.13/site-packages/ibm_cloud_sdk_core/authenticators/iam_request_based_authenticator.py:64\u001b[39m, in \u001b[36mIAMRequestBasedAuthenticator.authenticate\u001b[39m\u001b[34m(self, req)\u001b[39m\n\u001b[32m     63\u001b[39m headers = req.get(\u001b[33m'\u001b[39m\u001b[33mheaders\u001b[39m\u001b[33m'\u001b[39m)\n\u001b[32m---> \u001b[39m\u001b[32m64\u001b[39m bearer_token = \u001b[38;5;28;43mself\u001b[39;49m\u001b[43m.\u001b[49m\u001b[43mtoken_manager\u001b[49m\u001b[43m.\u001b[49m\u001b[43mget_token\u001b[49m\u001b[43m(\u001b[49m\u001b[43m)\u001b[49m\n\u001b[32m     65\u001b[39m headers[\u001b[33m'\u001b[39m\u001b[33mAuthorization\u001b[39m\u001b[33m'\u001b[39m] = \u001b[33m'\u001b[39m\u001b[33mBearer \u001b[39m\u001b[38;5;132;01m{0}\u001b[39;00m\u001b[33m'\u001b[39m.format(bearer_token)\n",
      "\u001b[36mFile \u001b[39m\u001b[32m~/Documents/Buffalo/PHY410/Prep/venv/lib/python3.13/site-packages/ibm_cloud_sdk_core/token_managers/token_manager.py:82\u001b[39m, in \u001b[36mTokenManager.get_token\u001b[39m\u001b[34m(self)\u001b[39m\n\u001b[32m     81\u001b[39m     logger.debug(\u001b[33m'\u001b[39m\u001b[33mPerforming synchronous token fetch\u001b[39m\u001b[33m'\u001b[39m)\n\u001b[32m---> \u001b[39m\u001b[32m82\u001b[39m     \u001b[38;5;28;43mself\u001b[39;49m\u001b[43m.\u001b[49m\u001b[43mpaced_request_token\u001b[49m\u001b[43m(\u001b[49m\u001b[43m)\u001b[49m\n\u001b[32m     84\u001b[39m \u001b[38;5;28;01mif\u001b[39;00m \u001b[38;5;28mself\u001b[39m._token_needs_refresh():\n",
      "\u001b[36mFile \u001b[39m\u001b[32m~/Documents/Buffalo/PHY410/Prep/venv/lib/python3.13/site-packages/ibm_cloud_sdk_core/token_managers/token_manager.py:141\u001b[39m, in \u001b[36mTokenManager.paced_request_token\u001b[39m\u001b[34m(self)\u001b[39m\n\u001b[32m    140\u001b[39m \u001b[38;5;28;01mif\u001b[39;00m \u001b[38;5;129;01mnot\u001b[39;00m request_active:\n\u001b[32m--> \u001b[39m\u001b[32m141\u001b[39m     token_response = \u001b[38;5;28;43mself\u001b[39;49m\u001b[43m.\u001b[49m\u001b[43mrequest_token\u001b[49m\u001b[43m(\u001b[49m\u001b[43m)\u001b[49m\n\u001b[32m    142\u001b[39m     \u001b[38;5;28mself\u001b[39m._save_token_info(token_response)\n",
      "\u001b[36mFile \u001b[39m\u001b[32m~/Documents/Buffalo/PHY410/Prep/venv/lib/python3.13/site-packages/ibm_cloud_sdk_core/token_managers/iam_request_based_token_manager.py:127\u001b[39m, in \u001b[36mIAMRequestBasedTokenManager.request_token\u001b[39m\u001b[34m(self)\u001b[39m\n\u001b[32m    126\u001b[39m logger.debug(\u001b[33m'\u001b[39m\u001b[33mInvoking IAM get_token operation: \u001b[39m\u001b[38;5;132;01m%s\u001b[39;00m\u001b[33m'\u001b[39m, request_url)\n\u001b[32m--> \u001b[39m\u001b[32m127\u001b[39m response = \u001b[38;5;28;43mself\u001b[39;49m\u001b[43m.\u001b[49m\u001b[43m_request\u001b[49m\u001b[43m(\u001b[49m\n\u001b[32m    128\u001b[39m \u001b[43m    \u001b[49m\u001b[43mmethod\u001b[49m\u001b[43m=\u001b[49m\u001b[33;43m'\u001b[39;49m\u001b[33;43mPOST\u001b[39;49m\u001b[33;43m'\u001b[39;49m\u001b[43m,\u001b[49m\n\u001b[32m    129\u001b[39m \u001b[43m    \u001b[49m\u001b[43murl\u001b[49m\u001b[43m=\u001b[49m\u001b[43mrequest_url\u001b[49m\u001b[43m,\u001b[49m\n\u001b[32m    130\u001b[39m \u001b[43m    \u001b[49m\u001b[43mheaders\u001b[49m\u001b[43m=\u001b[49m\u001b[43mrequest_headers\u001b[49m\u001b[43m,\u001b[49m\n\u001b[32m    131\u001b[39m \u001b[43m    \u001b[49m\u001b[43mdata\u001b[49m\u001b[43m=\u001b[49m\u001b[43mdata\u001b[49m\u001b[43m,\u001b[49m\n\u001b[32m    132\u001b[39m \u001b[43m    \u001b[49m\u001b[43mauth_tuple\u001b[49m\u001b[43m=\u001b[49m\u001b[43mauth_tuple\u001b[49m\u001b[43m,\u001b[49m\n\u001b[32m    133\u001b[39m \u001b[43m    \u001b[49m\u001b[43mproxies\u001b[49m\u001b[43m=\u001b[49m\u001b[38;5;28;43mself\u001b[39;49m\u001b[43m.\u001b[49m\u001b[43mproxies\u001b[49m\u001b[43m,\u001b[49m\n\u001b[32m    134\u001b[39m \u001b[43m\u001b[49m\u001b[43m)\u001b[49m\n\u001b[32m    135\u001b[39m logger.debug(\u001b[33m'\u001b[39m\u001b[33mReturned from IAM get_token operation\u001b[39m\u001b[33m'\u001b[39m)\n",
      "\u001b[36mFile \u001b[39m\u001b[32m~/Documents/Buffalo/PHY410/Prep/venv/lib/python3.13/site-packages/ibm_cloud_sdk_core/token_managers/jwt_token_manager.py:91\u001b[39m, in \u001b[36mJWTTokenManager._request\u001b[39m\u001b[34m(self, method, url, headers, params, data, auth_tuple, **kwargs)\u001b[39m\n\u001b[32m     89\u001b[39m     \u001b[38;5;28;01mreturn\u001b[39;00m response.json()\n\u001b[32m---> \u001b[39m\u001b[32m91\u001b[39m \u001b[38;5;28;01mraise\u001b[39;00m ApiException(response.status_code, http_response=response)\n",
      "\u001b[31mApiException\u001b[39m: Error: Provided API key could not be found., Status code: 400",
      "\nDuring handling of the above exception, another exception occurred:\n",
      "\u001b[31mInvalidAccountError\u001b[39m                       Traceback (most recent call last)",
      "\u001b[36mCell\u001b[39m\u001b[36m \u001b[39m\u001b[32mIn[7]\u001b[39m\u001b[32m, line 7\u001b[39m\n\u001b[32m      5\u001b[39m     qiskit_cfg = yaml.safe_load(f)\n\u001b[32m      6\u001b[39m \u001b[38;5;28mprint\u001b[39m(qiskit_cfg[\u001b[33m\"\u001b[39m\u001b[33mapikey\u001b[39m\u001b[33m\"\u001b[39m])\n\u001b[32m----> \u001b[39m\u001b[32m7\u001b[39m ibm_quantum_service = \u001b[43mQiskitRuntimeService\u001b[49m\u001b[43m(\u001b[49m\u001b[43mchannel\u001b[49m\u001b[43m=\u001b[49m\u001b[33;43m\"\u001b[39;49m\u001b[33;43mibm_quantum_platform\u001b[39;49m\u001b[33;43m\"\u001b[39;49m\u001b[43m,\u001b[49m\u001b[43m \u001b[49m\u001b[43mtoken\u001b[49m\u001b[43m=\u001b[49m\u001b[43mqiskit_cfg\u001b[49m\u001b[43m[\u001b[49m\u001b[33;43m\"\u001b[39;49m\u001b[33;43mapikey\u001b[39;49m\u001b[33;43m\"\u001b[39;49m\u001b[43m]\u001b[49m\u001b[43m)\u001b[49m\n",
      "\u001b[36mFile \u001b[39m\u001b[32m~/Documents/Buffalo/PHY410/Prep/venv/lib/python3.13/site-packages/qiskit_ibm_runtime/qiskit_runtime_service.py:244\u001b[39m, in \u001b[36mQiskitRuntimeService.__init__\u001b[39m\u001b[34m(self, channel, token, url, filename, name, instance, proxies, verify, private_endpoint, url_resolver, region, plans_preference, tags)\u001b[39m\n\u001b[32m    242\u001b[39m \u001b[38;5;28;01melse\u001b[39;00m:\n\u001b[32m    243\u001b[39m     \u001b[38;5;28mself\u001b[39m._api_clients = {}\n\u001b[32m--> \u001b[39m\u001b[32m244\u001b[39m     instance_backends = \u001b[38;5;28;43mself\u001b[39;49m\u001b[43m.\u001b[49m\u001b[43m_resolve_cloud_instances\u001b[49m\u001b[43m(\u001b[49m\u001b[43minstance\u001b[49m\u001b[43m)\u001b[49m\n\u001b[32m    245\u001b[39m     instance_names = [instance.get(\u001b[33m\"\u001b[39m\u001b[33mname\u001b[39m\u001b[33m\"\u001b[39m) \u001b[38;5;28;01mfor\u001b[39;00m instance \u001b[38;5;129;01min\u001b[39;00m \u001b[38;5;28mself\u001b[39m._backend_instance_groups]\n\u001b[32m    246\u001b[39m     instance_plan_names = {\n\u001b[32m    247\u001b[39m         instance.get(\u001b[33m\"\u001b[39m\u001b[33mplan\u001b[39m\u001b[33m\"\u001b[39m) \u001b[38;5;28;01mfor\u001b[39;00m instance \u001b[38;5;129;01min\u001b[39;00m \u001b[38;5;28mself\u001b[39m._backend_instance_groups\n\u001b[32m    248\u001b[39m     }\n",
      "\u001b[36mFile \u001b[39m\u001b[32m~/Documents/Buffalo/PHY410/Prep/venv/lib/python3.13/site-packages/qiskit_ibm_runtime/qiskit_runtime_service.py:657\u001b[39m, in \u001b[36mQiskitRuntimeService._resolve_cloud_instances\u001b[39m\u001b[34m(self, instance)\u001b[39m\n\u001b[32m    655\u001b[39m     \u001b[38;5;28;01mreturn\u001b[39;00m [(default_crn, \u001b[38;5;28mself\u001b[39m._discover_backends_from_instance(default_crn))]\n\u001b[32m    656\u001b[39m \u001b[38;5;28;01mif\u001b[39;00m \u001b[38;5;129;01mnot\u001b[39;00m \u001b[38;5;28mself\u001b[39m._all_instances:\n\u001b[32m--> \u001b[39m\u001b[32m657\u001b[39m     \u001b[38;5;28mself\u001b[39m._all_instances = \u001b[38;5;28;43mself\u001b[39;49m\u001b[43m.\u001b[49m\u001b[43m_account\u001b[49m\u001b[43m.\u001b[49m\u001b[43mlist_instances\u001b[49m\u001b[43m(\u001b[49m\u001b[43m)\u001b[49m\n\u001b[32m    658\u001b[39m \u001b[38;5;28;01mif\u001b[39;00m \u001b[38;5;129;01mnot\u001b[39;00m \u001b[38;5;28mself\u001b[39m._backend_instance_groups:\n\u001b[32m    659\u001b[39m     \u001b[38;5;28mself\u001b[39m._backend_instance_groups = [\n\u001b[32m    660\u001b[39m         {\n\u001b[32m    661\u001b[39m             \u001b[33m\"\u001b[39m\u001b[33mname\u001b[39m\u001b[33m\"\u001b[39m: inst[\u001b[33m\"\u001b[39m\u001b[33mname\u001b[39m\u001b[33m\"\u001b[39m],\n\u001b[32m   (...)\u001b[39m\u001b[32m    668\u001b[39m         \u001b[38;5;28;01mfor\u001b[39;00m inst \u001b[38;5;129;01min\u001b[39;00m \u001b[38;5;28mself\u001b[39m._all_instances\n\u001b[32m    669\u001b[39m     ]\n",
      "\u001b[36mFile \u001b[39m\u001b[32m~/Documents/Buffalo/PHY410/Prep/venv/lib/python3.13/site-packages/qiskit_ibm_runtime/accounts/account.py:340\u001b[39m, in \u001b[36mCloudAccount.list_instances\u001b[39m\u001b[34m(self)\u001b[39m\n\u001b[32m    327\u001b[39m     result = client.search(\n\u001b[32m    328\u001b[39m         query=\u001b[33m\"\u001b[39m\u001b[33mservice_name:quantum-computing\u001b[39m\u001b[33m\"\u001b[39m,\n\u001b[32m    329\u001b[39m         fields=[\n\u001b[32m   (...)\u001b[39m\u001b[32m    337\u001b[39m         limit=\u001b[32m100\u001b[39m,\n\u001b[32m    338\u001b[39m     ).get_result()\n\u001b[32m    339\u001b[39m \u001b[38;5;28;01mexcept\u001b[39;00m:\n\u001b[32m--> \u001b[39m\u001b[32m340\u001b[39m     \u001b[38;5;28;01mraise\u001b[39;00m InvalidAccountError(\n\u001b[32m    341\u001b[39m         \u001b[33m\"\u001b[39m\u001b[33mUnable to retrieve instances. \u001b[39m\u001b[33m\"\u001b[39m\n\u001b[32m    342\u001b[39m         \u001b[33m\"\u001b[39m\u001b[33mPlease check that you are using a valid API token.\u001b[39m\u001b[33m\"\u001b[39m\n\u001b[32m    343\u001b[39m     )\n\u001b[32m    344\u001b[39m crns = []\n\u001b[32m    345\u001b[39m items = result.get(\u001b[33m\"\u001b[39m\u001b[33mitems\u001b[39m\u001b[33m\"\u001b[39m, [])\n",
      "\u001b[31mInvalidAccountError\u001b[39m: 'Unable to retrieve instances. Please check that you are using a valid API token.'"
     ]
    }
   ],
   "source": [
    "#import os\n",
    "#print(os.environ['IBMQUANTUM'])\n",
    "import yaml\n",
    "with open(\"qiskit.yml\", \"r\") as f:\n",
    "    qiskit_cfg = yaml.safe_load(f)\n",
    "print(qiskit_cfg[\"apikey\"])\n",
    "ibm_quantum_service = QiskitRuntimeService(channel=\"ibm_quantum_platform\", token=qiskit_cfg[\"apikey\"])"
   ]
  },
  {
   "cell_type": "markdown",
   "metadata": {},
   "source": [
    "if the above cell spits out a key error your might use a different variable name. Check this for a list of available Variables on the system. If your API key is still not in there you might have to do a full rebuilt of the codespace you are using right now."
   ]
  },
  {
   "cell_type": "code",
   "execution_count": null,
   "metadata": {},
   "outputs": [],
   "source": [
    "print(list(os.environ.keys()))"
   ]
  },
  {
   "cell_type": "markdown",
   "metadata": {},
   "source": [
    "If you have the IBMquantum API key available lets use it to test access to the IBM quantum framework"
   ]
  },
  {
   "cell_type": "code",
   "execution_count": 6,
   "metadata": {},
   "outputs": [],
   "source": [
    "ibm_quantum_service = QiskitRuntimeService(channel=\"ibm_quantum\", token=os.environ['IBMQUANTUM'])"
   ]
  },
  {
   "cell_type": "markdown",
   "metadata": {},
   "source": [
    "Let's see if we can choose a Quantum computer"
   ]
  },
  {
   "cell_type": "code",
   "execution_count": 8,
   "metadata": {},
   "outputs": [],
   "source": [
    "backend = ibm_quantum_service.least_busy(operational=True, simulator=False)"
   ]
  },
  {
   "cell_type": "markdown",
   "metadata": {},
   "source": [
    "Let's see what's it name is"
   ]
  },
  {
   "cell_type": "code",
   "execution_count": null,
   "metadata": {},
   "outputs": [],
   "source": [
    "backend.name"
   ]
  },
  {
   "cell_type": "code",
   "execution_count": null,
   "metadata": {},
   "outputs": [],
   "source": []
  }
 ],
 "metadata": {
  "kernelspec": {
   "display_name": "Python 3 (ipykernel)",
   "language": "python",
   "name": "python3"
  },
  "language_info": {
   "codemirror_mode": {
    "name": "ipython",
    "version": 3
   },
   "file_extension": ".py",
   "mimetype": "text/x-python",
   "name": "python",
   "nbconvert_exporter": "python",
   "pygments_lexer": "ipython3",
   "version": "3.13.2"
  }
 },
 "nbformat": 4,
 "nbformat_minor": 4
}
