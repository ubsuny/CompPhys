{
 "cells": [
  {
   "cell_type": "markdown",
   "metadata": {},
   "source": [
    "# Problem 2 : Projectile motion\n",
    "\n",
    "The equation for a projectile, i.e., an object undergoing constant acceleration due to gravity, is\n",
    "\n",
    "$\\vec{x}(t) = \\frac{1}{2}\\vec{a}_0t^2 + \\vec{v}_0 t + \\vec{x}_0$\n",
    "\n",
    "This problem uses numpy to study the motion of the projectile. Assume the motion is in 2 dimensions, $x$ and $y$, with $x$ being horizontal and $y$ being vertical. We will create numpy arrays that represent the motion of the projectile at discrete time intervals. In particular, \n",
    "\n",
    "- The time variable $t$ should vary from $0$ to $0.5$ seconds, with a time step of $0.001$ s. \n",
    "- The initial position is $\\vec{x}_0 = (0,\\,1)$ (units: m). \n",
    "- The initial velocity is $\\vec{v}_0 = (10,\\,0)$ (units: m/s).\n",
    "- Gravity is $\\vec{a}_0 = (0,g)$, where $g$ varies depending on the scenario. \n",
    "\n",
    "## Problem 2a\n",
    "\n",
    "(15 points)\n",
    "\n",
    "Compute $\\vec{x}(t)$ for Earth and Mars. Then, plot the $x$ and $y$ trajectories (i.e $y$ vs $x$) using `matplotlib`, plotting Earth and Mars on the same plot. Label your axes and draw a legend. To get full credit, you must implement this without `for` loops in python. If you cannot manage without loops, that's good for partial credit (losing 5 points).\n",
    "\n",
    "## Problem 2b\n",
    "\n",
    "(10 points)\n",
    "\n",
    "Using array programming (i.e., **not** just calculating the solution of the quadratic equation, which is very easy), determine the approximate $t$ and $x$ where the projectile crosses the $x$ axis, i.e., where $y=0$. Specifically, using the numpy arrays from the previous step, determine the first $x_i$ and $t_i$ in the arrays representing $x$ and $t$ for which $y_i<0$. \n"
   ]
  },
  {
   "cell_type": "markdown",
   "metadata": {},
   "source": [
    "### Part a"
   ]
  },
  {
   "cell_type": "code",
   "execution_count": null,
   "metadata": {},
   "outputs": [],
   "source": [
    "import numpy as np\n",
    "import matplotlib.pyplot as plt"
   ]
  },
  {
   "cell_type": "code",
   "execution_count": null,
   "metadata": {},
   "outputs": [],
   "source": [
    "t = np.arange(0,0.5,0.001)"
   ]
  },
  {
   "cell_type": "code",
   "execution_count": null,
   "metadata": {},
   "outputs": [],
   "source": [
    "# In this cell, write your code for calculating the Earth trajectory. \n",
    "# We provide some code as a starting point.\n",
    "g_earth = -9.8\n",
    "x0 = np.array([[0], [1]])\n",
    "v0 = np.array([[10], [0]])\n",
    "a_earth = np.array([[0], [g_earth]])\n"
   ]
  },
  {
   "cell_type": "code",
   "execution_count": null,
   "metadata": {},
   "outputs": [],
   "source": [
    "# In this cell, write your code for calculating the Mars trajectory. \n",
    "g_mars = -3.7\n"
   ]
  },
  {
   "cell_type": "code",
   "execution_count": null,
   "metadata": {},
   "outputs": [],
   "source": [
    "# In this cell, plot the trajectories, i.e., x vs. y.\n",
    "# Earth and Mars should be plotted on the same plot.\n",
    "# Make sure to label your axes and to draw a legend.\n"
   ]
  },
  {
   "cell_type": "markdown",
   "metadata": {},
   "source": [
    "Hints for part (a):"
   ]
  },
  {
   "cell_type": "code",
   "execution_count": null,
   "metadata": {},
   "outputs": [],
   "source": [
    "# Remember the shapes of your arrays!\n",
    "print(f\"x0 : {x0.shape}, v0 : {v0.shape}, a_earth : {a_earth.shape}, a_mars : {a_mars.shape}, t : {t.shape}\")\n"
   ]
  },
  {
   "cell_type": "markdown",
   "metadata": {},
   "source": [
    "### Part b\n",
    "Using the arrays from the previous step, write the code to determine the first values of $x_i$ and $t_i$ for which $y_i$ is negative. Put the answers into variables named `x1_earth`, `t1_earth` and `x1_mars`, `t1_mars`.\n",
    "\n",
    "Hint! You might see something unexpected for Mars. You should fix the problem that causes the unexpected result."
   ]
  },
  {
   "cell_type": "code",
   "execution_count": null,
   "metadata": {},
   "outputs": [],
   "source": [
    "# Write your code for Earth here\n",
    "\n",
    "# Put the answers into these two variables:\n",
    "x1_earth = None\n",
    "t1_earth = None\n",
    "\n",
    "# Code goes here\n",
    "\n",
    "\n",
    "# \"Unit test\": print the values of x1_earth and t1_earth\n",
    "print(f\"x1_earth = {x1_earth}, t1_earth = {t1_earth}\")"
   ]
  },
  {
   "cell_type": "code",
   "execution_count": null,
   "metadata": {},
   "outputs": [],
   "source": [
    "# Write your code for Mars here\n",
    "\n",
    "# Put the answers into these two variables:\n",
    "x1_mars = None\n",
    "t1_mars = None\n",
    "\n",
    "# Code goes here\n",
    "\n",
    "# \"Unit test\": print the values of x1_mars and t1_mars\n",
    "print(f\"x1_mars = {x1_mars}, t1_mars = {t1_mars}\")"
   ]
  },
  {
   "cell_type": "code",
   "execution_count": null,
   "metadata": {},
   "outputs": [],
   "source": []
  }
 ],
 "metadata": {
  "kernelspec": {
   "display_name": "Python 3 (ipykernel)",
   "language": "python",
   "name": "python3"
  },
  "language_info": {
   "codemirror_mode": {
    "name": "ipython",
    "version": 3
   },
   "file_extension": ".py",
   "mimetype": "text/x-python",
   "name": "python",
   "nbconvert_exporter": "python",
   "pygments_lexer": "ipython3",
   "version": "3.12.3"
  }
 },
 "nbformat": 4,
 "nbformat_minor": 4
}
