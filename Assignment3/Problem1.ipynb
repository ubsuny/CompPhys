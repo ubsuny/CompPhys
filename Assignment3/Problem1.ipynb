{
 "cells": [
  {
   "cell_type": "markdown",
   "metadata": {},
   "source": [
    "# Problem1 : No loops!"
   ]
  },
  {
   "cell_type": "markdown",
   "metadata": {},
   "source": [
    "This is a notebook that creates $N=1M$ randomly-distributed vectors of five numbers $\\vec{x}_i$. WITHOUT using loops of any kind, compute the weighted average of each of the five numbers with non normalized weights $\\vec{W} = (5,15,30,100,400)$. That is, each vector has elements, and you should compute\n",
    "\n",
    "$$\n",
    "\\frac{1}{N} \\sum_{i=0}^{N-1} \\vec{x}_i \\cdot \\vec{w}\n",
    "$$\n",
    "\n",
    "with $\\vec{w}$ being the normalized weights.\n",
    "\n",
    "You are allowed and encouraged to use any numpy function, including [average](http://lagrange.univ-lyon1.fr/docs/numpy/1.11.0/reference/generated/numpy.average.html) and [mean](http://lagrange.univ-lyon1.fr/docs/numpy/1.11.0/reference/generated/numpy.mean.html). \n",
    "\n"
   ]
  },
  {
   "cell_type": "code",
   "execution_count": 1,
   "metadata": {},
   "outputs": [],
   "source": [
    "import numpy as np"
   ]
  },
  {
   "cell_type": "markdown",
   "metadata": {},
   "source": [
    "## Given: 10M Generated vectors"
   ]
  },
  {
   "cell_type": "code",
   "execution_count": 2,
   "metadata": {},
   "outputs": [],
   "source": [
    "x = np.random.normal( size=(1000000,5), loc=[20,30,20,50,30], scale=[5, 5, 5, 5, 5] )"
   ]
  },
  {
   "cell_type": "code",
   "execution_count": 3,
   "metadata": {},
   "outputs": [
    {
     "name": "stdout",
     "output_type": "stream",
     "text": [
      "Shape of data:  (1000000, 5)\n",
      "First vector:   [17.37491595 22.87017489 15.22616037 47.15800741 33.38121407]\n"
     ]
    }
   ],
   "source": [
    "print(\"Shape of data: \", x.shape )\n",
    "print(\"First vector:  \", x[0])"
   ]
  },
  {
   "cell_type": "markdown",
   "metadata": {},
   "source": [
    "## Part a: \n",
    "\n",
    "Compute \n",
    "\n",
    "$$\n",
    "\\frac{1}{N}  \\sum_{i=0}^{N-1} \\vec{x}_i \\cdot \\vec{w}\n",
    "$$\n",
    "\n"
   ]
  },
  {
   "cell_type": "markdown",
   "metadata": {},
   "source": [
    "#### Your code goes here"
   ]
  },
  {
   "cell_type": "code",
   "execution_count": null,
   "metadata": {},
   "outputs": [],
   "source": []
  },
  {
   "cell_type": "markdown",
   "metadata": {},
   "source": [
    "## Part b: \n",
    "\n",
    "Repeat a, but this time ONLY include the vector in the sum if the third element is larger than the second.  \n",
    "\n",
    "Here we can use fancy indexing to select only vectors where the third element (index 2) is larger than the second element (index 1). "
   ]
  },
  {
   "cell_type": "markdown",
   "metadata": {},
   "source": [
    "#### Your code goes here"
   ]
  },
  {
   "cell_type": "code",
   "execution_count": null,
   "metadata": {},
   "outputs": [],
   "source": []
  }
 ],
 "metadata": {
  "kernelspec": {
   "display_name": "Python 3 (ipykernel)",
   "language": "python",
   "name": "python3"
  },
  "language_info": {
   "codemirror_mode": {
    "name": "ipython",
    "version": 3
   },
   "file_extension": ".py",
   "mimetype": "text/x-python",
   "name": "python",
   "nbconvert_exporter": "python",
   "pygments_lexer": "ipython3",
   "version": "3.12.3"
  }
 },
 "nbformat": 4,
 "nbformat_minor": 4
}
