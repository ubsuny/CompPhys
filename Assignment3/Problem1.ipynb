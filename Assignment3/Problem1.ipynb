{
 "cells": [
  {
   "cell_type": "markdown",
   "metadata": {},
   "source": []
  },
  {
   "cell_type": "markdown",
   "metadata": {},
   "source": [
    "# Problem 1 : No loops!\n",
    "\n",
    "(25 points)\n",
    "\n",
    "First, we create $N=10^6$ randomly distributed vectors of five numbers: $\\vec{x}_i$ (where the index $i$ ranges from $0$ to $N-1$, and each vector $\\vec{x}_i$ has length 5). Specifically, this is a numpy array with shape $(N,\\,5)$. \n",
    "\n",
    "**Part a.** *Without* using explicit loops, compute the weighted average of each of the five numbers with (non-normalized) weights $\\vec{W} = (5,15,30,100,400)$. That is, compute the quantity:\n",
    "\n",
    "$$\n",
    "\\frac{1}{N}\\sum_{i=0}^{N-1} \\vec{x}_i \\cdot \\vec{w}\n",
    "$$\n",
    "\n",
    "where $\\vec{w}$ represents the **normalized** weights, $\\vec{w} = \\vec{W} / \\sum_{i=0}^4 W_i$.\n",
    "\n",
    "You are allowed and encouraged to use any numpy function, including [average](https://numpy.org/doc/stable/reference/generated/numpy.average.html) and [mean](https://numpy.org/doc/2.3/reference/generated/numpy.mean.html). \n",
    "\n",
    "**Part b.** Calculate the same average as in Part (a), except only including vectors $\\vec{x}_i$ for which the third element (index 2) is larger than the second element (index 1)."
   ]
  },
  {
   "cell_type": "code",
   "execution_count": null,
   "metadata": {},
   "outputs": [],
   "source": [
    "import numpy as np"
   ]
  },
  {
   "cell_type": "markdown",
   "metadata": {},
   "source": [
    "## Given: 10M Generated vectors"
   ]
  },
  {
   "cell_type": "code",
   "execution_count": null,
   "metadata": {},
   "outputs": [],
   "source": [
    "np.random.seed(1234)\n",
    "x = np.random.normal( size=(1000000,5), loc=[20,30,20,50,30], scale=[5, 5, 5, 5, 5] )"
   ]
  },
  {
   "cell_type": "code",
   "execution_count": null,
   "metadata": {},
   "outputs": [],
   "source": [
    "print(\"Shape of data: \", x.shape )\n",
    "print(\"First vector:  \", x[0])"
   ]
  },
  {
   "cell_type": "markdown",
   "metadata": {},
   "source": [
    "## Part a: \n",
    "\n",
    "Compute \n",
    "\n",
    "$$\n",
    "\\frac{1}{N}  \\sum_{i=0}^{N-1} \\vec{x}_i \\cdot \\vec{w}\n",
    "$$\n",
    "\n",
    "Note that $\\cdot$ represents the dot product of the two vectors. "
   ]
  },
  {
   "cell_type": "code",
   "execution_count": 1,
   "metadata": {},
   "outputs": [],
   "source": [
    "# Write your code in this cell.\n",
    "# Hint: you will need an array for the weights, W = np.array([...])\n"
   ]
  },
  {
   "cell_type": "markdown",
   "metadata": {},
   "source": [
    "## Part b: \n",
    "\n",
    "Calculate the same average as in part (a), except only for vectors $\\vec{x}_i$ where the third element is larger than the second. Hint: use fancy indexing to create a new array, `x2`, containing the $\\vec{x}_i$ satisfying this condition."
   ]
  },
  {
   "cell_type": "code",
   "execution_count": null,
   "metadata": {},
   "outputs": [],
   "source": [
    "# Write your code in this cell.\n"
   ]
  }
 ],
 "metadata": {
  "kernelspec": {
   "display_name": "Python 3 (ipykernel)",
   "language": "python",
   "name": "python3"
  },
  "language_info": {
   "codemirror_mode": {
    "name": "ipython",
    "version": 3
   },
   "file_extension": ".py",
   "mimetype": "text/x-python",
   "name": "python",
   "nbconvert_exporter": "python",
   "pygments_lexer": "ipython3",
   "version": "3.12.3"
  }
 },
 "nbformat": 4,
 "nbformat_minor": 4
}
