{
 "cells": [
  {
   "cell_type": "markdown",
   "id": "90b93450-f62f-4618-86cf-e91597f5a71f",
   "metadata": {
    "editable": true,
    "slideshow": {
     "slide_type": ""
    },
    "tags": []
   },
   "source": [
    "# Python speed studies\n",
    "This notebook uses the %timeit magic to measure and compare the performance of some large operations.\n",
    "\n",
    "Credit: Nick Smith (Fermilab)"
   ]
  },
  {
   "cell_type": "code",
   "execution_count": null,
   "id": "82476a17-b010-41e7-912b-05d97607d39f",
   "metadata": {},
   "outputs": [],
   "source": [
    "import numpy as np\n",
    "import matplotlib.pyplot as plt\n",
    "import numba\n",
    "import pandas as pd\n",
    "import time"
   ]
  },
  {
   "cell_type": "code",
   "execution_count": null,
   "id": "174b978a-b7f1-4b1e-b1a1-f02fc06e45c6",
   "metadata": {},
   "outputs": [],
   "source": [
    "%%timeit\n",
    "# Use %%timeit to time a whole cell\n",
    "x=1"
   ]
  },
  {
   "cell_type": "code",
   "execution_count": null,
   "id": "0b8013b5-aea4-42c7-866e-32c91dcbc790",
   "metadata": {},
   "outputs": [],
   "source": [
    "# Use %timeit to time a single command\n",
    "%timeit y=[1, 2]"
   ]
  },
  {
   "cell_type": "markdown",
   "id": "f2ff6e93-44af-42ef-9ef4-75749563f7d1",
   "metadata": {},
   "source": [
    "## Some simple array operations"
   ]
  },
  {
   "cell_type": "code",
   "execution_count": null,
   "id": "4c05b8ac-63ef-4416-92f9-2582fbcb0ff1",
   "metadata": {
    "scrolled": true
   },
   "outputs": [],
   "source": [
    "%timeit np.empty(100_000)\n",
    "%timeit np.zeros(100_000)\n",
    "%timeit np.arange(100_000)"
   ]
  },
  {
   "cell_type": "code",
   "execution_count": null,
   "id": "efaa7e03-6f22-4ad3-8108-c42ccb1188b7",
   "metadata": {},
   "outputs": [],
   "source": [
    "%%timeit\n",
    "a = np.arange(100_000)\n",
    "b = a*2"
   ]
  },
  {
   "cell_type": "code",
   "execution_count": null,
   "id": "f17ee121-c94e-4c01-985d-c2b1cc01ae34",
   "metadata": {},
   "outputs": [],
   "source": [
    "%%timeit\n",
    "c = list(range(100_000))\n",
    "d = [i*2 for i in c]"
   ]
  },
  {
   "cell_type": "markdown",
   "id": "d3ffd912-a3bb-4097-87f7-c5650fadec6e",
   "metadata": {},
   "source": [
    "## Aside: saving the results of timeit\n",
    "The next two cells show how you can capture the results from the %timeit magic and make a plot."
   ]
  },
  {
   "cell_type": "code",
   "execution_count": null,
   "id": "49c3f007-98d2-4e44-b2e6-8d25fe5f2e3c",
   "metadata": {},
   "outputs": [],
   "source": [
    "xx = np.array([10**i for i in range(8)])\n",
    "yy = np.zeros_like(xx, dtype=float)\n",
    "yy_err = np.zeros_like(xx, dtype=float)\n",
    "for i in range(len(xx)):\n",
    "    result = %timeit -o np.arange(xx[i])\n",
    "    yy[i] = result.average\n",
    "    yy_err[i] = result.stdev\n",
    "    #yy[imax] = timeitresult."
   ]
  },
  {
   "cell_type": "code",
   "execution_count": null,
   "id": "8d5bf01c-b244-46e2-aced-f8c36d0ea8d9",
   "metadata": {},
   "outputs": [],
   "source": [
    "fig, ax = plt.subplots(1, 1, figsize=(6, 4))\n",
    "ax.errorbar(xx, yy*1.e9, yerr=yy_err*1.e9)\n",
    "ax.set_xlabel(\"Array length\")\n",
    "ax.set_xscale(\"log\")\n",
    "ax.set_ylabel(\"Time [ns]\")\n",
    "ax.set_yscale(\"log\")\n"
   ]
  },
  {
   "cell_type": "markdown",
   "id": "bae867ea-d79d-4ddd-9cb3-0e993f3f509c",
   "metadata": {},
   "source": [
    "## numba\n",
    "Some basic numba example from the numba tutorial"
   ]
  },
  {
   "cell_type": "code",
   "execution_count": null,
   "id": "77b2a29c-0012-45a3-a0a4-b590db37fd81",
   "metadata": {},
   "outputs": [],
   "source": [
    "from numba import jit\n",
    "\n",
    "x = np.arange(100).reshape(10, 10)\n",
    "\n",
    "def go_slow(a): # Function is compiled to machine code when called the first time\n",
    "    trace = 0.0\n",
    "    for i in range(a.shape[0]):   \n",
    "        trace += np.tanh(a[i, i]) \n",
    "    return a + trace              \n",
    "\n",
    "start = time.time()\n",
    "go_slow(x)\n",
    "end = time.time()\n",
    "print(f\"go_slow() = {(end - start)*1e6:.4e} us\")\n",
    "\n",
    "\n",
    "@numba.jit(nopython=True) # Set \"nopython\" mode for best performance, equivalent to @njit\n",
    "def go_fast(a): # Function is compiled to machine code when called the first time\n",
    "    trace = 0.0\n",
    "    for i in range(a.shape[0]):   # Numba likes loops\n",
    "        trace += np.tanh(a[i, i]) # Numba likes NumPy functions\n",
    "    return a + trace              # Numba likes NumPy broadcasting\n",
    "\n",
    "# DO NOT REPORT THIS... COMPILATION TIME IS INCLUDED IN THE EXECUTION TIME!\n",
    "start = time.time()\n",
    "go_fast(x)\n",
    "end = time.time()\n",
    "print(f\"Elapsed (with compilation) = {(end - start)*1e3:.4e} ms\")\n",
    "\n",
    "# NOW THE FUNCTION IS COMPILED, RE-TIME IT EXECUTING FROM CACHE\n",
    "start = time.time()\n",
    "go_fast(x)\n",
    "end = time.time()\n",
    "print(f\"Elapsed (after compilation) = {(end - start)*1e6:.4e} us\")\n",
    "\n",
    "start = time.time()\n",
    "go_fast(x)\n",
    "end = time.time()\n",
    "print(f\"Elapsed (third try) = {(end - start)*1e6:.4e} us\")\n",
    "\n"
   ]
  },
  {
   "cell_type": "code",
   "execution_count": null,
   "id": "904dbefc-a336-4157-b402-23559a03dde8",
   "metadata": {},
   "outputs": [],
   "source": [
    "# A big example\n",
    "x = np.arange(1_000_000).reshape(1000, 1000)\n",
    "print(\"go_slow():\")\n",
    "%timeit go_slow(x)\n",
    "\n",
    "print(\"go_fast():\")\n",
    "%timeit go_fast(x)"
   ]
  },
  {
   "cell_type": "markdown",
   "id": "cf7457ba-053f-435e-9896-c7b9b9267ad0",
   "metadata": {},
   "source": [
    "## Barnsley fern\n",
    "The Barnsley fern is a fractal that you can generate with some simple matrix multiplications. See https://en.wikipedia.org/wiki/Barnsley_fern. \n",
    "\n",
    "Starting from an initial point, say $(x_0,\\,y_0)=(0,\\,0)$, the next point is generated by randomly applying one of four functions, $f_i(x, y)$:\n",
    "\n",
    "$$\n",
    "(x_{n+1}, y_{n+1}) = f_i(x_n, y_n)\n",
    "$$\n",
    "\n",
    "where each $f_i(x, y)$ consists of a matrix multiplication and addition:\n",
    "\n",
    "$$\n",
    "f_i(x, y) = \\left[\\begin{array}{cc} a & b \\\\ c & d \\end{array} \\right] \\left[\\begin{array}{c} x \\\\ y \\end{array}\\right] + \\left[\\begin{array}{c} e \\\\ f \\end{array} \\right].\n",
    "$$\n",
    "\n",
    "The coefficients and probabilities $p$ are:\n",
    "| $w$ | $a$ | $b$ | $c$ | $d$ | $e$ | $f$ | $p$ | Portion generated | \n",
    "| --- | --- | --- | --- | --- | --- | --- | --- | --- |\n",
    "| $f_1$ | $0$ | $0$ | $0$ | $0.16$ | $0$ | $0$ | $0.01$ | Stem |\n",
    "| $f_2$ | $0.85$ | $0.04$ | $-0.04$ | $0.85$ | $0$ | $1.60$ | $0.85$ | Successively smaller leaflets |\n",
    "| $f_3$ | $0.20$ | $-0.26$ | $0.23$ | $0.22$ | $0$ | $1.60$ | $0.07$ | Largest left-hand leaflet |\n",
    "| $f_4$ | $-0.15$ | $0.28$ | $0.26$ | $0.24$ | $0$ | $0.44$ | $0.07$ | Largest right-hand leaflet |\n",
    "\n",
    "The first cell below creates the arrays corresponding to the matrices (abcd) and offset (ef), plus an array for the probabilities. The next three cells run through 10,000 iterations using three different methods:\n",
    "\n",
    "1. A simple for loop;\n",
    "2. A vectorized for loop with 100 operations done in parallel;\n",
    "3. A for loop compiled with numba.\n",
    "\n",
    "Finally, we run 1,000,000 iterations and draw the fern."
   ]
  },
  {
   "cell_type": "code",
   "execution_count": null,
   "id": "e9c59ae9-4b78-46ab-acb2-40dac54e0886",
   "metadata": {},
   "outputs": [],
   "source": [
    "matrices = np.array([\n",
    "    [[0,\t0],\t[0,\t0.16]],\n",
    "    [[0.85,\t0.04],\t[-0.04,\t0.85]],\n",
    "    [[0.20,\t-0.26],\t[0.23,\t0.22]],\n",
    "    [[-0.15, 0.28],\t[0.26,\t0.24]],\n",
    "])\n",
    "offsets = np.array([\n",
    "    [0, 0],\n",
    "    [0, 1.6],\n",
    "    [0, 1.6],\n",
    "    [0, 0.44],\n",
    "])\n",
    "probabilities = np.array([0.01, 0.85, 0.07, 0.07])"
   ]
  },
  {
   "cell_type": "code",
   "execution_count": null,
   "id": "45023a63-bbcb-4233-974e-cc5ab919d5b3",
   "metadata": {},
   "outputs": [],
   "source": [
    "%%timeit\n",
    "\n",
    "# 1. Do the iteration in a for loop. Each iteration does a matrix multiplication to compute the next point in the series.\n",
    "# David's result: 55.2 ms ± 1.18 ms per loop (mean ± std. dev. of 7 runs, 10 loops each)\n",
    "\n",
    "current = np.array([0, 0])\n",
    "allpoints = np.empty(shape=(10_000, 2))\n",
    "\n",
    "for i in range(10_000):\n",
    "    index = np.random.choice(4, p=probabilities)\n",
    "    current = matrices[index] @ current + offsets[index]\n",
    "    allpoints[i] = current\n",
    "\n",
    "x = allpoints[:, 0]\n",
    "y = allpoints[:, 1]"
   ]
  },
  {
   "cell_type": "code",
   "execution_count": null,
   "id": "469117d3-39e2-4bf1-8772-dfdd40c844e4",
   "metadata": {},
   "outputs": [],
   "source": [
    "%%timeit\n",
    "# 2. Similar to the previous cell, but doing 100 operations at a time (i.e. in parallel)\n",
    "# David's result: 1.11 ms ± 18.1 μs per loop (mean ± std. dev. of 7 runs, 1,000 loops each)\n",
    "\n",
    "nparallel = 100\n",
    "ntotal = 10_000\n",
    "nsteps = ntotal // nparallel\n",
    "current = np.zeros((nparallel, 2))\n",
    "allpoints = np.empty(shape=(nsteps, nparallel, 2))\n",
    "\n",
    "for i in range(nsteps):\n",
    "    index = np.random.choice(4, size=nparallel, p=probabilities)\n",
    "    current = np.einsum(\"ijk,ik->ij\", matrices[index], current) + offsets[index]\n",
    "    allpoints[i] = current\n",
    "\n",
    "x = allpoints.reshape((-1, 2))[:, 0]\n",
    "y = allpoints.reshape((-1, 2))[:, 1]"
   ]
  },
  {
   "cell_type": "code",
   "execution_count": null,
   "id": "49439336-f568-4b51-80a1-5b3cae33ed92",
   "metadata": {},
   "outputs": [],
   "source": [
    "# 3. Use numba to do \"just in time\" compilation (JIT) of the matrix multiplication function\n",
    "cumprob = np.zeros(5)\n",
    "cumprob[1:] = np.cumsum(probabilities)\n",
    "\n",
    "# np.searchsorted(arr, x) returns the index where you would insert x into arr, such that the order of arr is maintained\n",
    "# In this example, this converts a random number in the interval [0, 1] to an index (0, 1, 2, or 3) according to the specified probabilities\n",
    "@numba.jit\n",
    "def numba_choice(n, rng):\n",
    "    return np.searchsorted(cumprob, rng.random(n)) - 1\n",
    "\n",
    "\n",
    "@numba.jit\n",
    "def build_fern(allpoints, rng):\n",
    "    nsteps = len(allpoints)\n",
    "    \n",
    "    for i in range(1, nsteps):\n",
    "        index = numba_choice(1, rng)[0]\n",
    "        allpoints[i] = matrices[index] @ allpoints[i-1] + offsets[index]\n",
    "    \n",
    "    x = allpoints[:, 0]\n",
    "    y = allpoints[:, 1]\n",
    "    return x, y\n",
    "\n",
    "\n"
   ]
  },
  {
   "cell_type": "code",
   "execution_count": null,
   "id": "bb81823d-7c32-44f5-9394-5ae465b9393f",
   "metadata": {},
   "outputs": [],
   "source": [
    "%%timeit \n",
    "# David's result: 1.27 ms ± 23 μs per loop (mean ± std. dev. of 7 runs, 1 loop each)\n",
    "allpoints = np.empty(shape=(10_000, 2))\n",
    "rng = np.random.default_rng(42)\n",
    "x, y = build_fern(allpoints, rng)\n"
   ]
  },
  {
   "cell_type": "markdown",
   "id": "9c14fa68-5ab9-417e-95bb-744ba9e15303",
   "metadata": {},
   "source": [
    "## Drawing the fern\n"
   ]
  },
  {
   "cell_type": "code",
   "execution_count": null,
   "id": "952dfeee-b703-43c3-9203-ecc8b25c61da",
   "metadata": {},
   "outputs": [],
   "source": [
    "# Now do it for real\n",
    "allpoints = np.zeros(shape=(100, 2))\n",
    "rng = np.random.default_rng(42)\n",
    "x, y = build_fern(allpoints, rng)\n",
    "%timeit x, y = build_fern(allpoints, rng)"
   ]
  },
  {
   "cell_type": "code",
   "execution_count": null,
   "id": "db42af40-b72e-494e-98ec-ba2ffda2bc0a",
   "metadata": {},
   "outputs": [],
   "source": [
    "fig, ax = plt.subplots()\n",
    "ax.scatter(x, y, marker=\",\", s=(72/fig.dpi)**2, lw=0, color=\"green\")"
   ]
  },
  {
   "cell_type": "markdown",
   "id": "36012f95-8c2c-49b5-8b7c-7126c9a1f238",
   "metadata": {},
   "source": [
    "Try modifying the matrix/offset numbers and see what happens!"
   ]
  },
  {
   "cell_type": "code",
   "execution_count": null,
   "id": "bb39d1c2-b26c-4a3e-a420-0da7ea6a48ca",
   "metadata": {},
   "outputs": [],
   "source": [
    "matrices2 = np.array([\n",
    "    [[0,\t0],\t[0,\t0.25]],\n",
    "    [[0.95,\t0.005],\t[-0.005, 0.93]],\n",
    "    [[0.035, -0.2],\t[0.16,\t0.04]],\n",
    "    [[-0.04, 0.2],\t[0.16,\t0.04]],\n",
    "])\n",
    "offsets2 = np.array([\n",
    "    [0, -0.4],\n",
    "    [-0.002, 0.5],\n",
    "    [-0.09, 0.02],\n",
    "    [0.083, 0.12],\n",
    "])\n",
    "probabilities2 = np.array([0.02, 0.84, 0.07, 0.07])\n",
    "\n",
    "cumprob2 = np.zeros(5)\n",
    "cumprob2[1:] = np.cumsum(probabilities2)\n",
    "\n",
    "# np.searchsorted(arr, x) returns the index where you would insert x into arr, such that the order of arr is maintained\n",
    "# In this example, this converts a random number in the interval [0, 1] to an index (0, 1, 2, or 3) according to the specified probabilities\n",
    "@numba.jit\n",
    "def numba_choice(n, rng):\n",
    "    return np.searchsorted(cumprob2, rng.random(n)) - 1\n",
    "\n",
    "\n",
    "@numba.jit\n",
    "def build_fern(allpoints, rng):\n",
    "    nsteps = len(allpoints)\n",
    "    \n",
    "    for i in range(1, nsteps):\n",
    "        index = numba_choice(1, rng)[0]\n",
    "        allpoints[i] = matrices2[index] @ allpoints[i-1] + offsets2[index]\n",
    "    \n",
    "    x = allpoints[:, 0]\n",
    "    y = allpoints[:, 1]\n",
    "    return x, y\n",
    "\n",
    "\n",
    "allpoints2 = np.zeros(shape=(100000, 2))\n",
    "rng2 = np.random.default_rng(42)\n",
    "x2, y2 = build_fern(allpoints2, rng2)\n"
   ]
  },
  {
   "cell_type": "code",
   "execution_count": null,
   "id": "886b503f-d04d-4c4d-a9ad-4f9909aae927",
   "metadata": {},
   "outputs": [],
   "source": [
    "fig, ax = plt.subplots()\n",
    "ax.scatter(x2, y2, marker=\",\", s=(72/fig.dpi)**2, lw=0, color=\"green\")"
   ]
  },
  {
   "cell_type": "code",
   "execution_count": null,
   "id": "1424a967-2058-444b-a909-92e86716d3d3",
   "metadata": {},
   "outputs": [],
   "source": []
  }
 ],
 "metadata": {
  "kernelspec": {
   "display_name": "Python 3 (ipykernel)",
   "language": "python",
   "name": "python3"
  },
  "language_info": {
   "codemirror_mode": {
    "name": "ipython",
    "version": 3
   },
   "file_extension": ".py",
   "mimetype": "text/x-python",
   "name": "python",
   "nbconvert_exporter": "python",
   "pygments_lexer": "ipython3",
   "version": "3.12.3"
  }
 },
 "nbformat": 4,
 "nbformat_minor": 5
}
