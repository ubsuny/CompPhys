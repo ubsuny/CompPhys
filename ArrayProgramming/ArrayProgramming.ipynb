{
 "cells": [
  {
   "cell_type": "markdown",
   "metadata": {},
   "source": [
    "# Array programming example\n",
    "\n",
    "Here we demonstrate how we can perform some data analysis with numpy arrays. \n",
    "\n",
    "There are some nice resources [here](https://www.datacamp.com/community/tutorials/python-numpy-tutorial) and [here](https://jakevdp.github.io/PythonDataScienceHandbook/02.05-computation-on-arrays-broadcasting.html) also. "
   ]
  },
  {
   "cell_type": "code",
   "execution_count": null,
   "metadata": {},
   "outputs": [],
   "source": [
    "import numpy as np"
   ]
  },
  {
   "cell_type": "markdown",
   "metadata": {},
   "source": [
    "## Create a 2-d array, with broadcasting\n",
    "\n",
    "We'll create a 10x10 array with a couple of linspaces\n",
    "\n",
    "First, we create a 10x1 array. Then, we create a 1x10 array and add them. The second array is *broadcast* to the shape of the first so it simply adds the value to the rows of a. "
   ]
  },
  {
   "cell_type": "code",
   "execution_count": null,
   "metadata": {},
   "outputs": [],
   "source": [
    "a = np.linspace(0,9,10).reshape(10,1)\n",
    "a"
   ]
  },
  {
   "cell_type": "code",
   "execution_count": null,
   "metadata": {},
   "outputs": [],
   "source": [
    "b = np.linspace(0,9,10)\n",
    "b"
   ]
  },
  {
   "cell_type": "code",
   "execution_count": null,
   "metadata": {
    "scrolled": true
   },
   "outputs": [],
   "source": [
    "a = a + b\n",
    "a"
   ]
  },
  {
   "cell_type": "markdown",
   "metadata": {},
   "source": [
    "## Element-wise operations, with broadcasting\n",
    "\n",
    "We can also perform element-wise operations with broadcasting. The shape of the scalar \"0.01\" is expanded into a 10x10 array and added to `a`. "
   ]
  },
  {
   "cell_type": "code",
   "execution_count": null,
   "metadata": {},
   "outputs": [],
   "source": [
    "a += 0.01\n",
    "a"
   ]
  },
  {
   "cell_type": "markdown",
   "metadata": {},
   "source": [
    "## Functions of arrays\n",
    "\n",
    "We can perform functions on elements of arrays with the same syntax you'd expect. These are called \"ufuncs\" in numpy (short for \"universal functions). Here is an example with `sin()`:"
   ]
  },
  {
   "cell_type": "code",
   "execution_count": null,
   "metadata": {},
   "outputs": [],
   "source": [
    "sina = np.sin(a)\n",
    "sina"
   ]
  },
  {
   "cell_type": "markdown",
   "metadata": {},
   "source": [
    "## Array-wide operations, no need for broadcasting\n",
    "\n",
    "We can also perform standard array operations. Here, \"d\" will have the same shape as `a`, as will `sina`. We will create an array that will be equal to ```1 + sin(a)``` and store it in `e`"
   ]
  },
  {
   "cell_type": "code",
   "execution_count": null,
   "metadata": {},
   "outputs": [],
   "source": [
    "d = np.ones_like(a)\n",
    "d"
   ]
  },
  {
   "cell_type": "code",
   "execution_count": null,
   "metadata": {},
   "outputs": [],
   "source": [
    "e = d + sina\n",
    "print(\"e=\")\n",
    "e"
   ]
  },
  {
   "cell_type": "markdown",
   "metadata": {},
   "source": [
    "## Plot `1+sin(a)`\n",
    "\n",
    "Now just to show what we can do from here, we use the `imshow` function in `matplotlib`. "
   ]
  },
  {
   "cell_type": "code",
   "execution_count": null,
   "metadata": {},
   "outputs": [],
   "source": [
    "import matplotlib.pyplot as plt"
   ]
  },
  {
   "cell_type": "code",
   "execution_count": null,
   "metadata": {},
   "outputs": [],
   "source": [
    "plt.imshow(e)\n",
    "plt.colorbar()\n",
    "\n",
    "# Equivalently, using local variables:\n",
    "#fig, ax = plt.subplots(1, 1, figsize=(6, 4))\n",
    "#colorplot = ax.pcolor(e)\n",
    "#fig.colorbar(colorplot)\n"
   ]
  },
  {
   "cell_type": "markdown",
   "metadata": {},
   "source": [
    "## Slices\n",
    "\n",
    "We can change some bits of a with slices as well. Here we increment the \"1\" entry of all of the rows and re-plot. You can see the column has a different value. \n"
   ]
  },
  {
   "cell_type": "code",
   "execution_count": null,
   "metadata": {},
   "outputs": [],
   "source": [
    "# Remake a from scratch\n",
    "a = np.linspace(0,9,10)[:, np.newaxis] + np.linspace(0,9,10)[np.newaxis, :]\n",
    "\n",
    "fig, axes = plt.subplots(1, 2, figsize=(13, 5))\n",
    "colorplot0 = axes[0].pcolor(a)\n",
    "fig.colorbar(colorplot0)\n",
    "\n",
    "b = a.copy()\n",
    "b[:, 1] += 10\n",
    "colorplot1 = axes[1].pcolor(b)\n",
    "fig.colorbar(colorplot1)\n"
   ]
  },
  {
   "cell_type": "code",
   "execution_count": null,
   "metadata": {},
   "outputs": [],
   "source": []
  },
  {
   "cell_type": "markdown",
   "metadata": {},
   "source": [
    "## Selections\n",
    "\n",
    "We can also make selections of the elements within the arrays. For instance, here we find everywhere the modified array is larger than 5. This returns a 2-d array with the same shape, and each element has the result of the comparison stored. "
   ]
  },
  {
   "cell_type": "code",
   "execution_count": null,
   "metadata": {},
   "outputs": [],
   "source": [
    "a_sel = a > 5.\n",
    "a_sel"
   ]
  },
  {
   "cell_type": "markdown",
   "metadata": {},
   "source": [
    "## Fancy indexing\n",
    "\n",
    "Now we can do something really cool. We can use `a_sel` as an index of a! It will give us the elements where `a > 5` as a 1-d array. "
   ]
  },
  {
   "cell_type": "code",
   "execution_count": null,
   "metadata": {},
   "outputs": [],
   "source": [
    "a[a_sel]"
   ]
  },
  {
   "cell_type": "markdown",
   "metadata": {},
   "source": [
    "## np.where and indexing\n",
    "\n",
    "The `np.where` function is very useful in this sense. It will preserve the shape of the original array and you can decide what to do with the rest. The syntax is\n",
    "\n",
    "`where( selection, value_if_true, value_if_false)`. "
   ]
  },
  {
   "cell_type": "code",
   "execution_count": null,
   "metadata": {},
   "outputs": [],
   "source": [
    "v = np.where( a_sel, a, 0)\n",
    "v"
   ]
  },
  {
   "cell_type": "code",
   "execution_count": null,
   "metadata": {},
   "outputs": [],
   "source": [
    "plt.imshow(v)\n",
    "plt.colorbar();"
   ]
  },
  {
   "cell_type": "markdown",
   "metadata": {},
   "source": [
    "## Combining arrays\n",
    "\n",
    "We've seen that most of the arithmetic operations (`+`, `-`, etc) are elementwise in `numpy`. "
   ]
  },
  {
   "cell_type": "code",
   "execution_count": null,
   "metadata": {},
   "outputs": [],
   "source": [
    "x = np.array([0,1,2])\n",
    "y = np.array([3,4,5])\n",
    "\n",
    "x + y"
   ]
  },
  {
   "cell_type": "markdown",
   "metadata": {},
   "source": [
    "But what about \"array\" arithemtic, like transposing, and concatenation? `numpy` supports those too. They usually have special function names. Be careful, the arguments are usually a tuple for the arguments (hence the \"double parenthesis\"). There are others too (\"stacking\") for you to play with. "
   ]
  },
  {
   "cell_type": "code",
   "execution_count": null,
   "metadata": {},
   "outputs": [],
   "source": [
    "z = np.concatenate((x,y))\n",
    "z"
   ]
  },
  {
   "cell_type": "code",
   "execution_count": null,
   "metadata": {},
   "outputs": [],
   "source": [
    "z = np.stack((x, y), axis=1)\n",
    "z"
   ]
  }
 ],
 "metadata": {
  "kernelspec": {
   "display_name": "Python 3 (ipykernel)",
   "language": "python",
   "name": "python3"
  },
  "language_info": {
   "codemirror_mode": {
    "name": "ipython",
    "version": 3
   },
   "file_extension": ".py",
   "mimetype": "text/x-python",
   "name": "python",
   "nbconvert_exporter": "python",
   "pygments_lexer": "ipython3",
   "version": "3.12.3"
  }
 },
 "nbformat": 4,
 "nbformat_minor": 4
}
