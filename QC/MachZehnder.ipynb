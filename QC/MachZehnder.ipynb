{
 "cells": [
  {
   "cell_type": "markdown",
   "id": "still-restaurant",
   "metadata": {},
   "source": [
    "# Mach-Zehnder Interferometer as Hadamard gate\n",
    "This notebook uses qiskit to describe the outcome of the Single Photon Mach-Zehnder experiment as a Hadamard gate and a measurement.\n",
    "It serves as a simple example how to describe Quantum Mechanical experiments as a circuit of quantum gates."
   ]
  },
  {
   "cell_type": "markdown",
   "id": "champion-bench",
   "metadata": {},
   "source": [
    "### Qiskit\n",
    "We are using Qiskit to describe, draw and simulate the quantum circuit.\n",
    "To include the visualization add the tag in the square brackets.\n",
    "Note: in zsh this has to be encapsulated in single quotes."
   ]
  },
  {
   "cell_type": "code",
   "execution_count": null,
   "id": "intelligent-compound",
   "metadata": {},
   "outputs": [],
   "source": [
    "!pip3 install 'qiskit[visualization]'"
   ]
  },
  {
   "cell_type": "markdown",
   "id": "toxic-baking",
   "metadata": {},
   "source": [
    "### Libraries\n",
    "For the first simulation we use the QasmSimulator:\n",
    "\n",
    "> \"The QasmSimulator backend is designed to mimic an actual device. It executes a Qiskit QuantumCircuit and returns a count dictionary containing the final values of any classical registers in the circuit. \n",
    "The circuit may contain gates measure, reset, conditionals, and other advanced simulator options.\" (https://sooluthomas.github.io/testTranslation/aer/simulate_experiments.html)"
   ]
  },
  {
   "cell_type": "code",
   "execution_count": null,
   "id": "fabulous-broadcasting",
   "metadata": {},
   "outputs": [],
   "source": [
    "import numpy as np\n",
    "from qiskit import QuantumCircuit, transpile, QuantumRegister, ClassicalRegister\n",
    "from qiskit.providers.aer import QasmSimulator\n",
    "from qiskit.visualization import plot_histogram"
   ]
  },
  {
   "cell_type": "markdown",
   "id": "better-influence",
   "metadata": {},
   "source": [
    "### Mach-Zehnder interferometer\n",
    "(https://en.wikipedia.org/wiki/Mach–Zehnder_interferometer)\n",
    "![MZ](https://upload.wikimedia.org/wikipedia/commons/thumb/c/c9/Mach-Zehnder_interferometer.svg/640px-Mach-Zehnder_interferometer.svg.png)\n",
    "\n",
    "We can model a photon going through the interferometer by assigning a probability amplitude to each of the two possible paths: \n",
    "\n",
    "* the \"lower\" path which starts from the left, goes straight through both beam splitters, and ends at the top \n",
    "* the \"upper\" path which starts from the bottom, goes straight through both beam splitters, and ends at the right.\n",
    "\n",
    "The quantum state describing the photon is therefore a vector $\\psi \\in \\mathbb{C}^2$ that is a superposition of the \"lower\" path \n",
    "$$\n",
    "\\psi_l = \\begin{pmatrix} 1 \\\\\n",
    "0 \n",
    "\\end{pmatrix}\n",
    "$$\n",
    "\n",
    "and the \"upper\" path \n",
    "\n",
    "$$\n",
    "\\psi_u = \\begin{pmatrix} 0 \\\\\n",
    "1 \n",
    "\\end{pmatrix}\n",
    "$$\n",
    "\n",
    "that is, $\\psi = \\alpha \\psi_l + \\beta \\psi_u$ for complex $\\alpha,\\beta$ such that $|\\alpha|^2+|\\beta|^2 = 1$.\n",
    "\n",
    "Both beam splitters are modelled as the unitary matrix \n",
    "\n",
    "$$\n",
    "B = \\frac1{\\sqrt2}\n",
    "\\begin{pmatrix} \n",
    "    1 & i \\\\ \n",
    "    i & 1 \n",
    "\\end{pmatrix}\n",
    "$$\n",
    "\n",
    "which means that when a photon meets the beam splitter it will either stay on the same path with a probability amplitude of $1/\\sqrt{2}$, or be reflected to the other path with a probability amplitude of $i/\\sqrt{2}$.\n",
    "The phase shifter on the upper arm is modelled as the unitary matrix \n",
    "\n",
    "$$\n",
    "P = \n",
    "\\begin{pmatrix} \n",
    "    1 & 0 \\\\\n",
    "    0 & e^{i\\Delta\\Phi} \n",
    "\\end{pmatrix}\n",
    "$$\n",
    "\n",
    "which means that if the photon is on the \"upper\" path it will gain a relative phase of $\\Delta\\Phi$, and it will stay unchanged if it is on the lower path.\n",
    "\n",
    "A photon that enters the interferometer from the left will then end up described by the state:\n",
    "\n",
    "$$\n",
    "BPB\\psi_l = ie^{i\\Delta\\Phi/2} \n",
    "\\begin{pmatrix} \n",
    "    -\\sin(\\Delta\\Phi/2) \\\\ \n",
    "    \\cos(\\Delta\\Phi/2) \n",
    "\\end{pmatrix}\n",
    "$$\n",
    "\n",
    "and the probabilities that it will be detected at the right or at the top are given respectively by:\n",
    "\n",
    "$$ \n",
    "p(u) = |\\langle \\psi_u| BPB|\\psi_l \\rangle|^2 = \\cos^2 \\frac{\\Delta \\Phi}{2}\\\\\n",
    "p(l) = |\\langle \\psi_l| BPB|\\psi_l \\rangle|^2 = \\sin^2 \\frac{\\Delta \\Phi}{2}\n",
    "$$\n",
    "\n",
    "One can therefore use the Mach–Zehnder interferometer to estimate the Phase by estimating these probabilities.\n",
    "\n",
    "Let's now assume as in the double slit example we know which path the photon takes (eg blocking one path).\n",
    "In this case there will no longer be interference between the paths, and the probabilities are given by $p(u)=p(l) = 1/2$, independently of the phase $\\Delta\\Phi$."
   ]
  },
  {
   "cell_type": "markdown",
   "id": "gothic-drive",
   "metadata": {},
   "source": [
    "## Hadamard Gate - Model\n",
    "For our model circuit we can now assume that the photon is in a superposition of the top and bottom path.\n",
    "The quamtum logical gate that constructs a superposition is called the Hadamard gate: (https://en.wikipedia.org/wiki/Quantum_logic_gate#Hadamard_(H)_gate)\n",
    "\n",
    "![Hadamard matrix](https://upload.wikimedia.org/wikipedia/commons/thumb/1/1a/Hadamard_gate.svg/320px-Hadamard_gate.svg.png)\n",
    "\n",
    "which can act on a single qubit (in our case the Mach-Zehnder Interferometer).\n",
    "\n",
    "It maps the basis state $|0\\rangle$ to $\\frac{|0\\rangle + |1\\rangle}{\\sqrt{2}}$ and  $|1\\rangle$ to $\\frac{|0\\rangle - |1\\rangle}{\\sqrt{2}}$, which means that a measurement will have equal probabilities to result in 1 or 0 (i.e. creates a superposition).\n",
    "It represents a rotation of $\\pi$ about the axis $(\\hat{x}+\\hat{z})/\\sqrt{2}$ at the Bloch sphere (see plotting the state vector below). \n",
    "Equivalently, it is the combination of two rotations,  $\\pi$ about the Z-axis, then by $\\pi/2$ about the Y-axis: \n",
    "\n",
    "$$ \n",
    "R_y(\\pi/2)R_z(\\pi) = iH\n",
    "$$\n",
    "\n",
    "It is represented by the Hadamard matrix:\n",
    "\n",
    "$$H = \\frac{1}{\\sqrt{2}} \n",
    "\\begin{bmatrix} \n",
    "1 & 1 \\\\\n",
    "1 & -1 \n",
    "\\end{bmatrix}\n",
    "$$\n",
    "\n",
    "Since $HH^\\dagger=H^{\\dagger}H=I$ where $I$ is the identity matrix, $H$ is a unitary matrix (like all other quantum logical gates)."
   ]
  },
  {
   "cell_type": "markdown",
   "id": "necessary-showcase",
   "metadata": {},
   "source": [
    "### Create Quantum circuit"
   ]
  },
  {
   "cell_type": "code",
   "execution_count": null,
   "id": "certain-gibson",
   "metadata": {},
   "outputs": [],
   "source": [
    "# Create a Quantum Circuit acting on the q register\n",
    "circuit = QuantumCircuit(QuantumRegister(1), ClassicalRegister(1))\n",
    "\n",
    "# Add a H gate on qubit 0\n",
    "circuit.h(0)\n",
    "#circuit.z(0)\n",
    "#circuit.h(0)\n",
    "\n",
    "# Map the quantum measurement to the classical bits\n",
    "circuit.measure([0], [0])\n",
    "\n",
    "# Draw the circuit\n",
    "circuit.draw()"
   ]
  },
  {
   "cell_type": "markdown",
   "id": "higher-companion",
   "metadata": {},
   "source": [
    "### Simulate the quantum circuit"
   ]
  },
  {
   "cell_type": "code",
   "execution_count": null,
   "id": "genuine-garden",
   "metadata": {},
   "outputs": [],
   "source": [
    "# Use Aer's qasm_simulator\n",
    "simulator = QasmSimulator()\n",
    "\n",
    "# transpile the circuit down to low-level QASM instructions\n",
    "# supported by the backend (not needed for simple circuits)\n",
    "# https://en.wikipedia.org/wiki/Source-to-source_compiler\n",
    "compiled_circuit = transpile(circuit, simulator)"
   ]
  },
  {
   "cell_type": "code",
   "execution_count": null,
   "id": "spanish-feature",
   "metadata": {},
   "outputs": [],
   "source": [
    "# print low level code: open Quantum Assembler\n",
    "print(compiled_circuit.qasm())"
   ]
  },
  {
   "cell_type": "code",
   "execution_count": null,
   "id": "alien-trash",
   "metadata": {},
   "outputs": [],
   "source": [
    "# Execute the circuit on the qasm simulator\n",
    "job = simulator.run(compiled_circuit, shots=1000)\n",
    "\n",
    "# Grab results from the job\n",
    "result = job.result()\n",
    "\n",
    "# Returns counts\n",
    "counts = result.get_counts(circuit)\n",
    "print(\"\\nTotal count for 00 and 11 are:\",counts)"
   ]
  },
  {
   "cell_type": "code",
   "execution_count": null,
   "id": "sonic-issue",
   "metadata": {},
   "outputs": [],
   "source": [
    "# Plot a histogram\n",
    "plot_histogram(counts)"
   ]
  },
  {
   "cell_type": "markdown",
   "id": "declared-circus",
   "metadata": {},
   "source": [
    "## Plot the state vector\n",
    "To plot the state vector we do not need to (should not) do a measurement.\n",
    "You can use the QasmSimulator backend and the `SaveStateVector` function, or use another simulator made for this purpose:\n",
    "\n",
    "'statevector_simulator'"
   ]
  },
  {
   "cell_type": "code",
   "execution_count": null,
   "id": "short-match",
   "metadata": {},
   "outputs": [],
   "source": [
    "from qiskit import BasicAer, execute\n",
    "from qiskit.visualization import plot_state_city, plot_bloch_multivector\n",
    "from qiskit.visualization import plot_state_paulivec, plot_state_hinton\n",
    "from qiskit.visualization import plot_state_qsphere"
   ]
  },
  {
   "cell_type": "code",
   "execution_count": null,
   "id": "stone-consent",
   "metadata": {},
   "outputs": [],
   "source": [
    "circuit.draw()"
   ]
  },
  {
   "cell_type": "markdown",
   "id": "particular-affiliate",
   "metadata": {},
   "source": [
    "Let's redo our cricuit and spllit it in circuit and measurement"
   ]
  },
  {
   "cell_type": "code",
   "execution_count": null,
   "id": "altered-street",
   "metadata": {},
   "outputs": [],
   "source": [
    "# Create a Quantum Circuit acting on the q register\n",
    "qr = QuantumRegister(1)\n",
    "qcirc = QuantumCircuit(qr)\n",
    "\n",
    "# Add a H gate on qubit 0\n",
    "qcirc.h(0)\n",
    "qcirc.draw()"
   ]
  },
  {
   "cell_type": "code",
   "execution_count": null,
   "id": "veterinary-dimension",
   "metadata": {},
   "outputs": [],
   "source": [
    "# execute the quantum circuit\n",
    "backend = BasicAer.get_backend('statevector_simulator') # the device to run on\n",
    "result = execute(qcirc, backend).result()\n",
    "psi  = result.get_statevector(qcirc)"
   ]
  },
  {
   "cell_type": "code",
   "execution_count": null,
   "id": "frank-archive",
   "metadata": {},
   "outputs": [],
   "source": [
    "plot_state_city(psi)"
   ]
  },
  {
   "cell_type": "code",
   "execution_count": null,
   "id": "opposed-chemistry",
   "metadata": {},
   "outputs": [],
   "source": [
    "plot_bloch_multivector(psi)"
   ]
  },
  {
   "cell_type": "markdown",
   "id": "surrounded-vintage",
   "metadata": {},
   "source": [
    "## Combining Quantum Circuits"
   ]
  },
  {
   "cell_type": "code",
   "execution_count": null,
   "id": "voluntary-front",
   "metadata": {},
   "outputs": [],
   "source": [
    "# measurement circuit\n",
    "meas = QuantumCircuit(qr,ClassicalRegister(1))\n",
    "meas.measure(qr,[0])\n",
    "# Draw the circuit\n",
    "meas.draw()"
   ]
  },
  {
   "cell_type": "code",
   "execution_count": null,
   "id": "portuguese-nicaragua",
   "metadata": {},
   "outputs": [],
   "source": [
    "circ = qcirc+meas\n",
    "circ.draw()"
   ]
  },
  {
   "cell_type": "code",
   "execution_count": null,
   "id": "careful-broadcasting",
   "metadata": {},
   "outputs": [],
   "source": [
    "result = execute(circ, backend, shots=1000).result()\n",
    "counts  = result.get_counts(circ)\n",
    "print(counts)"
   ]
  },
  {
   "cell_type": "code",
   "execution_count": null,
   "id": "ordinary-meditation",
   "metadata": {},
   "outputs": [],
   "source": [
    "plot_histogram(counts)"
   ]
  }
 ],
 "metadata": {
  "kernelspec": {
   "display_name": "compphys_tf2.4",
   "language": "python",
   "name": "compphys_tf2.4"
  },
  "language_info": {
   "codemirror_mode": {
    "name": "ipython",
    "version": 3
   },
   "file_extension": ".py",
   "mimetype": "text/x-python",
   "name": "python",
   "nbconvert_exporter": "python",
   "pygments_lexer": "ipython3",
   "version": "3.8.8"
  }
 },
 "nbformat": 4,
 "nbformat_minor": 5
}
