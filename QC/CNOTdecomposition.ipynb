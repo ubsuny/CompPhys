{
 "cells": [
  {
   "cell_type": "markdown",
   "id": "contemporary-recording",
   "metadata": {},
   "source": [
    "## CNOT decomposition\n",
    "based on (https://qiskit.org/documentation/tutorials/simulators/4_custom_gate_noise.html)"
   ]
  },
  {
   "cell_type": "code",
   "execution_count": null,
   "id": "computational-latino",
   "metadata": {},
   "outputs": [],
   "source": [
    "import qiskit.tools.jupyter\n",
    "%qiskit_version_table"
   ]
  },
  {
   "cell_type": "code",
   "execution_count": null,
   "id": "meaningful-exemption",
   "metadata": {},
   "outputs": [],
   "source": [
    "from qiskit import QuantumCircuit\n",
    "import qiskit.quantum_info as qi"
   ]
  },
  {
   "cell_type": "code",
   "execution_count": null,
   "id": "foreign-nickname",
   "metadata": {},
   "outputs": [],
   "source": [
    "# iSWAP matrix operator\n",
    "iswap_op = qi.Operator([[1, 0, 0, 0],\n",
    "                        [0, 0, 1j, 0],\n",
    "                        [0, 1j, 0, 0],\n",
    "                        [0, 0, 0, 1]])"
   ]
  },
  {
   "cell_type": "code",
   "execution_count": null,
   "id": "conservative-validation",
   "metadata": {},
   "outputs": [],
   "source": [
    "# CNOT in terms of iSWAP and single-qubit gates\n",
    "cx_circ = QuantumCircuit(2, name='cx<iSWAP>')\n",
    "\n",
    "# Add gates\n",
    "cx_circ.sdg(1)\n",
    "cx_circ.h(1)\n",
    "cx_circ.sdg(0)\n",
    "cx_circ.unitary(iswap_op, [0, 1], label='iswap')\n",
    "cx_circ.sdg(0)\n",
    "cx_circ.h(0)\n",
    "cx_circ.sdg(0)\n",
    "cx_circ.unitary(iswap_op, [0, 1], label='iswap')\n",
    "cx_circ.s(1)\n",
    "\n",
    "print(cx_circ)"
   ]
  },
  {
   "cell_type": "code",
   "execution_count": null,
   "id": "important-salad",
   "metadata": {},
   "outputs": [],
   "source": []
  }
 ],
 "metadata": {
  "kernelspec": {
   "display_name": "compphys_tf2.4",
   "language": "python",
   "name": "compphys_tf2.4"
  },
  "language_info": {
   "codemirror_mode": {
    "name": "ipython",
    "version": 3
   },
   "file_extension": ".py",
   "mimetype": "text/x-python",
   "name": "python",
   "nbconvert_exporter": "python",
   "pygments_lexer": "ipython3",
   "version": "3.8.8"
  }
 },
 "nbformat": 4,
 "nbformat_minor": 5
}
