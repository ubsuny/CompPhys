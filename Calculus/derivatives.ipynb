{
 "cells": [
  {
   "cell_type": "markdown",
   "metadata": {},
   "source": [
    "# Calculating derivatives"
   ]
  },
  {
   "cell_type": "code",
   "execution_count": null,
   "metadata": {},
   "outputs": [],
   "source": [
    "import math\n",
    "import numpy as np\n",
    "import matplotlib.pyplot as plt\n",
    "from derivatives import derivative_ridders, derivative_fivepoint"
   ]
  },
  {
   "cell_type": "code",
   "execution_count": null,
   "metadata": {},
   "outputs": [],
   "source": [
    "# Make the plots a bit bigger to see\n",
    "# NOTE: Must be done in a separate cell\n",
    "plt.rcParams['figure.dpi'] = 100"
   ]
  },
  {
   "cell_type": "code",
   "execution_count": null,
   "metadata": {},
   "outputs": [],
   "source": []
  },
  {
   "cell_type": "markdown",
   "metadata": {},
   "source": [
    "## First investigate the Tableau from Ridders' method"
   ]
  },
  {
   "cell_type": "code",
   "execution_count": null,
   "metadata": {},
   "outputs": [],
   "source": [
    "\n",
    "f = math.exp\n",
    "h = 0.01\n",
    "x = 1.5\n",
    "np.exp(x)\n",
    "der, error = derivative_ridders(f,x,h,n=5,verbose=True)\n",
    "print(f\"Derivative = {der} +/- {error}\")"
   ]
  },
  {
   "cell_type": "markdown",
   "metadata": {},
   "source": [
    "## Now check the accuracy of the methods for a few functions\n",
    "\n",
    "Including the crazy $\\sin(1/x)$. "
   ]
  },
  {
   "cell_type": "code",
   "execution_count": null,
   "metadata": {},
   "outputs": [],
   "source": [
    "a = 0.01\n",
    "b = np.pi\n",
    "xvals = np.linspace(a,b,10000)\n",
    "yvals = np.sin(1./xvals)\n",
    "plt.xlabel(\"x\")\n",
    "plt.ylabel(\"sin(1/x)\")\n",
    "plt.plot(xvals,yvals)\n",
    "plt.show()"
   ]
  },
  {
   "cell_type": "code",
   "execution_count": null,
   "metadata": {},
   "outputs": [],
   "source": [
    "print (\"Testing algorithms for computing numeric derivatives\")\n",
    "\n",
    "error = 0.0\n",
    "h = 0.01\n",
    "\n",
    "der_funcs = [\n",
    "    [np.exp, np.exp, \"exp\"],\n",
    "    [np.sin, np.cos, \"sin\"],\n",
    "    [lambda x : x**2, lambda x : 2*x, \"x^2\"],\n",
    "    [lambda x : np.sin(1/x), lambda x : np.cos(1/x)/x**2, \"sin(1/x)\" ]\n",
    "]\n",
    "\n",
    "x = 3.\n",
    "print(\"------ x = %1.0f,  expected error = h^4 = %5.2e\" %(x, h**4))    \n",
    "for dfunc, tfunc, name in der_funcs:\n",
    "    # dfunc = python function f(x)\n",
    "    # tfunc = analytical (true) derivative of f(x)\n",
    "    der_ridders, error_ridders =  derivative_ridders(dfunc, x, h)\n",
    "    der_5p = derivative_fivepoint(dfunc,x,h)\n",
    "    print(f\"d({name:8s}(x))/dx = {tfunc(x):+16.12e}, Ridders = {der_ridders:+16.12e} +/- {error_ridders:+3.1e}, 5pt = {der_5p:+16.12e}\")\n",
    "    #print ('D {0:8s} = {1:+16.12e}, ridders = {2:+16.12e}, 5pt = {3:+16.12e} obs error = {4:+3.1e}'.format( name, tfunc(x), xprime, xprime2, error))\n"
   ]
  },
  {
   "cell_type": "code",
   "execution_count": null,
   "metadata": {},
   "outputs": [],
   "source": []
  }
 ],
 "metadata": {
  "kernelspec": {
   "display_name": "Python 3 (ipykernel)",
   "language": "python",
   "name": "python3"
  },
  "language_info": {
   "codemirror_mode": {
    "name": "ipython",
    "version": 3
   },
   "file_extension": ".py",
   "mimetype": "text/x-python",
   "name": "python",
   "nbconvert_exporter": "python",
   "pygments_lexer": "ipython3",
   "version": "3.12.3"
  }
 },
 "nbformat": 4,
 "nbformat_minor": 4
}
