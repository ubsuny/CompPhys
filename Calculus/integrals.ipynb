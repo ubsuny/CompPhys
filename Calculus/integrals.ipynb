{
 "cells": [
  {
   "cell_type": "markdown",
   "metadata": {},
   "source": [
    "# Calculating integrals"
   ]
  },
  {
   "cell_type": "code",
   "execution_count": null,
   "metadata": {},
   "outputs": [],
   "source": [
    "import math\n",
    "import numpy as np\n",
    "import matplotlib.pyplot as plt\n",
    "from integrals import simpson, trapezoid, adaptive_trapezoid"
   ]
  },
  {
   "cell_type": "markdown",
   "metadata": {},
   "source": [
    "## First investigate simple trapezoidal and Simpson's (quadratic) summations for quadrature"
   ]
  },
  {
   "cell_type": "code",
   "execution_count": null,
   "metadata": {},
   "outputs": [],
   "source": [
    "# Integral of sin(x) from 0 to pi\n",
    "N = 16 # Number of slices\n",
    "a = 0\n",
    "b = np.pi\n",
    "ans1 = trapezoid(np.sin, a, b, N)\n",
    "print (f'Trapezoidal rule: {ans1}')\n",
    "\n",
    "ans2 = simpson(np.sin, a, b, N)\n",
    "print (f'Simpson\\'s rule: {ans2}')\n",
    "\n",
    "print(f\"True value: {np.cos(0) - np.cos(np.pi)}\")"
   ]
  },
  {
   "cell_type": "markdown",
   "metadata": {},
   "source": [
    "## Next investigate the adaptive trapezoidal quadrature"
   ]
  },
  {
   "cell_type": "code",
   "execution_count": null,
   "metadata": {},
   "outputs": [],
   "source": [
    "ans3 = adaptive_trapezoid(np.sin, a, b, 0.0001, output=True)\n",
    "print(f'Adaptive trapezoidal rule = {ans3}')\n",
    "\n"
   ]
  },
  {
   "cell_type": "markdown",
   "metadata": {},
   "source": [
    "## Try something a little crazier"
   ]
  },
  {
   "cell_type": "code",
   "execution_count": null,
   "metadata": {},
   "outputs": [],
   "source": [
    "a = 0.01\n",
    "b = np.pi\n",
    "xvals = np.linspace(a,b,10000)\n",
    "yvals = np.sin(1./xvals)\n",
    "plt.xlabel(\"x\")\n",
    "plt.ylabel(\"y\")\n",
    "plt.plot(xvals,yvals)\n",
    "plt.show()"
   ]
  },
  {
   "cell_type": "code",
   "execution_count": null,
   "metadata": {},
   "outputs": [],
   "source": [
    "print(\"correct answer is 1.57585\")\n",
    "ans4 = trapezoid(lambda x : np.sin(1/x), a, b, n1)\n",
    "print ('Trapezoidal rule = ' + str(ans4))\n",
    "print(\"------\")\n",
    "ans5 = adaptive_trapezoid( lambda x : np.sin(1/x), a, b, 0.0001, output=True)\n",
    "print ('Adaptive trapezoidal rule = ' + str(ans5))\n"
   ]
  }
 ],
 "metadata": {
  "kernelspec": {
   "display_name": "Python 3 (ipykernel)",
   "language": "python",
   "name": "python3"
  },
  "language_info": {
   "codemirror_mode": {
    "name": "ipython",
    "version": 3
   },
   "file_extension": ".py",
   "mimetype": "text/x-python",
   "name": "python",
   "nbconvert_exporter": "python",
   "pygments_lexer": "ipython3",
   "version": "3.12.3"
  }
 },
 "nbformat": 4,
 "nbformat_minor": 4
}
