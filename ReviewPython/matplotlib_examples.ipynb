{
 "cells": [
  {
   "cell_type": "code",
   "execution_count": null,
   "id": "5914229e-33f2-4e8f-9cf5-836daade604d",
   "metadata": {},
   "outputs": [],
   "source": [
    "%matplotlib ipympl\n",
    "import matplotlib.pyplot as plt\n",
    "import math\n",
    "import numpy as np\n",
    "from matplotlib.colors import SymLogNorm\n",
    "\n",
    "# Hide the figure title\n",
    "import matplotlib as mpl\n",
    "mpl.rcParams[\"figure.titlesize\"] = 0\n"
   ]
  },
  {
   "cell_type": "code",
   "execution_count": null,
   "id": "9e5fd6e8-a0cd-4792-9467-f5b54e09e363",
   "metadata": {},
   "outputs": [],
   "source": [
    "plt.plot([1,2,3,4])\n",
    "plt.ylabel('some numbers')\n",
    "plt.show()\n"
   ]
  },
  {
   "cell_type": "code",
   "execution_count": null,
   "id": "3e9dc0f3-d70b-47b9-8e71-6f9349d88b52",
   "metadata": {},
   "outputs": [],
   "source": [
    "# For more control, create a \"figure\" object instead of using the global \"plt\" variable\n",
    "fig, ax = plt.subplots(figsize=(6, 4)) # Or just `fig = plt.figure()`\n",
    "fig.canvas.header_visible = False\n",
    "x = np.array(range(10))\n",
    "y = 0.5 * x**2\n",
    "ax.scatter(x, y)\n",
    "ax.set_xlabel('$v$ (m/s)')\n",
    "ax.set_ylabel(r'$E=\\frac{1}{2}mv^2$ (J)')\n",
    "#fig.show()\n"
   ]
  },
  {
   "cell_type": "code",
   "execution_count": null,
   "id": "bfffdad7-cd2d-4ffa-bd39-a349286261c6",
   "metadata": {},
   "outputs": [],
   "source": [
    "# Plotting a function\n",
    "# The way to do this in matplotlib is actually to plot many points along the function, with lines in between\n",
    "\n",
    "fig_fn, ax_fn = plt.subplots(figsize=(6, 4)) # Or just `fig = plt.figure()`\n",
    "x = np.linspace(0., 2*math.pi, 500)\n",
    "y = np.sin(x)\n",
    "ax_fn.plot(x, y)\n",
    "ax_fn.set_xlabel('x')\n",
    "ax_fn.set_ylabel('sin(x)')\n",
    "#fig.show()\n"
   ]
  },
  {
   "cell_type": "code",
   "execution_count": null,
   "id": "688f47b4-df6e-47ba-99ed-3769cd89d7cf",
   "metadata": {},
   "outputs": [],
   "source": [
    "# Simple meshgrid example\n",
    "x = np.linspace(-5., 5., 11)\n",
    "y = np.linspace(-5., 5., 11)\n",
    "xgrid, ygrid = np.meshgrid(x, y)\n",
    "print(xgrid)\n",
    "print(ygrid)\n",
    "\n",
    "# Print radius\n",
    "print(\"Distance from (0, 0):\")\n",
    "rgrid = (xgrid**2 + ygrid**2)**0.5\n",
    "for i, arr1 in enumerate(rgrid):\n",
    "    for x in arr1:\n",
    "        print(f\"{x:.2f}\\t\", end='')\n",
    "    print(\"\\n\")\n"
   ]
  },
  {
   "cell_type": "code",
   "execution_count": null,
   "id": "5b1e6449-d0e4-4331-b989-52f4190b9900",
   "metadata": {},
   "outputs": [],
   "source": [
    "# 2D plot example\n",
    "G = 6.6743e-11 # Gravitational constant [m3 kg-1 s-2]\n",
    "m_sun = 1.988416e30 # Solar mass [kg]\n",
    "def gpot(r, m=1.0, m0=m_sun):\n",
    "    \"\"\"Potential energy function\"\"\"\n",
    "    return -1. * G * m * m0 / r\n",
    "\n",
    "solar_system_radius = 3.e16\n",
    "x = np.linspace(-1 * solar_system_radius, solar_system_radius, 100)\n",
    "y = np.linspace(-1 * solar_system_radius, solar_system_radius, 100)\n",
    "xv, yv = np.meshgrid(x, y)\n",
    "r = np.sqrt(xv**2 + yv**2)\n",
    "pot_energy = gpot(r)\n",
    "\n",
    "fig, ax = plt.subplots(1, 1, figsize=(6, 5))\n",
    "colorplot = ax.pcolor(xv, yv, pot_energy)\n",
    "\n",
    "ax.set_xlabel(\"x (m)\")\n",
    "ax.set_ylabel(\"y (m)\")\n",
    "fig.colorbar(colorplot, label=\"U (J)\")\n",
    "\n"
   ]
  },
  {
   "cell_type": "code",
   "execution_count": null,
   "id": "817a7e8a-df1a-4f18-936c-a5e74924efcb",
   "metadata": {},
   "outputs": [],
   "source": [
    "# Change to a logarithmic z-axis\n",
    "\n",
    "fig_log, ax_log = plt.subplots(1, 1, figsize=(6, 5))\n",
    "colorplot = ax_log.pcolor(xv, yv, pot_energy, norm=SymLogNorm(linthresh=1.0, vmin=pot_energy.min(), vmax=pot_energy.max()))\n",
    "\n",
    "ax_log.set_xlabel(\"x (m)\")\n",
    "ax_log.set_ylabel(\"y (m)\")\n",
    "fig_log.colorbar(colorplot, label=\"U (J)\")\n",
    "\n"
   ]
  },
  {
   "cell_type": "code",
   "execution_count": null,
   "id": "6f983f9c-520b-47d8-b4b1-504ae45a0a53",
   "metadata": {},
   "outputs": [],
   "source": []
  }
 ],
 "metadata": {
  "kernelspec": {
   "display_name": "Python 3 (ipykernel)",
   "language": "python",
   "name": "python3"
  },
  "language_info": {
   "codemirror_mode": {
    "name": "ipython",
    "version": 3
   },
   "file_extension": ".py",
   "mimetype": "text/x-python",
   "name": "python",
   "nbconvert_exporter": "python",
   "pygments_lexer": "ipython3",
   "version": "3.12.3"
  }
 },
 "nbformat": 4,
 "nbformat_minor": 5
}
