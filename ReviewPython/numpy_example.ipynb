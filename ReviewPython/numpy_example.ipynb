{
 "cells": [
  {
   "cell_type": "code",
   "execution_count": null,
   "id": "603dc043-7bc2-463b-b0d4-854d14a9b029",
   "metadata": {},
   "outputs": [],
   "source": [
    "import numpy as np"
   ]
  },
  {
   "cell_type": "code",
   "execution_count": null,
   "id": "fecd0890-0d22-4898-a818-f9f2e37c84aa",
   "metadata": {},
   "outputs": [],
   "source": [
    "a = np.zeros(3)\n",
    "print(a)"
   ]
  },
  {
   "cell_type": "code",
   "execution_count": null,
   "id": "834b125d-e429-4eb2-b235-8b101beb6a8b",
   "metadata": {},
   "outputs": [],
   "source": [
    "b = np.zeros_like(a)\n",
    "print(b)"
   ]
  },
  {
   "cell_type": "code",
   "execution_count": null,
   "id": "fa39b53d-93e7-4a26-914e-267d4d2ea5a7",
   "metadata": {},
   "outputs": [],
   "source": [
    "c = np.ones(3)\n",
    "print(c)"
   ]
  },
  {
   "cell_type": "code",
   "execution_count": null,
   "id": "78ade81f-b92e-4226-bec0-f76c8a4b1954",
   "metadata": {},
   "outputs": [],
   "source": [
    "# linspace(start, finish, npoints)\n",
    "d = np.linspace(0, 10, 11)\n",
    "print(d)"
   ]
  },
  {
   "cell_type": "code",
   "execution_count": null,
   "id": "8773621c-6366-4493-aa44-9142c40eb8fa",
   "metadata": {},
   "outputs": [],
   "source": [
    "# arange(start, stop, step)\n",
    "e = np.arange(10)\n",
    "print(e)\n",
    "e2 = np.arange(0, 10, 0.25)\n",
    "print(e2)"
   ]
  },
  {
   "cell_type": "code",
   "execution_count": null,
   "id": "2dc9472e-a517-407f-b247-6ff2dff9e947",
   "metadata": {},
   "outputs": [],
   "source": [
    "a2 = np.zeros((3,2))\n",
    "print(a2)\n",
    "print(a2.shape)"
   ]
  },
  {
   "cell_type": "code",
   "execution_count": null,
   "id": "b0ad9b88-48ff-4583-959a-dbb7f1664421",
   "metadata": {},
   "outputs": [],
   "source": [
    "b2 = np.zeros_like(a2)\n",
    "print(b2)"
   ]
  },
  {
   "cell_type": "code",
   "execution_count": null,
   "id": "6d698059-81cc-48bf-af5c-dc13bc2ab144",
   "metadata": {},
   "outputs": [],
   "source": [
    "a3 = np.arange(12)\n",
    "print(a3)"
   ]
  },
  {
   "cell_type": "code",
   "execution_count": null,
   "id": "8673597b-28c2-4ea5-bacb-3cb281486c8e",
   "metadata": {},
   "outputs": [],
   "source": [
    "b3 = a3.reshape((6,2))\n",
    "print(b3)"
   ]
  },
  {
   "cell_type": "code",
   "execution_count": null,
   "id": "5a0b6933-971f-4d46-9992-ae37d02670c1",
   "metadata": {},
   "outputs": [],
   "source": [
    "b4 = a3.reshape((3,4))\n",
    "print(b4)"
   ]
  },
  {
   "cell_type": "code",
   "execution_count": null,
   "id": "74bedcaf-1a64-4cc1-ae65-605a6edd581c",
   "metadata": {},
   "outputs": [],
   "source": [
    "b5 = a3.reshape((3,2,2))\n",
    "print(b5)"
   ]
  },
  {
   "cell_type": "code",
   "execution_count": null,
   "id": "c067f6bc-ea97-4dea-989c-fd7f66ecba95",
   "metadata": {},
   "outputs": [],
   "source": []
  },
  {
   "cell_type": "code",
   "execution_count": null,
   "id": "2697e3c0-2d1b-4831-a18a-84649ef2f7ce",
   "metadata": {},
   "outputs": [],
   "source": []
  }
 ],
 "metadata": {
  "kernelspec": {
   "display_name": "Python 3 (ipykernel)",
   "language": "python",
   "name": "python3"
  },
  "language_info": {
   "codemirror_mode": {
    "name": "ipython",
    "version": 3
   },
   "file_extension": ".py",
   "mimetype": "text/x-python",
   "name": "python",
   "nbconvert_exporter": "python",
   "pygments_lexer": "ipython3",
   "version": "3.12.3"
  }
 },
 "nbformat": 4,
 "nbformat_minor": 5
}
