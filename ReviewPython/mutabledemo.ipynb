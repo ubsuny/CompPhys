{
 "cells": [
  {
   "cell_type": "code",
   "execution_count": null,
   "id": "381fad44-3fb5-43f7-85e8-b6e0a52ebd84",
   "metadata": {},
   "outputs": [],
   "source": [
    "# Immutable example\n",
    "def increment(x):\n",
    "    x += 1\n",
    "\n",
    "x = 0\n",
    "print(f\"Before increment, x = {x}\")\n",
    "increment(x)\n",
    "print(f\"After increment, x = {x}\")"
   ]
  },
  {
   "cell_type": "code",
   "execution_count": null,
   "id": "c1165503-d4a3-4193-ae4e-975295d29974",
   "metadata": {},
   "outputs": [],
   "source": [
    "# Immutable example, printing object id\n",
    "def increment(x):\n",
    "    print(f\"Before +=, id(x) = {id(x)}\")\n",
    "    x += 1\n",
    "    print(f\"After +=, id(x) = {id(x)}\")\n",
    "\n",
    "x = 0\n",
    "print(f\"Before increment, x = {x}, id(x) = {id(x)}\")\n",
    "increment(x)\n",
    "print(f\"After increment, x = {x}, id(x) = {id(x)}\")"
   ]
  },
  {
   "cell_type": "code",
   "execution_count": null,
   "id": "8b17c9de-77a6-4644-b9ca-b915cdeaf518",
   "metadata": {},
   "outputs": [],
   "source": [
    "# Mutable example\n",
    "def append_one(x):\n",
    "    x.append(1)\n",
    "\n",
    "xvals = [0, 1, 2, 3, 9]\n",
    "print(f'Before append_one, id(xvals) = {id(xvals)}, xvals =')\n",
    "print(xvals)\n",
    "append_one(xvals)\n",
    "print(f'After append_one, id(xvals) = {id(xvals)}, xvals =')\n",
    "print(xvals)\n"
   ]
  },
  {
   "cell_type": "code",
   "execution_count": null,
   "id": "2d37af6d-3f0e-4793-952d-fa73702dbf5e",
   "metadata": {},
   "outputs": [],
   "source": [
    "# String example\n",
    "# Strings are immutable!\n",
    "def mod_str(x):\n",
    "    x = 'yesssss'\n",
    "\n",
    "s = 'noooooo'\n",
    "print('before mod_str, s =')\n",
    "print(s)\n",
    "mod_str(s)\n",
    "print('after  mod_str, s =')\n",
    "print(s)\n"
   ]
  },
  {
   "cell_type": "code",
   "execution_count": null,
   "id": "c57f6da6-b022-4334-b7e7-7b0c3608fec1",
   "metadata": {},
   "outputs": [],
   "source": [
    "# BAD: many copies since string is immutable:\n",
    "v = \"Always\"\n",
    "for vi in [ \"Look\", \"On\", \"The\", \"Bright\", \"Side\", \"Of\", \"Life\"]:\n",
    "    print(f\"Concatenating '{vi}'\")\n",
    "    v += vi\n",
    "    print(f\"id(v) = {id(v)}\")\n",
    "\n",
    "print(f'v is {v}')\n",
    "\n",
    "# Good: make a mutable list and join:\n",
    "w = \"\".join([ \"Always\", \"Look\", \"On\", \"The\", \"Bright\", \"Side\", \"Of\", \"Life\"])\n",
    "print(f'w is {w}')\n"
   ]
  },
  {
   "cell_type": "code",
   "execution_count": null,
   "id": "fdfa145d-fc25-43b4-bbc3-c38dc2bfac72",
   "metadata": {},
   "outputs": [],
   "source": []
  }
 ],
 "metadata": {
  "kernelspec": {
   "display_name": "Python 3 (ipykernel)",
   "language": "python",
   "name": "python3"
  },
  "language_info": {
   "codemirror_mode": {
    "name": "ipython",
    "version": 3
   },
   "file_extension": ".py",
   "mimetype": "text/x-python",
   "name": "python",
   "nbconvert_exporter": "python",
   "pygments_lexer": "ipython3",
   "version": "3.12.3"
  }
 },
 "nbformat": 4,
 "nbformat_minor": 5
}
