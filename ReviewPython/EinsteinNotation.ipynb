{
 "cells": [
  {
   "cell_type": "markdown",
   "id": "457f365a-46ef-43c2-9e82-a47f9fefbe96",
   "metadata": {},
   "source": [
    "# Einstein sum convention\n",
    "\n",
    "(Tim Thomay, 2021, [CC BY 4.0 license](https://creativecommons.org/licenses/by/4.0/))\n",
    "\n",
    "Theoretical physicist like to invent notational conventions so that they don't have to write so much.\n",
    "One example is Einsteins sum convention which removes the $\\Sigma$ (sum) symbol from equations.\n",
    "\n",
    "> Es  ist  deshalb moglich,  ohne  die  Klarheit  zu  beeintrachtigen,  die Summenzeichen  wegzulassen.  Dafür  führen wir  die  Vorschrift ein:  Tritt ein  Index in einem  Term  eines  Ausdruckes  zweimal auf so ist über ihn  stets zu  summieren, wenn  nicht ausdrücklich  das  Gegenteil  bemerkt  ist.\n",
    "\n",
    "[Translation](https://translate.google.com/?sl=auto&tl=en&text=Es%20%20ist%20%20deshalb%20moglich%2C%20%20ohne%20%20die%20%20Klarheit%20%20zu%20%20beeintrachtigen%2C%20%20die%20Summenzeichen%20%20wegzulassen.%20%20Dafür%20%20führen%20wir%20%20die%20%20Vorschrift%20ein%3A%20%20Tritt%20ein%20%20Index%20in%20einem%20%20Term%20%20eines%20%20Ausdruckes%20%20zweimal%20auf%20so%20ist%20über%20ihn%20%20stets%20zu%20%20summieren%2C%20wenn%20%20nicht%20ausdrücklich%20%20das%20%20Gegenteil%20%20bemerkt%20%20ist.&op=translate)\n",
    "source: [Die Grundlage der allgemeinen Relativitätstheorie, A. Einstein](https://doi.org/10.1002/andp.19163540702)"
   ]
  },
  {
   "cell_type": "markdown",
   "id": "d694a8ec-05bd-46a6-a45b-d6b3a6ca44f0",
   "metadata": {},
   "source": [
    "So for example the matrix product of a $n\\times n$ matrix:\n",
    "\n",
    "$$\n",
    "(A \\cdot B)_{ij} = \\sum_{k=1}^n A_{ik} \\cdot B_{kj}\n",
    "$$\n",
    "\n",
    "in that we want to sum over index $k=0,\\ldots ,n$; it will become:\n",
    "\n",
    "$$\n",
    "(A \\cdot B)_{ij} = A_{ik} \\cdot B_{kj}\n",
    "$$"
   ]
  },
  {
   "cell_type": "code",
   "execution_count": null,
   "id": "1d2c75a8-5348-4e0c-88d2-a0f02bfb5665",
   "metadata": {},
   "outputs": [],
   "source": [
    "%matplotlib ipympl\n",
    "import numpy as np\n"
   ]
  },
  {
   "cell_type": "markdown",
   "id": "17a967df-fdde-44c8-9593-82c9bd29251c",
   "metadata": {},
   "source": [
    "## Example  Matrix dot product\n",
    "\n",
    "we use three different methods to calculate the dot Matrix product $\\mathbf{A} \\cdot \\mathbf{B}= \\sum_{i=1}^N \\sum_{j=1}^N A_{ij} B_{ij}= \\textrm{tr}\\left ({\\mathbf{A}\\mathbf{B}^{\\textrm{T}}}\\right )= A_{ij}A_{ij}$\n",
    "\n",
    "1. using for loops\n",
    "2. using numpy built-in functions\n",
    "3. using numpy Einstein notation function\n",
    "\n",
    "$$\n",
    "\\mathbf{A} = \\mathbf{B} = \\begin{pmatrix}\n",
    "1 & 2 & 3\\\\\n",
    "1 & 2 & 3\\\\\n",
    "1 & 2 & 3\n",
    "\\end{pmatrix}\n",
    "$$"
   ]
  },
  {
   "cell_type": "code",
   "execution_count": null,
   "id": "8ebc4876-a21d-4d78-acd2-1595548f7562",
   "metadata": {
    "tags": []
   },
   "outputs": [],
   "source": [
    "# Using loops\n",
    "A = np.array([[1,2,3],[1,2,3],[1,2,3]])\n",
    "B = A\n",
    "Sloop = 0\n",
    "n, m = A.shape\n",
    "for i in range(n):\n",
    "    for j in range(m):\n",
    "        Sloop += A[i, j]*B[i, j]\n",
    "print(\"result for loops: {}\".format(Sloop))"
   ]
  },
  {
   "cell_type": "code",
   "execution_count": null,
   "id": "b45cca30-4361-4130-adf5-a318bf5b2242",
   "metadata": {},
   "outputs": [],
   "source": [
    "%%timeit\n",
    "Sloop = 0\n",
    "for i in range(n):\n",
    "    for j in range(m):\n",
    "        Sloop += A[i, j]*B[i, j]"
   ]
  },
  {
   "cell_type": "code",
   "execution_count": null,
   "id": "9da8634c-6d62-4959-a825-5f6f1d37363e",
   "metadata": {},
   "outputs": [],
   "source": [
    "# Using built-in numpy functions\n",
    "Sbuiltin = np.trace(np.dot(A.T, B))\n",
    "print(\"result built-in: {}\".format(Sbuiltin))\n",
    "%timeit np.trace(np.dot(A.T, B))"
   ]
  },
  {
   "cell_type": "code",
   "execution_count": null,
   "id": "5c4c9c23-b6db-4b3a-8980-ac387cf1e2d8",
   "metadata": {},
   "outputs": [],
   "source": [
    "# Using einsum\n",
    "Seinstein = np.einsum('ij,ij->', A,B)\n",
    "print(\"result Einstein: {}\".format(Seinstein))\n",
    "%timeit np.einsum('ij,ij->', A,B)"
   ]
  },
  {
   "cell_type": "markdown",
   "id": "ba7dc007-6ab4-49fd-809e-c9985908e0f8",
   "metadata": {},
   "source": [
    "## Example Matrix multiplication using numpy\n",
    "\n",
    "we use three different methods to calculate the Matrix product $(\\mathbf{A} \\mathbf{B})_{ij}  = \\sum_{k=1}^N A_{ik} B_{kj}= {A^i}_k {B^k}_j$\n",
    "\n",
    "$$\n",
    "\\mathbf{A} = \\mathbf{B} = \\begin{pmatrix}\n",
    "1 & 2 & 3\\\\\n",
    "1 & 2 & 3\\\\\n",
    "1 & 2 & 3\n",
    "\\end{pmatrix}\n",
    "$$"
   ]
  },
  {
   "cell_type": "code",
   "execution_count": null,
   "id": "6c58e463-fbff-43c1-af4f-9fc461b2c7bb",
   "metadata": {},
   "outputs": [],
   "source": [
    "# Using loops\n",
    "A = np.array([[1,2,3],[1,2,3],[1,2,3]])\n",
    "B = A\n",
    "n, m = A.shape\n",
    "S = np.zeros_like(A)\n",
    "for i in range(n):\n",
    "    for j in range(m):\n",
    "        for k in range(n):\n",
    "            S[i,j] += A[i,k]*B[k,j]\n",
    "print(\"result for loops: \\r\\n{}\".format(S))"
   ]
  },
  {
   "cell_type": "code",
   "execution_count": null,
   "id": "643595b4-d9c4-470a-b13c-28cb701e8aa4",
   "metadata": {},
   "outputs": [],
   "source": [
    "%%timeit\n",
    "# Using loops\n",
    "S = np.zeros_like(A)\n",
    "for i in range(n):\n",
    "    for j in range(m):\n",
    "        for k in range(n):\n",
    "            S[i,j] += A[i,k]*B[k,j]"
   ]
  },
  {
   "cell_type": "code",
   "execution_count": null,
   "id": "5b1b9ddd-928e-4d5e-a550-189a96590683",
   "metadata": {},
   "outputs": [],
   "source": [
    "# Using built-in numpy functions\n",
    "Sbuiltin = np.matmul(A,B)\n",
    "print(\"result built-in: \\r\\n{}\".format(Sbuiltin))\n",
    "%timeit np.matmul(A,B)"
   ]
  },
  {
   "cell_type": "code",
   "execution_count": null,
   "id": "6ce2f13e-cd4c-40a8-a2eb-06c7798414ea",
   "metadata": {},
   "outputs": [],
   "source": [
    "# Using einsum\n",
    "Seinstein = np.einsum('ik,kj->ij', A,B)\n",
    "print(\"result Einstein: \\r\\n{}\".format(Seinstein))\n",
    "%timeit np.einsum('ik,kj->ij', A,B)"
   ]
  }
 ],
 "metadata": {
  "kernelspec": {
   "display_name": "Python 3 (ipykernel)",
   "language": "python",
   "name": "python3"
  },
  "language_info": {
   "codemirror_mode": {
    "name": "ipython",
    "version": 3
   },
   "file_extension": ".py",
   "mimetype": "text/x-python",
   "name": "python",
   "nbconvert_exporter": "python",
   "pygments_lexer": "ipython3",
   "version": "3.12.3"
  }
 },
 "nbformat": 4,
 "nbformat_minor": 5
}
