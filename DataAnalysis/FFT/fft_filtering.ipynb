{
 "cells": [
  {
   "cell_type": "markdown",
   "metadata": {},
   "source": [
    "# Demonstrate FFT filtering\n",
    "\n",
    "\n",
    "It is also possible to perform manipulations of waveforms in the frequency domain. This has physical applications in low-pass, high-pass, and band-pass filters. Only certain frequencies are allowed in the frequency domain. Once transforming back into the time domain, there are observable effects on the waveform. You can remove high frequencies, low frequencies, or bands of frequencies. \n",
    "\n",
    "To demonstrate this, we will look at a different dataset, the number of sunspots in the sun from [the Solar Influences Data Analysis Center](http://www.sidc.be/DATA/yearssn.dat). Sunspots are often accompanied by solar flares, which can affect temperatures on earth. \n",
    "\n",
    "However, this dataset is often used by climate change deniers to therefore conclude that humans are not responsible for the warming planet. This dataset does not support the hypothesis quantitatively because the sun spot activity does not correlate with the global temperature anomaly. "
   ]
  },
  {
   "cell_type": "code",
   "execution_count": null,
   "metadata": {},
   "outputs": [],
   "source": [
    "import matplotlib.pyplot as plt\n",
    "\n",
    "from fft import fft, fft_power, ifft\n",
    "import numpy as np\n",
    "import math"
   ]
  },
  {
   "cell_type": "code",
   "execution_count": null,
   "metadata": {},
   "outputs": [],
   "source": [
    "# Make the plots a bit bigger to see\n",
    "# NOTE: Must be done in a separate cell\n",
    "plt.rcParams['figure.dpi'] = 150"
   ]
  },
  {
   "cell_type": "markdown",
   "metadata": {},
   "source": [
    "## Sunspot Data\n",
    "\n",
    "These data need to be padded. Once we transform to the Fourier domain, we will see several dominant frequencies. We will investigate what happens when we remove the higher-frequency components. \n",
    "\n",
    "If you would like to adjust the amount of filtereding, you can adjust the \"maxfreq\" variable. "
   ]
  },
  {
   "cell_type": "code",
   "execution_count": null,
   "metadata": {},
   "outputs": [],
   "source": [
    "from read_ssn import read_ssn\n",
    "import math\n",
    "\n",
    "# Read like previous example with CO2 data\n",
    "x, y = read_ssn('SN_m_tot_V2.0.txt')\n",
    "y_valid = y >= 0.\n",
    "y = y[y_valid]\n",
    "\n",
    "# instead of truncating, pad with values\n",
    "def pad_data(y, pad_value=0):\n",
    "    N = len(y)\n",
    "    log2N_ceil = math.ceil(math.log(N, 2))\n",
    "    #log2N = math.log(N, 2)\n",
    "    #next_pow_of_2 = int(log2N) + 1\n",
    "    if N == 2**log2N_ceil:\n",
    "        # Input is already a power of 2, nothing to do\n",
    "        return y\n",
    "    else:\n",
    "        # Create new array from inputs + pad values\n",
    "        print(f\"Padding input array of length {N} to length {2**log2N_ceil}\")\n",
    "        y_new = np.ones(2**log2N_ceil) * pad_value\n",
    "        y_new[:len(y)] = y\n",
    "        return y_new\n",
    "y = pad_data(y)\n",
    "print(f\"Input data length = {len(y)}\")\n",
    "                \n",
    "# Compute the FFT\n",
    "Y = fft(y)\n",
    "\n",
    "# filtered the data in the Fourier domain.\n",
    "# Adjust this to change the frequencies to delete (frequencies are removed from maxfreq to N/2\n",
    "# and accounts for the Nyquist frequency). \n",
    "maxfreq = 50\n",
    "print(f\"Filtering frequencies above k={maxfreq}, f={maxfreq/len(y)}\")\n",
    "print(f\"(Equivalently, periods below T={len(y)/maxfreq}) months\")\n",
    "Y_filtered = Y.copy()\n",
    "Y_filtered[maxfreq:len(Y_filtered)-maxfreq] = 0.0\n",
    "\n",
    "# Get the absolute value and power for plotting\n",
    "Yabs = abs(Y)\n",
    "Ypower = fft_power(Y)\n",
    "xpower = np.arange(Ypower.size)\n",
    "\n",
    "Yabs_filtered = abs(Y_filtered)\n",
    "Ypower_filtered = fft_power(Y_filtered)\n",
    "\n",
    "# Now go back to the frequency domain. \n",
    "# Compare the data before and after filtering. \n",
    "y_filtered = ifft(Y_filtered)\n",
    "yabs_filtered = abs(y_filtered)\n",
    "\n",
    "fig, axs = plt.subplots(2, 1, figsize=(10, 10))\n",
    "axs[0].plot(np.arange(len(y)), y, label=\"Original\")\n",
    "axs[0].plot(np.arange(len(yabs_filtered)), yabs_filtered, label=\"Filtered\")\n",
    "axs[0].set_xlabel(\"Index\")\n",
    "axs[0].set_ylabel(\"Sunspot number\")\n",
    "axs[0].legend()\n",
    "\n",
    "axs[1].plot(xpower, Ypower, label=\"Power\")\n",
    "axs[1].plot(xpower, Ypower_filtered, label=\"Power (filtered)\")\n",
    "#axs[1].plot(np.arange(len(Yabs)), Yabs, label=\"Magnitude\")\n",
    "axs[1].set_xlabel(\"Spectral index\")\n",
    "axs[1].set_ylabel(\"Fourier component\")\n",
    "axs[1].set_yscale(\"log\")\n"
   ]
  },
  {
   "cell_type": "code",
   "execution_count": null,
   "metadata": {},
   "outputs": [],
   "source": []
  }
 ],
 "metadata": {
  "kernelspec": {
   "display_name": "Python 3 (ipykernel)",
   "language": "python",
   "name": "python3"
  },
  "language_info": {
   "codemirror_mode": {
    "name": "ipython",
    "version": 3
   },
   "file_extension": ".py",
   "mimetype": "text/x-python",
   "name": "python",
   "nbconvert_exporter": "python",
   "pygments_lexer": "ipython3",
   "version": "3.12.3"
  }
 },
 "nbformat": 4,
 "nbformat_minor": 4
}
