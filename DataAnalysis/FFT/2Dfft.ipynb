{
 "cells": [
  {
   "cell_type": "markdown",
   "metadata": {},
   "source": [
    "# 2D Fourier transform\n",
    "\n",
    "This notebook shows examples of 2D Fourier Transforms and their applications"
   ]
  },
  {
   "cell_type": "code",
   "execution_count": null,
   "metadata": {},
   "outputs": [],
   "source": [
    "%matplotlib inline"
   ]
  },
  {
   "cell_type": "code",
   "execution_count": null,
   "metadata": {},
   "outputs": [],
   "source": [
    "import numpy as np\n",
    "import matplotlib.pyplot as plt\n",
    "import math"
   ]
  },
  {
   "cell_type": "markdown",
   "metadata": {},
   "source": [
    "## The Fourier transform everyone should know - A hole / dot\n",
    "\n",
    "In optics, we can treat every lens like it performs a fourier transform.\n",
    "A small hole or a point like light source is therefore the easiest example.\n",
    "It corresponds to the delta function / sine wave example in 1D.\n",
    "\n",
    "First let's generate a 2D plane $N*N$, ideally of size $N=2^n$."
   ]
  },
  {
   "cell_type": "code",
   "execution_count": null,
   "metadata": {},
   "outputs": [],
   "source": [
    "N = 256\n",
    "x_size = 10\n",
    "y_size = x_size # make it square\n",
    "x = np.linspace(-x_size/2,x_size/2,N) # and symmetric around 0,0\n",
    "y = np.linspace(-y_size/2,y_size/2,N)"
   ]
  },
  {
   "cell_type": "markdown",
   "metadata": {},
   "source": [
    "Now let's make a hole"
   ]
  },
  {
   "cell_type": "code",
   "execution_count": null,
   "metadata": {},
   "outputs": [],
   "source": [
    "R = 2 # define a radius\n",
    "xx, yy = np.meshgrid(x, y, sparse=True) # generate a meshgrid from our x,y coordinates\n",
    "z = (np.sqrt(xx**2 + yy**2) >= R)*1  # set everything outside R and make it a number\n",
    "plt.imshow(z, \"gray\", extent=[-x_size/2,x_size/2, -y_size/2,y_size/2])"
   ]
  },
  {
   "cell_type": "markdown",
   "metadata": {},
   "source": [
    "Now let's take the Fourier transform"
   ]
  },
  {
   "cell_type": "code",
   "execution_count": null,
   "metadata": {},
   "outputs": [],
   "source": [
    "Fz = np.fft.fft2(z)\n",
    "Fzcenter = np.fft.fftshift(Fz)\n",
    "plt.imshow(np.log(1+np.abs(Fz)), \"gray\")"
   ]
  },
  {
   "cell_type": "markdown",
   "metadata": {},
   "source": [
    "This is not quite what we want. The frequency starts at 0,0 and not in the middle of the plane.\n",
    "Numpy has a convenient `fftshift()` function that centers the FFT in the plot:"
   ]
  },
  {
   "cell_type": "code",
   "execution_count": null,
   "metadata": {},
   "outputs": [],
   "source": [
    "Fzcenter = np.fft.fftshift(Fz)\n",
    "plt.imshow(np.log(1+np.abs(Fzcenter)), \"gray\")"
   ]
  },
  {
   "cell_type": "markdown",
   "metadata": {},
   "source": [
    "Let's do some filtering.\n",
    "We can reuse our \"hole\" to use as a mask in Fouries Space."
   ]
  },
  {
   "cell_type": "markdown",
   "metadata": {},
   "source": [
    "Let's take The inverse Fourier Transform of our filtered image:"
   ]
  },
  {
   "cell_type": "code",
   "execution_count": null,
   "metadata": {},
   "outputs": [],
   "source": [
    "from PIL import Image, ImageOps"
   ]
  },
  {
   "cell_type": "code",
   "execution_count": null,
   "metadata": {},
   "outputs": [],
   "source": [
    "bilayer = np.array(ImageOps.grayscale(Image.open('lattice.png')))\n",
    "plt.imshow(bilayer, \"gray\")"
   ]
  },
  {
   "cell_type": "code",
   "execution_count": null,
   "metadata": {},
   "outputs": [],
   "source": [
    "Fbilayer = np.fft.fft2(bilayer)\n",
    "Fbilayercenter = np.fft.fftshift(Fbilayer)\n",
    "plt.imshow(np.log(1+np.abs(Fbilayercenter)), \"gray\")"
   ]
  },
  {
   "cell_type": "code",
   "execution_count": null,
   "metadata": {},
   "outputs": [],
   "source": [
    "R = 1.2\n",
    "xx, yy = np.meshgrid(x, y, sparse=True)\n",
    "lowpass = (np.sqrt(xx**2 + yy**2) <= R)\n",
    "plt.imshow(lowpass, \"gray\")"
   ]
  },
  {
   "cell_type": "code",
   "execution_count": null,
   "metadata": {},
   "outputs": [],
   "source": [
    "plt.imshow(np.log(1+np.abs(lowpass*Fbilayercenter)), \"gray\")"
   ]
  },
  {
   "cell_type": "code",
   "execution_count": null,
   "metadata": {},
   "outputs": [],
   "source": [
    "filtered = np.fft.ifft2(lowpass*Fbilayercenter)"
   ]
  },
  {
   "cell_type": "code",
   "execution_count": null,
   "metadata": {},
   "outputs": [],
   "source": [
    "plt.imshow(np.log(1+np.abs(filtered)), \"gray\")"
   ]
  },
  {
   "cell_type": "markdown",
   "metadata": {},
   "source": [
    "# Gaussian filter\n",
    "Second example: create a Gaussian filter to smooth an image. We provide a photo (fire.jpg), as well as a photo with some graininess added (fire_grain2.jpg), and show the effect of the Gaussian filter. "
   ]
  },
  {
   "cell_type": "code",
   "execution_count": null,
   "metadata": {},
   "outputs": [],
   "source": [
    "from scipy.ndimage import gaussian_filter\n",
    "\n",
    "def my_gaussian_filter(image, sigma=1, plots=False):\n",
    "    if np.size(image, axis=0) != np.size(image, axis=1):\n",
    "        raise ValueError(\"I only work on square images\")\n",
    "\n",
    "    N = np.size(image, axis=0)\n",
    "    fft = np.fft.fft2(image)\n",
    "    gfilter = np.ones_like(fft)\n",
    "\n",
    "    def gfilter_func(x):\n",
    "        if sigma <= 0.:\n",
    "            return x\n",
    "        # The Fourier transform of a gaussian is a gaussian with width tau = N/(pi*sigma) (in units of k)\n",
    "        tau = N / (np.pi * sigma)\n",
    "        return np.exp(-1. * x**2 / tau**2) * 1. / (2 * np.pi * tau**2)**0.5\n",
    "    \n",
    "    # Map second half of frequencies to negative values\n",
    "    def indexmap(i):\n",
    "        return np.where(i > N/2, N-i, i)\n",
    "\n",
    "    # Make array of \"r\" values for each point in the FFT (distance from 0, but mapping values beyond the Nyquist frequency to negative frequencies)\n",
    "    ix, iy = np.indices(fft.shape)\n",
    "    r = (indexmap(ix)**2 + indexmap(iy)**2)**0.5\n",
    "\n",
    "    # Multiply FFT by Gaussian, preserving the normalization\n",
    "    fft_filtered = fft * gfilter_func(r)\n",
    "    fft_filtered = fft_filtered * (np.sum(np.abs(fft)**2) / np.sum(np.abs(fft_filtered)**2))\n",
    "    #print(gfilter_func(r))\n",
    "\n",
    "    # Inverse FFT\n",
    "    image_filtered = np.abs(np.fft.ifft2(fft_filtered), gfilter_func(r))\n",
    "\n",
    "    # Plots on demand\n",
    "    if plots:\n",
    "        fig, axs = plt.subplots(2, 2, figsize=(8, 8))\n",
    "        axs[0, 0].imshow(image, \"gray\", label=\"Original\")\n",
    "        axs[0, 0].set_title(\"Original\")\n",
    "        axs[0, 1].imshow(image_filtered, \"gray\")\n",
    "        axs[0, 1].set_title(\"Filtered\")\n",
    "        axs[1, 0].imshow(np.log(1. + np.abs(np.fft.fftshift(fft))))\n",
    "        axs[1, 0].set_title(\"FFT\")\n",
    "        axs[1, 1].imshow(np.log(1. + np.abs(np.fft.fftshift(fft_filtered))))\n",
    "        axs[1, 1].set_title(\"Filtered FFT\")\n",
    "        fig.suptitle(rf\"Gaussian filter, $\\sigma={sigma}$\")\n",
    "        return image_filtered, fig, axs\n",
    "    else:\n",
    "        return image_filtered\n",
    "\n",
    "\n"
   ]
  },
  {
   "cell_type": "code",
   "execution_count": null,
   "metadata": {},
   "outputs": [],
   "source": [
    "fire = np.array(ImageOps.grayscale(Image.open('fire.jpg')))\n",
    "fire_fft = np.fft.fft2(fire)\n",
    "fire_fft_centered = np.fft.fftshift(fire_fft)\n",
    "fig, axs = plt.subplots(1, 2, figsize=(12, 8))\n",
    "axs[0].imshow(fire, \"gray\")\n",
    "axs[0].set_title(\"Original\")\n",
    "axs[1].imshow(np.log(1+np.abs(fire_fft)), \"gray\")\n",
    "axs[1].set_title(\"Fourier\")"
   ]
  },
  {
   "cell_type": "code",
   "execution_count": null,
   "metadata": {},
   "outputs": [],
   "source": [
    "# Demonstrate what the filter is doing\n",
    "filtered_image, fig, axs = my_gaussian_filter(fire, sigma=3, plots=True)"
   ]
  },
  {
   "cell_type": "code",
   "execution_count": null,
   "metadata": {},
   "outputs": [],
   "source": [
    "# Compare sigma values\n",
    "filtered_images = []\n",
    "sigmas = [0.1, 1, 5, 10, 50]\n",
    "\n",
    "# Dynamically create subplots in 2 columns\n",
    "plt_width = 2 # 2 horizontal subfigs\n",
    "nfigs = len(sigmas)+1 # Also plot original\n",
    "f, axs = plt.subplots(math.ceil(nfigs / plt_width), plt_width, figsize=(5 * plt_width, 5 * math.ceil(nfigs/plt_width)))\n",
    "\n",
    "axs[0, 0].imshow(fire, \"grey\")\n",
    "axs[0, 0].set_title(\"Original\")\n",
    "for i, sigma in enumerate(sigmas):\n",
    "    filtered_images.append(my_gaussian_filter(fire, sigma=sigma))\n",
    "    ifig_x = (i+1) // plt_width\n",
    "    ifig_y = (i+1) % plt_width\n",
    "    axs[ifig_x, ifig_y].imshow(filtered_images[-1], \"gray\")\n",
    "    axs[ifig_x, ifig_y].set_title(rf\"$\\sigma={sigma}$\")\n",
    "    "
   ]
  },
  {
   "cell_type": "code",
   "execution_count": null,
   "metadata": {},
   "outputs": [],
   "source": [
    "# Same thing but for a  grainier image\n",
    "fire_grain = np.array(ImageOps.grayscale(Image.open('fire_grain.jpg')))\n",
    "\n",
    "# Compare sigma values\n",
    "filtered_images = []\n",
    "sigmas = [0.1, 1, 5, 10, 50]\n",
    "\n",
    "# Dynamically create subplots in 2 columns\n",
    "plt_width = 2 # 2 horizontal subfigs\n",
    "nfigs = len(sigmas)+1 # Also plot original\n",
    "f, axs = plt.subplots(math.ceil(nfigs / plt_width), plt_width, figsize=(5 * plt_width, 5 * math.ceil(nfigs/plt_width)))\n",
    "\n",
    "axs[0, 0].imshow(fire_grain, \"grey\")\n",
    "axs[0, 0].set_title(\"Original\")\n",
    "for i, sigma in enumerate(sigmas):\n",
    "    filtered_images.append(my_gaussian_filter(fire_grain, sigma=sigma))\n",
    "    ifig_x = (i+1) // plt_width\n",
    "    ifig_y = (i+1) % plt_width\n",
    "    axs[ifig_x, ifig_y].imshow(filtered_images[-1], \"gray\")\n",
    "    axs[ifig_x, ifig_y].set_title(rf\"$\\sigma={sigma}$\")\n",
    "    "
   ]
  },
  {
   "cell_type": "code",
   "execution_count": null,
   "metadata": {},
   "outputs": [],
   "source": [
    "# Compare Gaussian filter with low pass filter\n",
    "fire_grain = np.array(ImageOps.grayscale(Image.open('fire_grain.jpg')))\n",
    "sigma = 1\n",
    "fire_gauss = my_gaussian_filter(fire_grain, sigma=sigma)\n",
    "\n",
    "# Low pass filter\n",
    "def my_lowpass_filter(image, R=1, plots=False):\n",
    "    if np.size(image, axis=0) != np.size(image, axis=1):\n",
    "        raise ValueError(\"I only work on square images\")\n",
    "\n",
    "    N = np.size(image, axis=0)\n",
    "    fft = np.fft.fft2(image)\n",
    "    gfilter = np.ones_like(fft)\n",
    "\n",
    "    def lowpass_func(x):\n",
    "        return np.where(x < R, 1, 0)\n",
    "    \n",
    "    # Map second half of frequencies to negative values\n",
    "    def indexmap(i):\n",
    "        return np.where(i > N/2, N-i, i)\n",
    "\n",
    "    # Make array of \"r\" values for each point in the FFT (distance from 0, but mapping values beyond the Nyquist frequency to negative frequencies)\n",
    "    ix, iy = np.indices(fft.shape)\n",
    "    r = (indexmap(ix)**2 + indexmap(iy)**2)**0.5\n",
    "\n",
    "    # Multiply FFT by lowpass, preserving the normalization\n",
    "    fft_filtered = fft * lowpass_func(r)\n",
    "    fft_filtered = fft_filtered * (np.sum(np.abs(fft)**2) / np.sum(np.abs(fft_filtered)**2))\n",
    "\n",
    "    # Inverse FFT\n",
    "    image_filtered = np.abs(np.fft.ifft2(fft_filtered))\n",
    "\n",
    "    return image_filtered\n",
    "\n",
    "R = 150\n",
    "fire_lowpass = my_lowpass_filter(fire_grain, R)\n",
    "\n",
    "fig, axs = plt.subplots(1, 3, figsize=(12, 8))\n",
    "axs[0].imshow(fire, \"gray\")\n",
    "axs[0].set_title(\"Original\")\n",
    "axs[1].imshow(fire_gauss, \"gray\")\n",
    "axs[1].set_title(rf\"Gaussian filter, $\\sigma={sigma}$\")\n",
    "axs[2].imshow(fire_lowpass, \"gray\")\n",
    "axs[2].set_title(rf\"Low pass filter, R={R}\")\n",
    "\n"
   ]
  },
  {
   "cell_type": "code",
   "execution_count": null,
   "metadata": {},
   "outputs": [],
   "source": []
  }
 ],
 "metadata": {
  "kernelspec": {
   "display_name": "Python 3 (ipykernel)",
   "language": "python",
   "name": "python3"
  },
  "language_info": {
   "codemirror_mode": {
    "name": "ipython",
    "version": 3
   },
   "file_extension": ".py",
   "mimetype": "text/x-python",
   "name": "python",
   "nbconvert_exporter": "python",
   "pygments_lexer": "ipython3",
   "version": "3.12.3"
  }
 },
 "nbformat": 4,
 "nbformat_minor": 4
}
