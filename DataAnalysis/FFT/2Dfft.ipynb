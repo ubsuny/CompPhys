{
 "cells": [
  {
   "cell_type": "markdown",
   "metadata": {},
   "source": [
    "# 2D Fourier transform\n",
    "\n",
    "This notebook shows examples of 2D Fourier Transforms and their applications"
   ]
  },
  {
   "cell_type": "code",
   "execution_count": null,
   "metadata": {},
   "outputs": [],
   "source": [
    "%matplotlib inline"
   ]
  },
  {
   "cell_type": "code",
   "execution_count": null,
   "metadata": {},
   "outputs": [],
   "source": [
    "import numpy as np\n",
    "import matplotlib.pyplot as plt"
   ]
  },
  {
   "cell_type": "markdown",
   "metadata": {},
   "source": [
    "## The Fourier transform everyone should know - A hole / dot\n",
    "\n",
    "In optics, we can treat every lens like it performs a fourier transform.\n",
    "A small hole or a point like light source is therefore the easiest example.\n",
    "It corresponds to the delta function / sine wave example in 1D.\n",
    "\n",
    "First let's generate a 2D plane $N*N$, ideally of size $N=2^n$."
   ]
  },
  {
   "cell_type": "code",
   "execution_count": null,
   "metadata": {},
   "outputs": [],
   "source": [
    "N = 256\n",
    "x_size = 10\n",
    "y_size = x_size # make it square\n",
    "x = np.linspace(-x_size/2,x_size/2,N) # and symmetric around 0,0\n",
    "y = np.linspace(-y_size/2,y_size/2,N)"
   ]
  },
  {
   "cell_type": "markdown",
   "metadata": {},
   "source": [
    "Now let's make a hole"
   ]
  },
  {
   "cell_type": "code",
   "execution_count": null,
   "metadata": {},
   "outputs": [],
   "source": [
    "R = 1 # define a radius\n",
    "xx, yy = np.meshgrid(x, y, sparse=True) # generate a meshgrid from our x,y coordinates\n",
    "z = (np.sqrt(xx**2 + yy**2) >= R)*1  # set everything outside R and make it a number\n",
    "plt.imshow(z, \"gray\", extent=[-x_size/2,x_size/2, -y_size/2,y_size/2])"
   ]
  },
  {
   "cell_type": "markdown",
   "metadata": {},
   "source": [
    "Now let's take the Fourier transform"
   ]
  },
  {
   "cell_type": "code",
   "execution_count": null,
   "metadata": {},
   "outputs": [],
   "source": [
    "Fz = np.fft.fft2(z)\n",
    "Fzcenter = np.fft.fftshift(Fz)\n",
    "plt.imshow(np.log(1+np.abs(Fz)), \"gray\")"
   ]
  },
  {
   "cell_type": "markdown",
   "metadata": {},
   "source": [
    "That Doesn't look right.\n",
    "The frequency starts at 0,0 and not in the middle of the plane.\n",
    "So let's shift it."
   ]
  },
  {
   "cell_type": "code",
   "execution_count": null,
   "metadata": {},
   "outputs": [],
   "source": [
    "Fzcenter = np.fft.fftshift(Fz)\n",
    "plt.imshow(np.log(1+np.abs(Fzcenter)), \"gray\")"
   ]
  },
  {
   "cell_type": "markdown",
   "metadata": {},
   "source": [
    "Let's do some filtering.\n",
    "We can reuse our \"hole\" to use as a mask in Fouries Space."
   ]
  },
  {
   "cell_type": "markdown",
   "metadata": {},
   "source": [
    "Let's take The inverse Fourier Transform of our filtered image:"
   ]
  },
  {
   "cell_type": "code",
   "execution_count": null,
   "metadata": {},
   "outputs": [],
   "source": [
    "from PIL import Image, ImageOps"
   ]
  },
  {
   "cell_type": "code",
   "execution_count": null,
   "metadata": {},
   "outputs": [],
   "source": [
    "bilayer = np.array(ImageOps.grayscale(Image.open('lattice.png')))\n",
    "plt.imshow(bilayer, \"gray\")"
   ]
  },
  {
   "cell_type": "code",
   "execution_count": null,
   "metadata": {},
   "outputs": [],
   "source": [
    "Fbilayer = np.fft.fft2(bilayer)\n",
    "Fbilayercenter = np.fft.fftshift(Fbilayer)\n",
    "plt.imshow(np.log(1+np.abs(Fbilayercenter)), \"gray\")"
   ]
  },
  {
   "cell_type": "code",
   "execution_count": null,
   "metadata": {},
   "outputs": [],
   "source": [
    "R = 1\n",
    "xx, yy = np.meshgrid(x, y, sparse=True)\n",
    "lowpass = (np.sqrt(xx**2 + yy**2) <= R)\n",
    "plt.imshow(lowpass, \"gray\")"
   ]
  },
  {
   "cell_type": "code",
   "execution_count": null,
   "metadata": {},
   "outputs": [],
   "source": [
    "plt.imshow(np.log(1+np.abs(lowpass*Fbilayercenter)), \"gray\")"
   ]
  },
  {
   "cell_type": "code",
   "execution_count": null,
   "metadata": {},
   "outputs": [],
   "source": [
    "filtered = np.fft.ifft2(lowpass*Fbilayercenter)"
   ]
  },
  {
   "cell_type": "code",
   "execution_count": null,
   "metadata": {},
   "outputs": [],
   "source": [
    "plt.imshow(np.log(1+np.abs(filtered)), \"gray\")"
   ]
  },
  {
   "cell_type": "code",
   "execution_count": null,
   "metadata": {},
   "outputs": [],
   "source": []
  }
 ],
 "metadata": {
  "kernelspec": {
   "display_name": "Python 3 (ipykernel)",
   "language": "python",
   "name": "python3"
  },
  "language_info": {
   "codemirror_mode": {
    "name": "ipython",
    "version": 3
   },
   "file_extension": ".py",
   "mimetype": "text/x-python",
   "name": "python",
   "nbconvert_exporter": "python",
   "pygments_lexer": "ipython3",
   "version": "3.12.3"
  }
 },
 "nbformat": 4,
 "nbformat_minor": 4
}
