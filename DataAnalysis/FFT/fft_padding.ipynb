{
 "cells": [
  {
   "cell_type": "markdown",
   "metadata": {},
   "source": [
    "# Demonstrate FFT padding and windowing\n",
    "\n",
    "\n",
    "Since the FFT is much faster for powers of 2, we often have to \"pad\" our data (fill it with a constant value) to satisfy that. This is also used in other applications like image processing. \n",
    "\n",
    "However, this is mathematically equivalent to multiplying a function by a step function, which induces characteristic \"ringing\" effects. \"Windowing\" the input transform can reduce this ringing (at the expense of loss of information on the boundaries of the input waveform). \n",
    "\n",
    "Thought question: If you window, transform, transform back, and reverse the window, what should occur? You'll explore this in your HW assignments. "
   ]
  },
  {
   "cell_type": "code",
   "execution_count": null,
   "metadata": {},
   "outputs": [],
   "source": [
    "import matplotlib.pyplot as plt\n",
    "\n",
    "from fft import fft, fft_power\n",
    "import numpy as np\n",
    "import math"
   ]
  },
  {
   "cell_type": "code",
   "execution_count": null,
   "metadata": {},
   "outputs": [],
   "source": [
    "# Make the plots a bit bigger to see\n",
    "# NOTE: Must be done in a separate cell\n",
    "plt.rcParams['figure.dpi'] = 90"
   ]
  },
  {
   "cell_type": "markdown",
   "metadata": {},
   "source": [
    "## Simple Sine Wave\n",
    "\n",
    "In this example, since it is a simple sine wave, it goes on forever. So, in our case, to demonstrate what is happening we will clip off a certain number of entries (see the \"clip\" variable). "
   ]
  },
  {
   "cell_type": "code",
   "execution_count": null,
   "metadata": {},
   "outputs": [],
   "source": [
    "N = 1024 # number of samples\n",
    "k = 10.0 # frequency = k / N\n",
    "m = 0.   # linear slope, if desired\n",
    "\n",
    "# For demonstrations : \n",
    "clip = 40       # \"clip\" so we can pad with zeros\n",
    "\n",
    "def apply_clip(iy, Nclip):\n",
    "    ret = iy.copy()\n",
    "    ret[-1*Nclip:] = 0\n",
    "    return ret\n",
    "\n",
    "# Generate the input data\n",
    "x = np.arange(N) \n",
    "y = np.sin( -2. * np.pi * k / N * x ) \n",
    "y_clip = apply_clip(y, 150)\n",
    "\n",
    "# Plot input data\n",
    "fig, ax = plt.subplots(1, 1, figsize=(12, 4))\n",
    "ax.plot(x, y, label=\"Unmodified\")\n",
    "ax.plot(x, y_clip, label=\"Clipped\")\n",
    "ax.set_xlim(0., 1500.)\n",
    "ax.set_ylim(-1.5, 1.5)\n",
    "ax.grid()\n",
    "ax.legend()\n",
    "'''\n",
    "if window:\n",
    "    y = np.sin( -2. * np.pi * k / N * x ) * (0.5 - 0.5 * np.cos(2*math.pi*x/float(N-1))) + m*x\n",
    "else:\n",
    "    y = np.sin( -2. * np.pi * k / N * x ) \n",
    "'''"
   ]
  },
  {
   "cell_type": "markdown",
   "metadata": {},
   "source": [
    "Next, we show what the clipping does to the Fourier transform of our function. Remember, the FT of the sine wave is just a \"delta function\" at the input frequency. The follow cell shows that the \"clipping\" introduces extra Fourier components at undesired frequencies."
   ]
  },
  {
   "cell_type": "code",
   "execution_count": null,
   "metadata": {},
   "outputs": [],
   "source": [
    "# Let's just use numpy's FFT implementation here\n",
    "Y = fft(y)\n",
    "Y_clip = fft(y_clip)\n",
    "\n",
    "Ypower = fft_power(Y)\n",
    "x_power = np.arange(len(power))\n",
    "Ypower_clip = fft_power(Y_clip)\n",
    "\n",
    "fig, axs = plt.subplots(3, 1, figsize=(12, 12))\n",
    "axs[0].plot(x, y, label=\"Unmodified\", color=\"blue\")\n",
    "axs[0].plot(x, y_clip, label=\"Clipped\", color=\"orange\")\n",
    "axs[0].set_xlabel(\"x\")\n",
    "axs[0].set_ylabel(\"sin(x)\")\n",
    "axs[0].legend()\n",
    "axs[0].set_xlim(0., 1500.)\n",
    "\n",
    "axs[1].scatter(x_power, Ypower, label=\"Unmodified\", marker=\"o\", facecolor=\"blue\")\n",
    "axs[1].scatter(x_power, Ypower_clip, label=\"Clipped\", marker=\"o\", facecolor=\"none\", edgecolor=\"orange\")\n",
    "axs[1].set_xlabel(\"Spectral index\")\n",
    "axs[1].set_ylabel(\"Power\")\n",
    "axs[1].set_xlim(0., 20.)\n",
    "axs[1].set_ylim(1.e-32, 1.e9)\n",
    "axs[1].set_yscale(\"log\")\n",
    "\n",
    "axs[2].scatter(x_power, Ypower, label=\"Unmodified\", marker=\"o\", facecolor=\"blue\")\n",
    "axs[2].scatter(x_power, Ypower_clip, label=\"Clipped\", marker=\"o\", facecolor=\"none\", edgecolor=\"orange\")\n",
    "axs[2].set_xlabel(\"Spectral index\")\n",
    "axs[2].set_ylabel(\"Power (zoomed)\")\n",
    "axs[2].set_xlim(0., 550.)\n",
    "axs[2].set_ylim(1.e-7, 1.e5)\n",
    "axs[2].set_yscale(\"log\")\n",
    "\n"
   ]
  },
  {
   "cell_type": "markdown",
   "metadata": {},
   "source": [
    "# Windowing\n",
    "Clipping (or conversely, zero-padding) has the unwanted effect of introducing extra Fourier components. Essentially, the clipped function is the product of our original function and a \"box\" function, so the Fourier transform is the convolution of the FT of our function and the box function. This \"smears out\" the intended FT. \n",
    "\n",
    "We can clean up the unwanted components by applying a window function. Essentially, we are changing the box function (whose FT is not very nice) to better function whose FT is less \"spread out\". We choose a \"raised cosine\" function here."
   ]
  },
  {
   "cell_type": "code",
   "execution_count": null,
   "metadata": {},
   "outputs": [],
   "source": [
    "def apply_window(ix, iy):\n",
    "    return iy * (0.5 - 0.5 * np.cos(2 * math.pi * ix / float(N-1))) + m * ix\n",
    "\n",
    "y_window = apply_window(x, y)\n",
    "y_window_clip = apply_clip(y_window, 50)\n",
    "\n",
    "# Plot input data\n",
    "fig, ax = plt.subplots(1, 1, figsize=(12, 4))\n",
    "ax.plot(x, y, label=\"Unmodified\")\n",
    "ax.plot(x, y_clip, label=\"Clipped\")\n",
    "ax.plot(x, y_window, label=\"Windowed\")\n",
    "ax.plot(x, y_window_clip, label=\"Clipped*windowed\")\n",
    "ax.set_xlim(0., 1500.)\n",
    "ax.set_ylim(-1.5, 1.5)\n",
    "ax.grid()\n",
    "ax.legend()\n"
   ]
  },
  {
   "cell_type": "code",
   "execution_count": null,
   "metadata": {},
   "outputs": [],
   "source": [
    "# Let's just use numpy's FFT implementation here\n",
    "Y_window_clip = fft(y_window_clip)\n",
    "Ypower_window_clip = fft_power(Y_window_clip)\n",
    "\n",
    "fig, axs = plt.subplots(3, 1, figsize=(12, 12))\n",
    "axs[0].plot(x, y, label=\"Unmodified\", color=\"blue\")\n",
    "axs[0].plot(x, y_clip, label=\"Clipped\", color=\"orange\")\n",
    "axs[0].plot(x, y_window_clip, label=\"Clipped*windowed\", color=\"green\")\n",
    "axs[0].set_xlabel(\"x\")\n",
    "axs[0].set_ylabel(\"sin(x)\")\n",
    "axs[0].legend()\n",
    "axs[0].set_xlim(0., 1800.)\n",
    "\n",
    "axs[1].scatter(x_power, Ypower, label=\"Unmodified\", marker=\"o\", facecolor=\"blue\")\n",
    "axs[1].scatter(x_power, Ypower_clip, label=\"Clipped\", marker=\"o\", facecolor=\"none\", edgecolor=\"orange\")\n",
    "axs[1].scatter(x_power, Ypower_window_clip, label=\"Clipped*windowed\", marker=\"o\", facecolor=\"none\", edgecolor=\"green\")\n",
    "axs[1].set_xlabel(\"Spectral index\")\n",
    "axs[1].set_ylabel(\"Power\")\n",
    "axs[1].set_xlim(0., 20.)\n",
    "axs[1].set_ylim(1.e-32, 1.e9)\n",
    "axs[1].set_yscale(\"log\")\n",
    "\n",
    "axs[2].scatter(x_power, Ypower, label=\"Unmodified\", marker=\"o\", facecolor=\"blue\")\n",
    "axs[2].scatter(x_power, Ypower_clip, label=\"Clipped\", marker=\"o\", facecolor=\"none\", edgecolor=\"orange\")\n",
    "axs[2].scatter(x_power, Ypower_window_clip, label=\"Clipped*windowed\", marker=\"o\", facecolor=\"none\", edgecolor=\"green\")\n",
    "axs[2].set_xlabel(\"Spectral index\")\n",
    "axs[2].set_ylabel(\"Power (zoomed)\")\n",
    "axs[2].set_xlim(0., 20.)\n",
    "axs[2].set_ylim(1.e-7, 1.e9)\n",
    "axs[2].set_yscale(\"log\")\n",
    "\n"
   ]
  },
  {
   "cell_type": "markdown",
   "metadata": {},
   "source": [
    "## CO$_2$ Data\n",
    "\n",
    "These are real data, but are not a power of 2. In this case, we need to pad the input distribution. You can check the effect of windowing with the \"window\" method. "
   ]
  },
  {
   "cell_type": "code",
   "execution_count": null,
   "metadata": {},
   "outputs": [],
   "source": [
    "from read_co2 import read_co2\n",
    "import math\n",
    "\n",
    "window = True\n",
    "\n",
    "# Read like previous example with CO2 data\n",
    "x,y = read_co2('co2_mm_mlo.txt')\n",
    "y_valid = y >= 0.\n",
    "y = y[y_valid]\n",
    "\n",
    "# instead of truncating, pad with values\n",
    "\n",
    "N = len(y)\n",
    "log2N = math.log(N, 2)\n",
    "next_pow_of_2 = int(log2N) + 1\n",
    "if log2N - int(log2N) > 0.0 :    \n",
    "    ypads = np.full( 2**( next_pow_of_2) - N, 300, dtype=np.double)\n",
    "    y = np.concatenate( (y, ypads) )\n",
    "    # CAREFUL: When you pad, the x axis becomes somewhat \"meaningless\" for the padded values, \n",
    "    # so typically it is best to just consider it an index\n",
    "    x = np.arange(len(y))\n",
    "    N = len(y)\n",
    "    # Apply a window to reduce ringing from the 2^n cutoff\n",
    "    if window : \n",
    "        y = y * (0.5 - 0.5 * np.cos(2*np.pi*x/(N-1)))\n",
    "                \n",
    "\n",
    "Y = fft(y)\n",
    "Y_abs = abs(Y)\n",
    "powery = fft_power(Y)\n",
    "powerx = np.arange(powery.size)\n",
    "\n",
    "f1 = plt.figure(1)\n",
    "plt.plot( x, y )\n",
    "plt.xlabel(\"Index\")\n",
    "plt.ylabel(\"CO$_2$ Concentration\")\n",
    "\n",
    "f2 = plt.figure(2)\n",
    "plt.plot( powerx, powery, label=\"Power\" )\n",
    "plt.plot( x, Y_abs, label=\"Magnitude\" )\n",
    "plt.xlim([0,N/4])\n",
    "plt.legend()\n",
    "plt.yscale('log')\n",
    "plt.xlabel(\"Spectral Index\")\n",
    "plt.ylabel(\"Fourier Component\")\n",
    "\n",
    "plt.show()\n",
    "\n"
   ]
  },
  {
   "cell_type": "code",
   "execution_count": null,
   "metadata": {},
   "outputs": [],
   "source": []
  }
 ],
 "metadata": {
  "kernelspec": {
   "display_name": "Python 3 (ipykernel)",
   "language": "python",
   "name": "python3"
  },
  "language_info": {
   "codemirror_mode": {
    "name": "ipython",
    "version": 3
   },
   "file_extension": ".py",
   "mimetype": "text/x-python",
   "name": "python",
   "nbconvert_exporter": "python",
   "pygments_lexer": "ipython3",
   "version": "3.12.3"
  }
 },
 "nbformat": 4,
 "nbformat_minor": 4
}
