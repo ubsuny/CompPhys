{
 "cells": [
  {
   "cell_type": "markdown",
   "metadata": {},
   "source": [
    "# Demonstrate the FFT\n",
    "\n",
    "Here we demonstrate how the FFT works on two cases:\n",
    "\n",
    "1. A single-frequency sine wave\n",
    "1. The [input CO$_2$ data from Mauna Loa Observatory](https://www.esrl.noaa.gov/gmd/ccgg/trends/)\n",
    "\n",
    "In each case, we will look at the waveform in the \"time\" domain (which can also be the spatial domain depending on your dataset). We will take the FFT to transform to the \"frequency\" domain. However, *be extremely careful* with the FFT because the $x$-axis is *NOT* the frequency, but the spectral index. Given $N$ samples in the FFT, the true frequency $f$ is related to the spectral index $k$ by\n",
    "\n",
    "\n",
    "$f = k/N$\n",
    "\n",
    "In this case, $N = 1024$ and $k = 10$, so if the $x$ axis in the time domain is assumed to be in seconds, the frequency is $f=0.0098$ Hz. \n",
    "\n"
   ]
  },
  {
   "cell_type": "code",
   "execution_count": null,
   "metadata": {},
   "outputs": [],
   "source": [
    "import matplotlib.pyplot as plt\n",
    "\n",
    "from fft import fft, discrete_transform, fft_numba\n",
    "import numpy as np\n",
    "from numpy import pi\n",
    "import math\n",
    "import numba"
   ]
  },
  {
   "cell_type": "code",
   "execution_count": null,
   "metadata": {},
   "outputs": [],
   "source": [
    "# Make the plots a bit bigger to see\n",
    "# NOTE: Must be done in a separate cell\n",
    "plt.rcParams['figure.dpi'] = 100"
   ]
  },
  {
   "cell_type": "markdown",
   "metadata": {},
   "source": [
    "## Simple Sine Wave"
   ]
  },
  {
   "cell_type": "code",
   "execution_count": null,
   "metadata": {},
   "outputs": [],
   "source": [
    "N = 1024 # number of samples\n",
    "k = 10.0 # frequency = k / N\n",
    "x = np.arange(N) \n",
    "y = np.sin(-2. * np.pi * (k / N) * x)  # Recall sin(wx) = sin(2 pi f x)\n",
    "Y = fft(y)  # Our FFT implementation\n",
    "Ynp = np.fft.fft(y) # Numpy's FFT implementation\n",
    "Y_abs = abs(Y)\n",
    "Ynp_abs = abs(Y)\n",
    "\n",
    "\n",
    "fig, axs = plt.subplots(2, 1, figsize=(6, 6))\n",
    "axs[0].plot( x, y )\n",
    "axs[0].set_xlabel('x')\n",
    "axs[0].set_ylabel('y')\n",
    "\n",
    "axs[1].scatter( x, Y_abs, label=\"our fft\", facecolors=\"blue\")\n",
    "axs[1].scatter( x, Ynp_abs, label=\"numpy fft\", facecolors=\"none\", edgecolors=\"orange\")\n",
    "axs[1].set_ylabel('Fourier Component')\n",
    "axs[1].set_xlabel('Spectral Index')\n",
    "axs[1].legend(loc=\"upper center\")\n",
    "#axs[1].set_xlim([0,20])\n",
    "\n",
    "plt.show()"
   ]
  },
  {
   "cell_type": "code",
   "execution_count": null,
   "metadata": {
    "scrolled": true
   },
   "outputs": [],
   "source": [
    "# Just for fun, let's compare the performance\n",
    "print(\"Our FFT:\")\n",
    "%timeit Y_fft = fft(y)  # Our FFT implementation\n",
    "print(\"Numpy FFT:\")\n",
    "%timeit Y_np = np.fft.fft(y) # Numpy's FFT implementation\n",
    "print(\"Our FFT with numba:\")\n",
    "%timeit Y_fft_numba = fft_numba(y) # Our FFT implemention with numba.njit\n",
    "print(\"Discrete FT:\")\n",
    "%timeit Y_dft = discrete_transform(y)  # Our FFT implementation\n"
   ]
  },
  {
   "cell_type": "markdown",
   "metadata": {},
   "source": [
    "## CO$_2$ Data"
   ]
  },
  {
   "cell_type": "code",
   "execution_count": null,
   "metadata": {},
   "outputs": [],
   "source": [
    "from read_co2 import read_co2\n",
    "\n",
    "x,y = read_co2('co2_mm_mlo.txt')\n",
    "\n",
    "y_valid = y >= 0.\n",
    "y = y[y_valid]\n",
    "x = x[y_valid]\n",
    "\n",
    "y =y[0:512]\n",
    "x =x[0:512]\n",
    "Y = fft(y)\n",
    "print(len(Y))\n",
    "\n",
    "Y_abs = abs(Y)\n",
    "\n",
    "power = np.zeros(257)\n",
    "power[0] = abs(Y[0])**2\n",
    "power[256] = abs(Y[256])**2\n",
    "power[1:256] = abs(Y[1:256])**2 + abs(Y[511:257-1:-1])**2\n",
    "power = power / 512\n",
    "\n",
    "plt.rcParams['xtick.bottom'] = True\n",
    "plt.rcParams['xtick.top'] = True\n",
    "plt.rcParams['xtick.direction'] = 'in'\n",
    "plt.rcParams['ytick.left'] = True\n",
    "plt.rcParams['ytick.right'] = True\n",
    "plt.rcParams['ytick.direction'] = 'in'\n",
    "\n",
    "fig, axs = plt.subplots(2, 1, figsize=(6, 6))\n",
    "axs[0].plot(x, y)\n",
    "axs[0].set_xlabel(\"Date\")\n",
    "axs[0].set_ylabel(\"CO2 [ppm]\")\n",
    "\n",
    "x_mag = np.linspace(0, len(x), len(x))\n",
    "axs[1].plot(x_mag, Y_abs, label=\"Magnitude\")\n",
    "axs[1].set_xlabel('Spectral Index')\n",
    "axs[1].set_ylabel('Fourier Component')\n",
    "axs[1].set_yscale('log')\n",
    "\n",
    "x_power = np.linspace(0, 257, 257)\n",
    "axs[1].plot(x_power, power, label=\"Power\")\n",
    "axs[1].legend()\n",
    "axs[1].xaxis.get_ticklocs(minor=True)\n",
    "axs[1].yaxis.get_ticklocs(minor=True)\n",
    "axs[1].minorticks_on()\n",
    "#axs[1].tick_params(axis='x', which='minor', bottom=True, top=True)\n",
    "#axs[1].tick_params(axis='y', which='minor', bottom=True, top=True)\n",
    "\n",
    "plt.show()\n",
    "\n"
   ]
  },
  {
   "cell_type": "markdown",
   "metadata": {},
   "source": [
    "The \"spectral index\" is a bit abstract, so let's convert it to a more human-friendly unit. The x-axis has units of \"months,\" so we let's try converting the spectral index to a period (=1/frequency). \n",
    "\n",
    "The units reasoning goes like this: our Fourier transform components take the form $\\sin(2\\pi \\frac{k}{N} x)$, where $k$ is the spectral index (ranging from 0 to $N-1$), $N$ is the number of measurements, and $x$ is the month. Remembering that the frequency of a sine wave, $f$, is used like $\\sin(2\\pi f x)$, we have $f=k/N$. Finally, the period is just the inverse of the frequency, $T=1/f=k/N$. "
   ]
  },
  {
   "cell_type": "code",
   "execution_count": null,
   "metadata": {},
   "outputs": [],
   "source": [
    "fig2, axs2 = plt.subplots(3, 1, figsize=(6, 9))\n",
    "axs2[0].plot(x, y)\n",
    "axs2[0].set_xlabel(\"Date\")\n",
    "axs2[0].set_ylabel(\"CO2 [ppm]\")\n",
    "\n",
    "x_mag = np.linspace(0, len(x), len(x))\n",
    "axs2[1].plot(x_mag, Y_abs, label=\"Magnitude\")\n",
    "axs2[1].set_xlabel('Spectral Index')\n",
    "axs2[1].set_ylabel('Fourier Component')\n",
    "axs2[1].set_yscale('log')\n",
    "\n",
    "x_power = np.linspace(0, 257, 257)\n",
    "axs2[1].plot(x_power, power, label=\"Power\")\n",
    "axs2[1].legend()\n",
    "axs2[1].xaxis.get_ticklocs(minor=True)\n",
    "axs2[1].yaxis.get_ticklocs(minor=True)\n",
    "axs2[1].minorticks_on()\n",
    "#axs[1].tick_params(axis='x', which='minor', bottom=True, top=True)\n",
    "#axs[1].tick_params(axis='y', which='minor', bottom=True, top=True)\n",
    "\n",
    "x_period_mag = len(x) / x_mag\n",
    "axs2[2].plot(x_period_mag, Y_abs, label=\"Magnitude\")\n",
    "axs2[2].set_xlabel('Period [month]')\n",
    "axs2[2].set_ylabel('Fourier Component')\n",
    "#axs[2].set_xscale('log')\n",
    "axs2[2].set_xlim([0., 36.])\n",
    "axs2[2].set_yscale('log')\n",
    "\n",
    "x_period_power = len(x) / x_power\n",
    "axs2[2].plot(x_period_power, power, label=\"Power\")\n",
    "axs2[2].legend()\n",
    "axs2[2].xaxis.get_ticklocs(minor=True)\n",
    "axs2[2].yaxis.get_ticklocs(minor=True)\n",
    "axs2[2].minorticks_on()\n",
    "#axs[1].tick_params(axis='x', which='minor', bottom=True, top=True)\n",
    "#axs[1].tick_params(axis='y', which='minor', bottom=True, top=True)\n",
    "\n",
    "plt.show()\n",
    "\n"
   ]
  },
  {
   "cell_type": "code",
   "execution_count": null,
   "metadata": {},
   "outputs": [],
   "source": []
  }
 ],
 "metadata": {
  "kernelspec": {
   "display_name": "Python 3 (ipykernel)",
   "language": "python",
   "name": "python3"
  },
  "language_info": {
   "codemirror_mode": {
    "name": "ipython",
    "version": 3
   },
   "file_extension": ".py",
   "mimetype": "text/x-python",
   "name": "python",
   "nbconvert_exporter": "python",
   "pygments_lexer": "ipython3",
   "version": "3.12.3"
  }
 },
 "nbformat": 4,
 "nbformat_minor": 4
}
