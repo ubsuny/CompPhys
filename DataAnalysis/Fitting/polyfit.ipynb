{
 "cells": [
  {
   "cell_type": "markdown",
   "id": "f9097118-3076-414b-9536-39f3452da52e",
   "metadata": {},
   "source": [
    "# Numpy polynomial fitting\n",
    "Demonstrates simple usage of numpy.polynomial.polynomial.polyfit."
   ]
  },
  {
   "cell_type": "code",
   "execution_count": null,
   "id": "c8809a14-e763-4436-b4aa-a1492bc02e8a",
   "metadata": {},
   "outputs": [],
   "source": [
    "import math\n",
    "import numpy as np\n",
    "import matplotlib.pyplot as plt\n",
    "import numpy.polynomial as poly\n"
   ]
  },
  {
   "cell_type": "code",
   "execution_count": null,
   "id": "66662784-00df-42b7-b3c7-dd3fb092c68a",
   "metadata": {},
   "outputs": [],
   "source": [
    "# Generate data\n",
    "\n",
    "# x: random numbers from -10 to 10\n",
    "x = np.random.rand(1000) * 20 - 10\n",
    "\n",
    "# y: cubic equation with some random scatter\n",
    "def add_unc(y, unc=2):\n",
    "    '''\n",
    "    Smear points by a gaussian\n",
    "    '''\n",
    "    unc = np.random.normal(y, unc)\n",
    "    return unc\n",
    "a0 = 1\n",
    "a1 = -0.2\n",
    "a2 = -0.6\n",
    "a3 = 0.1\n",
    "y = add_unc(a0 + a1*x + a2*x**2 + a3*x**3)\n",
    "\n",
    "fig, ax = plt.subplots()\n",
    "ax.scatter(x, y)"
   ]
  },
  {
   "cell_type": "code",
   "execution_count": null,
   "id": "3a36628b-5699-4b39-a4fd-d2ba16455bb0",
   "metadata": {},
   "outputs": [],
   "source": [
    "# Weight = 1/sigma\n",
    "y_errs = np.ones_like(y) * 2.0\n",
    "weights = 1. / y_errs\n",
    "poly_coeffs = poly.polynomial.polyfit(x, y, 3, w=weights)\n",
    "\n",
    "fit_x = np.linspace(-10, 10, 100)\n",
    "fit_y = poly.polynomial.polyval(fit_x, poly_coeffs)\n",
    "fig, axs = plt.subplots(2, 1, figsize=(6, 6), height_ratios=[3, 1])\n",
    "axs[0].scatter(x, y)\n",
    "axs[0].plot(fit_x, fit_y, color=\"red\")\n",
    "\n",
    "# Pulls\n",
    "fit_pulls = (y - poly.polynomial.polyval(x, poly_coeffs)) / y_errs\n",
    "axs[1].scatter(x, fit_pulls)\n",
    "axs[1].set_ylabel(r\"$\\frac{(y - y_{fit})}{y_{err}}$\")\n",
    "\n",
    "# Pull distribution\n",
    "fig_pull, ax_pull = plt.subplots(1, 1)\n",
    "bins = np.arange(-5.0, 5.5, 0.5)\n",
    "pull_hist = plt.hist(fit_pulls, bins=bins)\n",
    "print(pull_hist)\n",
    "ax_pull.stairs(pull_hist[0], bins)"
   ]
  },
  {
   "cell_type": "code",
   "execution_count": null,
   "id": "78d7dcae-404d-440d-a72c-b31fe631ab9a",
   "metadata": {},
   "outputs": [],
   "source": [
    "# Compare different fit functions\n",
    "x = np.linspace(-1.0, 1.0, 21)\n",
    "y = 1. / (1 + 25*x**2)\n",
    "fig, ax = plt.subplots(1, 1)\n",
    "ax.scatter(x, y)"
   ]
  },
  {
   "cell_type": "code",
   "execution_count": null,
   "id": "f085a937-003a-45de-acdd-1df07a628a6c",
   "metadata": {},
   "outputs": [],
   "source": [
    "# Polynomials of different orders\n",
    "fig, ax = plt.subplots(1, 1, figsize=(6, 4))\n",
    "ax.scatter(x, y)\n",
    "poly_coeffs = {}\n",
    "fit_x = np.linspace(-1.0, 1.0, 200)\n",
    "fit_y = {}\n",
    "for order in range(0, 21, 2):\n",
    "    poly_coeffs = poly.polynomial.polyfit(x, y, order)\n",
    "    fit_y[order] = poly.polynomial.polyval(fit_x, poly_coeffs)\n",
    "    ax.plot(fit_x, fit_y[order], label=order)\n",
    "ax.set_ylim([-0.1, 1.5])\n",
    "ax.legend()\n"
   ]
  },
  {
   "cell_type": "code",
   "execution_count": null,
   "id": "a2866ef4-a84f-47b7-8645-a83725b237c5",
   "metadata": {},
   "outputs": [],
   "source": [
    "# Polynomial vs. Chebyshev\n",
    "order = 16\n",
    "fig, ax = plt.subplots(1, 1, figsize=(6, 4))\n",
    "ax.scatter(x, y)\n",
    "poly_coeffs = poly.polynomial.polyfit(x, y, order)\n",
    "fit_x = np.linspace(-1.0, 1.0, 200)\n",
    "fit_y = {}\n",
    "fit_y[\"poly\"] = poly.polynomial.polyval(fit_x, poly_coeffs)\n",
    "ax.plot(fit_x, fit_y[\"poly\"], label=f\"Poly. {order}\")\n",
    "\n",
    "# Chebyshev: choose measurement points at Chebyshev nodes\n",
    "cheby_x = poly.chebyshev.chebpts1(21)\n",
    "cheby_y = 1. / (1. + 25 * cheby_x**2)\n",
    "cheby_coeffs = poly.chebyshev.chebfit(cheby_x, cheby_y, order)\n",
    "fit_y[\"cheby\"] = poly.chebyshev.chebval(fit_x, cheby_coeffs)\n",
    "ax.plot(fit_x, fit_y[\"cheby\"], label=f\"Cheby. {order}\")\n",
    "ax.set_ylim([-0.1, 1.5])\n",
    "ax.legend()\n",
    "\n",
    "# Print coefficients to anticipate numerical issues\n",
    "print(\"Polynomial coefficients:\")\n",
    "print(poly_coeffs)\n",
    "print(\"Chebyshev coefficients:\")\n",
    "print(cheby_coeffs)"
   ]
  },
  {
   "cell_type": "code",
   "execution_count": null,
   "id": "95c90112-870b-4572-96db-f6399665a204",
   "metadata": {},
   "outputs": [],
   "source": [
    "a = 1.e15 + 4321.123456789\n",
    "b = 1.e15\n",
    "a - b"
   ]
  },
  {
   "cell_type": "code",
   "execution_count": null,
   "id": "134b44e3-63ac-4636-85b8-82fcd1cc46b5",
   "metadata": {},
   "outputs": [],
   "source": []
  }
 ],
 "metadata": {
  "kernelspec": {
   "display_name": "Python 3 (ipykernel)",
   "language": "python",
   "name": "python3"
  },
  "language_info": {
   "codemirror_mode": {
    "name": "ipython",
    "version": 3
   },
   "file_extension": ".py",
   "mimetype": "text/x-python",
   "name": "python",
   "nbconvert_exporter": "python",
   "pygments_lexer": "ipython3",
   "version": "3.12.3"
  }
 },
 "nbformat": 4,
 "nbformat_minor": 5
}
