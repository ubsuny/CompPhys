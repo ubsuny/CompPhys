{
 "cells": [
  {
   "cell_type": "markdown",
   "metadata": {},
   "source": [
    "# Fitting for the Hubble constant with supernovae\n",
    "\n",
    "We will now use a linear $\\chi^2$ fit with uncertainties to fit the Hubble constant again with the redshift of supernovae by using data from [here](http://dark.dark-cosmology.dk/~tamarad/SN/). "
   ]
  },
  {
   "cell_type": "code",
   "execution_count": null,
   "metadata": {},
   "outputs": [],
   "source": [
    "import math\n",
    "import numpy as np\n",
    "import scipy\n",
    "import matplotlib.pyplot as plt\n",
    "\n",
    "from chi_square_fit import chi_square_fit"
   ]
  },
  {
   "cell_type": "code",
   "execution_count": null,
   "metadata": {},
   "outputs": [],
   "source": [
    "# Make the plots a bit bigger to see\n",
    "# NOTE: Must be done in a separate cell\n",
    "plt.rcParams['figure.dpi'] = 100"
   ]
  },
  {
   "cell_type": "code",
   "execution_count": null,
   "metadata": {},
   "outputs": [],
   "source": [
    "print (' Chi-square fit of supernova data to a straight line')\n",
    "print (' Reference: http://dark.dark-cosmology.dk/~tamarad/SN/')\n",
    "\n",
    "\n",
    "data = np.genfromtxt(fname='Davis07_R07_WV07.dat', usecols=range(1,4),comments=';')\n",
    "\n",
    "\n",
    "logz_data = np.log10(data[:,0])\n",
    "mu_data = data[:,1]\n",
    "mu_err_data = data[:,2]\n",
    "\n",
    "selection = mu_err_data < 0.0000001\n",
    "if mu_err_data[ selection ].any():\n",
    "    print ('Error! Uncertainties are too small!')\n",
    "    exit()\n",
    "\n",
    "plt.errorbar( logz_data, mu_data , yerr=mu_err_data, fmt=\".\")\n",
    "\n",
    "a, b, sigma_a, sigma_b, chi2 = chi_square_fit(logz_data, mu_data, mu_err_data)\n",
    "print(f\"slope = {b} +- {sigma_b}\")\n",
    "print(f\"intercept = {a} +- {sigma_a}\")\n",
    "\n",
    "ndof = len(data) - 2\n",
    "if ndof > 0:\n",
    "    print (f\"chi-square/d.o.f. = {chi2} / {ndof} = {chi2 / ndof}\")\n",
    "else :\n",
    "    print (\"chi-square/d.o.f. undefined\")\n",
    "\n",
    "logz_data_vals = np.linspace(-2,0.5,10)\n",
    "fitline = fit[0] + fit[1] * logz_data_vals\n",
    "plt.plot(logz_data_vals,fitline)\n",
    "plt.xlabel(\"logarithm of redshift\")\n",
    "plt.ylabel(\"distance modulus mu\")\n",
    "plt.show()"
   ]
  },
  {
   "cell_type": "code",
   "execution_count": null,
   "metadata": {},
   "outputs": [],
   "source": [
    "# p value of the fit\n",
    "pval = 1. - scipy.stats.chi2.cdf(chi2, ndof)\n",
    "print(f\"p value = {pval}\")"
   ]
  },
  {
   "cell_type": "code",
   "execution_count": null,
   "metadata": {},
   "outputs": [],
   "source": []
  },
  {
   "cell_type": "code",
   "execution_count": null,
   "metadata": {},
   "outputs": [],
   "source": []
  }
 ],
 "metadata": {
  "kernelspec": {
   "display_name": "Python 3 (ipykernel)",
   "language": "python",
   "name": "python3"
  },
  "language_info": {
   "codemirror_mode": {
    "name": "ipython",
    "version": 3
   },
   "file_extension": ".py",
   "mimetype": "text/x-python",
   "name": "python",
   "nbconvert_exporter": "python",
   "pygments_lexer": "ipython3",
   "version": "3.13.2"
  }
 },
 "nbformat": 4,
 "nbformat_minor": 4
}
