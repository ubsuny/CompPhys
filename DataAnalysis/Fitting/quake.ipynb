{
 "cells": [
  {
   "cell_type": "markdown",
   "metadata": {},
   "source": [
    "# Fitting data for the Gutenberg-Richter Model of Earthquake Magnitudes\n",
    "\n",
    "Here, we plot the curve of the number of earthquakes\n",
    "greater than magnitude M, for each M value.\n",
    "\n",
    "So, we loop over the earthquakes, and store the\n",
    "frequency of each magnitude. At the end of the loop,\n",
    "we compute the cumulative distribution such that the\n",
    "value at magnitude M will be the integral of the frequency\n",
    "distribution for >= M. This is what the Gutenberg-Richter\n",
    "Model predicts. \n",
    "\n",
    "The data we use are from [here](http://earthquake.usgs.gov/earthquakes/search/). "
   ]
  },
  {
   "cell_type": "code",
   "execution_count": null,
   "metadata": {},
   "outputs": [],
   "source": [
    "import math\n",
    "import numpy as np\n",
    "import matplotlib.pyplot as plt\n",
    "\n",
    "from least_squares import least_squares"
   ]
  },
  {
   "cell_type": "code",
   "execution_count": null,
   "metadata": {},
   "outputs": [],
   "source": [
    "# Make the plots a bit bigger to see\n",
    "# NOTE: Must be done in a separate cell\n",
    "plt.rcParams['figure.dpi'] = 100"
   ]
  },
  {
   "cell_type": "code",
   "execution_count": null,
   "metadata": {},
   "outputs": [],
   "source": [
    "\n",
    "\n",
    "# data downloaded from http://earthquake.usgs.gov/earthquakes/search/\n",
    "print (' Earthquake data: Gutenberg-Richter Model')\n",
    "\n",
    "magvalues = np.genfromtxt(fname='california_earthquakes_2010_to_2013.csv', usecols=(4),skip_header=1, delimiter=',')\n",
    "dN_values,edges = np.histogram(magvalues,bins=90)\n",
    "\n",
    "# x data = M values sorted in increasing order\n",
    "# y data = log_10(N) where N = number of events with magnitude >= M\n",
    "M_values = edges[:-1]\n",
    "log10N_values = np.log10( np.cumsum(dN_values) )\n",
    "\n",
    "# perform a least square fit\n",
    "fit = least_squares(M_values, log10N_values)\n",
    "\n",
    "plt.figure(1)\n",
    "plt.hist( magvalues, bins=90, range=[1.0,10.0], log=True, bottom=0.1,cumulative=-1)\n",
    "plt.xlabel( 'Magnitude (M)' )\n",
    "plt.ylabel( 'N' )\n",
    "\n",
    "print (' least_squares fit to data:')\n",
    "print (' slope b = {0:6.3f} +- {1:6.3f}'.format( fit[1], fit[4]))\n",
    "print (' intercept a = {0:6.3f} +- {1:6.3f}'.format( fit[0], fit[3]))\n",
    "print (' log_10(N) error bar = {0:6.3f}'.format( fit[2] ))\n",
    "\n",
    "plt.show()\n"
   ]
  },
  {
   "cell_type": "code",
   "execution_count": null,
   "metadata": {},
   "outputs": [],
   "source": []
  }
 ],
 "metadata": {
  "kernelspec": {
   "display_name": "Python 3 (ipykernel)",
   "language": "python",
   "name": "python3"
  },
  "language_info": {
   "codemirror_mode": {
    "name": "ipython",
    "version": 3
   },
   "file_extension": ".py",
   "mimetype": "text/x-python",
   "name": "python",
   "nbconvert_exporter": "python",
   "pygments_lexer": "ipython3",
   "version": "3.13.2"
  }
 },
 "nbformat": 4,
 "nbformat_minor": 4
}
