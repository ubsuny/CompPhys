{
 "cells": [
  {
   "cell_type": "markdown",
   "metadata": {},
   "source": [
    "# Fitting data for the Gutenberg–Richter Model of Earthquake Magnitudes\n",
    "\n",
    "Here, we plot the curve of the number of earthquakes\n",
    "greater than magnitude M, for each M value.\n",
    "\n",
    "So, we loop over the earthquakes, and store the\n",
    "frequency of each magnitude. At the end of the loop,\n",
    "we compute the cumulative distribution such that the\n",
    "value at magnitude M will be the integral of the frequency\n",
    "distribution for >= M. This is what the Gutenberg-Richter\n",
    "Model predicts. \n",
    "\n",
    "The data we use are from [here](http://earthquake.usgs.gov/earthquakes/search/). "
   ]
  },
  {
   "cell_type": "code",
   "execution_count": null,
   "metadata": {},
   "outputs": [],
   "source": [
    "import math\n",
    "import numpy as np\n",
    "import matplotlib.pyplot as plt\n",
    "\n",
    "from least_squares import least_squares"
   ]
  },
  {
   "cell_type": "code",
   "execution_count": null,
   "metadata": {},
   "outputs": [],
   "source": [
    "# Make the plots a bit bigger to see\n",
    "# NOTE: Must be done in a separate cell\n",
    "plt.rcParams['figure.dpi'] = 100"
   ]
  },
  {
   "cell_type": "code",
   "execution_count": null,
   "metadata": {},
   "outputs": [],
   "source": [
    "# data downloaded from http://earthquake.usgs.gov/earthquakes/search/\n",
    "print ('Earthquake data: Gutenberg-Richter Model')\n",
    "magvalues = np.genfromtxt(fname='california_earthquakes_2010_to_2013.csv', usecols=(4), skip_header=1, delimiter=',')\n",
    "print(magvalues)"
   ]
  },
  {
   "cell_type": "code",
   "execution_count": null,
   "metadata": {},
   "outputs": [],
   "source": [
    "dN_values, edges = np.histogram(magvalues,bins=90)\n",
    "\n",
    "# x data = M values sorted in increasing order\n",
    "# y data = log_10(N) where N = number of events with magnitude >= M\n",
    "M_values = edges[:-1] # Take the left edge of each bin, since we are integrating from there upwards\n",
    "log10N_values = np.log10(np.cumsum(dN_values[::-1]))[::-1] # np.cumsum() sums from 0 to i, we want i to the end. So, just reverse the array before calling np.cumsum(). \n",
    "print(log10N_values)\n",
    "\n",
    "# perform a least square fit\n",
    "yint, slope, sigma, sigma_yint, sigma_slope = least_squares(M_values, log10N_values)\n",
    "print ('least_squares fit to data:')\n",
    "print (f'slope = {slope:6.3f} +- {sigma_slope:6.3f}')\n",
    "print (f'intercept = {sigma_yint:6.3f} +- {sigma_yint:6.3f}')\n",
    "print (f'log_10(N) variance = {sigma:6.3f}')\n",
    "\n",
    "# Make fit function to plot\n",
    "fit_y = yint + slope * M_values\n",
    "\n",
    "fig, ax = plt.subplots(1, 1, figsize=(6, 4))\n",
    "ax.scatter(edges[:-1], 10**log10N_values)\n",
    "ax.plot(M_values, 10**fit_y)\n",
    "ax.set_xlabel(\"Magnitude (M)\")\n",
    "ax.set_ylabel(r\"N ($\\geq$M)\")\n",
    "ax.set_yscale(\"log\")\n",
    "\n",
    "#plt.figure(1)\n",
    "#plt.hist(magvalues, bins=90, range=[1.0,10.0], log=True, bottom=0.1,cumulative=-1)\n",
    "#plt.xlabel( 'Magnitude (M)' )\n",
    "#plt.ylabel( 'N' )\n",
    "\n",
    "# Same plot but linear y scale\n",
    "fig2, ax2 = plt.subplots(1, 1, figsize=(6, 4))\n",
    "ax2.scatter(edges[:-1], 10**log10N_values)\n",
    "ax2.plot(M_values, 10**fit_y)\n",
    "ax2.set_xlabel(\"Magnitude (M)\")\n",
    "ax2.set_ylabel(r\"N ($\\geq$M)\")\n"
   ]
  },
  {
   "cell_type": "code",
   "execution_count": null,
   "metadata": {},
   "outputs": [],
   "source": [
    "# Try to improve the fit\n",
    "# https://doi.org/10.1063/1.1387590 only fits M>4, let's try that.\n",
    "# Also, wider bins\n",
    "threshold = 4.0\n",
    "binwidth = 0.5\n",
    "\n",
    "magvalues = np.genfromtxt(fname='california_earthquakes_2010_to_2013.csv', usecols=(4), skip_header=1, delimiter=',')\n",
    "magvalues = magvalues[magvalues > 4]\n",
    "\n",
    "magmin = np.min(magvalues)\n",
    "magmax = np.max(magvalues)\n",
    "binmin = math.floor(magmin / binwidth) * binwidth\n",
    "binmax = math.ceil(magmax / binwidth) * binwidth\n",
    "print(binmin)\n",
    "print(binmax)\n",
    "\n",
    "bins = np.arange(binmin, binmax + binwidth, binwidth)\n",
    "dN_values, edges = np.histogram(magvalues, bins=bins)\n",
    "#print(dN_values)\n",
    "#print(edges)\n",
    "\n",
    "# x data = M values sorted in increasing order\n",
    "# y data = log_10(N) where N = number of events with magnitude >= M\n",
    "M_values = edges[:-1] # Take the midpoint of each bin\n",
    "log10N_values = np.log10(np.cumsum(dN_values[::-1]))[::-1] # np.cumsum() sums from 0 to i, we want i to the end. So, just reverse the array before calling np.cumsum(). \n",
    "np.nan_to_num(log10N_values) # Protect against nans, least_squares can't handle them\n",
    "\n",
    "# perform a least square fit\n",
    "yint, slope, sigma, sigma_yint, sigma_slope = least_squares(M_values, log10N_values)\n",
    "print ('least_squares fit to data:')\n",
    "print (f'slope = {slope:6.3f} +- {sigma_slope:6.3f}')\n",
    "print (f'intercept = {sigma_yint:6.3f} +- {sigma_yint:6.3f}')\n",
    "print (f'log_10(N) variance = {sigma:6.3f}')\n",
    "\n",
    "# Make fit function to plot\n",
    "fit_y = yint + slope * M_values\n",
    "\n",
    "fig, ax = plt.subplots(1, 1, figsize=(6, 4))\n",
    "ax.scatter(edges[:-1], 10**log10N_values)\n",
    "ax.plot(M_values, 10**fit_y)\n",
    "ax.set_xlabel(\"Magnitude (M)\")\n",
    "ax.set_ylabel(r\"N ($\\geq$M)\")\n",
    "ax.set_yscale(\"log\")\n",
    "\n",
    "#plt.figure(1)\n",
    "#plt.hist(magvalues, bins=90, range=[1.0,10.0], log=True, bottom=0.1,cumulative=-1)\n",
    "#plt.xlabel( 'Magnitude (M)' )\n",
    "#plt.ylabel( 'N' )\n",
    "\n",
    "fig2, ax2 = plt.subplots(1, 1, figsize=(6, 4))\n",
    "ax2.scatter(edges[:-1], 10**log10N_values)\n",
    "ax2.plot(M_values, 10**fit_y)\n",
    "ax2.set_xlabel(\"Magnitude (M)\")\n",
    "ax2.set_ylabel(r\"N ($\\geq$M)\")\n"
   ]
  },
  {
   "cell_type": "code",
   "execution_count": null,
   "metadata": {},
   "outputs": [],
   "source": []
  }
 ],
 "metadata": {
  "kernelspec": {
   "display_name": "Python 3 (ipykernel)",
   "language": "python",
   "name": "python3"
  },
  "language_info": {
   "codemirror_mode": {
    "name": "ipython",
    "version": 3
   },
   "file_extension": ".py",
   "mimetype": "text/x-python",
   "name": "python",
   "nbconvert_exporter": "python",
   "pygments_lexer": "ipython3",
   "version": "3.13.2"
  }
 },
 "nbformat": 4,
 "nbformat_minor": 4
}
