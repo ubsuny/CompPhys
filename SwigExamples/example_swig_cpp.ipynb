{
 "cells": [
  {
   "cell_type": "markdown",
   "metadata": {},
   "source": [
    "# Example of using C++ code in python and Jupyter with SWIG\n",
    "\n",
    "It is also possible to use our C++ code from python and Jupyter. This involves using the [SWIG](http://www.swig.org) package. You can download it [here](http://www.swig.org/survey.html) and then install following instructions [here](http://www.swig.org/Doc3.0/Preface.html#Preface_installation). If you are successful, you should be able to open a new terminal and type ```which swig``` to obtain the path of swig. \n",
    "\n",
    "The idea is then to use SWIG to automatically generate python-readable code from our C++/C libraries. There is a lot to learn in this regard, so we will try first with a simple example that illustrates some concepts we will need, such as using STL libraries and C++11 compilation. \n"
   ]
  },
  {
   "cell_type": "code",
   "execution_count": null,
   "metadata": {},
   "outputs": [],
   "source": [
    "import numpy as np\n",
    "import matplotlib.pyplot as plt\n",
    "import numba\n"
   ]
  },
  {
   "cell_type": "markdown",
   "metadata": {},
   "source": [
    "\n",
    "## Step 1 : Look at C++ files\n",
    "\n",
    "You should be able to see these two simple C++ files: \n"
   ]
  },
  {
   "cell_type": "code",
   "execution_count": null,
   "metadata": {},
   "outputs": [],
   "source": [
    "! cat swig_example/example.hpp swig_example/example.cpp "
   ]
  },
  {
   "cell_type": "markdown",
   "metadata": {},
   "source": [
    "\n",
    "\n",
    "## Step 2 : Look at SWIG interface file\n",
    "\n",
    "The magic of SWIG is to create wrapper C++ functions that use the \"cython\" interface. You will see an \"interface\" file for SWIG :"
   ]
  },
  {
   "cell_type": "code",
   "execution_count": null,
   "metadata": {},
   "outputs": [],
   "source": [
    "! cat swig_example/example.i "
   ]
  },
  {
   "cell_type": "markdown",
   "metadata": {},
   "source": [
    "## Step 3 : Look at SWIG setup file\n",
    "\n",
    "This tells SWIG to generate a file called ```example_wrap.cc``` using source from ```example.cpp``` with C++11. \n"
   ]
  },
  {
   "cell_type": "code",
   "execution_count": null,
   "metadata": {
    "scrolled": true
   },
   "outputs": [],
   "source": [
    "! cat swig_example/setup.py"
   ]
  },
  {
   "cell_type": "markdown",
   "metadata": {},
   "source": [
    "Now create the interface using the interface file. This will create two files, ```example_wrap.cxx``` and ```example.py```. They are not intended to be human-readable, so we don't need to look into them. "
   ]
  },
  {
   "cell_type": "markdown",
   "metadata": {},
   "source": [
    "## Step 4: Create SWIG interface from file"
   ]
  },
  {
   "cell_type": "code",
   "execution_count": null,
   "metadata": {},
   "outputs": [],
   "source": [
    "! swig -c++ -python swig_example/example.i "
   ]
  },
  {
   "cell_type": "markdown",
   "metadata": {},
   "source": [
    "## Step 5 : compile C++ and interface\n",
    "\n",
    "This will compile our file ```example.cpp``` along with ```example_wrap.cxx``` using the rules we set (for instance, using the C++11 compiler). \n",
    "\n",
    "We are now free to use this in python!"
   ]
  },
  {
   "cell_type": "code",
   "execution_count": null,
   "metadata": {},
   "outputs": [],
   "source": [
    "! python swig_example/setup.py build_ext --inplace"
   ]
  },
  {
   "cell_type": "markdown",
   "metadata": {},
   "source": [
    "\n",
    "## Step 6: Make profit: \n",
    "\n",
    "First we import the path correctly. "
   ]
  },
  {
   "cell_type": "code",
   "execution_count": null,
   "metadata": {},
   "outputs": [],
   "source": [
    "import sys\n",
    "import os\n",
    "\n",
    "sys.path.append( os.path.abspath(\"swig_example\") )\n",
    "\n",
    "print (sys.path)\n",
    "\n",
    "\n"
   ]
  },
  {
   "cell_type": "markdown",
   "metadata": {},
   "source": [
    "Next we import our actual function from \"example.py\""
   ]
  },
  {
   "cell_type": "code",
   "execution_count": null,
   "metadata": {},
   "outputs": [],
   "source": [
    "import example\n",
    "help(example)"
   ]
  },
  {
   "cell_type": "markdown",
   "metadata": {},
   "source": [
    "And finally, we can use our code: "
   ]
  },
  {
   "cell_type": "code",
   "execution_count": null,
   "metadata": {},
   "outputs": [],
   "source": [
    "a = example.vector_int([1,2,3])\n",
    "x = example.sum_int(a)\n",
    "print (x)\n"
   ]
  },
  {
   "cell_type": "markdown",
   "metadata": {},
   "source": [
    "# Success!\n",
    "Now let's compare with bare python, numba, and numpy."
   ]
  },
  {
   "cell_type": "code",
   "execution_count": null,
   "metadata": {},
   "outputs": [],
   "source": [
    "import numba\n",
    "import numpy as np\n",
    "\n",
    "def sum_int_py(arr):\n",
    "    total = 0\n",
    "    for x in arr:\n",
    "        total += x\n",
    "    return total\n",
    "\n",
    "@numba.jit(nopython=True)\n",
    "def sum_int_numba(arr):\n",
    "    total = 0\n",
    "    for x in arr:\n",
    "        total += x\n",
    "    return total\n",
    "sum_int_py([0, 1, 2, 3]) # Run it once to force compilation"
   ]
  },
  {
   "cell_type": "code",
   "execution_count": null,
   "metadata": {},
   "outputs": [],
   "source": [
    "arr_np = np.arange(1_000_000)\n",
    "print(\"Bare python:\")\n",
    "%timeit sum_int_py(arr_np)\n",
    "\n",
    "print(\"numpy built-in:\")\n",
    "%timeit np.sum(arr_np)\n",
    "\n",
    "print(\"numba:\")\n",
    "%timeit sum_int_numba(arr_np)\n",
    "\n",
    "arr_cpp = example.vector_int(range(1000000))\n",
    "print(\"swig:\")\n",
    "%timeit example.sum_int(arr_cpp)"
   ]
  },
  {
   "cell_type": "code",
   "execution_count": null,
   "metadata": {},
   "outputs": [],
   "source": [
    "# Finally, map out the performance to inspect the overhead\n",
    "xx = np.array([10**i for i in range(8)])\n",
    "t_py = np.zeros_like(xx, dtype=float)\n",
    "dt_py = np.zeros_like(xx, dtype=float)\n",
    "t_numba = np.zeros_like(xx, dtype=float)\n",
    "dt_numba = np.zeros_like(xx, dtype=float)\n",
    "t_numpy = np.zeros_like(xx, dtype=float)\n",
    "dt_numpy = np.zeros_like(xx, dtype=float)\n",
    "t_swig = np.zeros_like(xx, dtype=float)\n",
    "dt_swig = np.zeros_like(xx, dtype=float)\n",
    "\n",
    "for i in range(len(xx)):\n",
    "    print(f\"Test length {xx[i]}\")\n",
    "    print(\"Bare python\")\n",
    "    arr_np = np.arange(xx[i])\n",
    "    result_py = %timeit -o sum_int_py(arr_np)\n",
    "    t_py[i] = result_py.average\n",
    "    dt_py[i] = result_py.stdev\n",
    "\n",
    "    print(\"Numba\")\n",
    "    result_numba = %timeit -o sum_int_numba(arr_np)\n",
    "    t_numba[i] = result_numba.average\n",
    "    dt_numba[i] = result_numba.stdev\n",
    "\n",
    "    print(\"Numpy\")\n",
    "    result_numpy = %timeit -o np.sum(arr_np)\n",
    "    t_numpy[i] = result_numpy.average\n",
    "    dt_numpy[i] = result_numpy.stdev\n",
    "\n",
    "    print(\"Swig\")\n",
    "    arr_cpp = example.vector_int(range(xx[i]))\n",
    "    result_swig = %timeit -o example.sum_int(arr_cpp)\n",
    "    t_swig[i] = result_swig.average\n",
    "    dt_swig[i] = result_swig.stdev\n"
   ]
  },
  {
   "cell_type": "code",
   "execution_count": null,
   "metadata": {},
   "outputs": [],
   "source": [
    "fig, ax = plt.subplots(1, 1, figsize=(6, 4))\n",
    "ax.errorbar(xx, t_py, yerr=dt_py, color=\"red\", label=\"Bare python\")\n",
    "ax.errorbar(xx, t_numba, yerr=dt_numba, color=\"blue\", label=\"Numba\")\n",
    "ax.errorbar(xx, t_numpy, yerr=dt_numpy, color=\"green\", label=\"Numpy\")\n",
    "ax.errorbar(xx, t_swig, yerr=dt_swig, color=\"purple\", label=\"Swig\")\n",
    "ax.set_xlabel(\"Array length\")\n",
    "ax.set_xscale(\"log\")\n",
    "ax.set_ylabel(\"Time [s]\")\n",
    "ax.set_yscale(\"log\")\n",
    "ax.tick_params(which='both', direction=\"in\", top=True, bottom=True, left=True, right=True)\n",
    "ax.legend(loc=\"upper left\")"
   ]
  }
 ],
 "metadata": {
  "kernelspec": {
   "display_name": "Python 3 (ipykernel)",
   "language": "python",
   "name": "python3"
  },
  "language_info": {
   "codemirror_mode": {
    "name": "ipython",
    "version": 3
   },
   "file_extension": ".py",
   "mimetype": "text/x-python",
   "name": "python",
   "nbconvert_exporter": "python",
   "pygments_lexer": "ipython3",
   "version": "3.12.3"
  }
 },
 "nbformat": 4,
 "nbformat_minor": 4
}
